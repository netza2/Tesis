{
 "cells": [
  {
   "cell_type": "code",
   "execution_count": 2,
   "metadata": {},
   "outputs": [],
   "source": [
    "import cobra, cobra.test\n",
    "from cobra import Reaction, Metabolite, Model\n",
    "eco = cobra.test.create_test_model('ecoli')"
   ]
  },
  {
   "cell_type": "code",
   "execution_count": 14,
   "metadata": {},
   "outputs": [],
   "source": []
  },
  {
   "cell_type": "raw",
   "metadata": {},
   "source": [
    "\n"
   ]
  },
  {
   "cell_type": "code",
   "execution_count": 18,
   "metadata": {},
   "outputs": [
    {
     "name": "stdout",
     "output_type": "stream",
     "text": [
      "iscS:  frozenset([<Reaction MOADSUx at 0x7f677c6ece10>, <Reaction I2FE2SS at 0x7f677c7dccd0>, <Reaction I2FE2SR at 0x7f677c7dcc50>, <Reaction I2FE2SS2 at 0x7f677c7eb510>, <Reaction ICYSDS at 0x7f677c7ebed0>, <Reaction THZPSN3 at 0x7f677c43fed0>]) \n",
      "sufS:  frozenset([<Reaction S2FE2SR at 0x7f677c4b6190>, <Reaction S2FE2SS2 at 0x7f677c4b6a50>, <Reaction SCYSDS at 0x7f677c4c8dd0>, <Reaction S2FE2SS at 0x7f677c4b6850>])\n",
      "cys__L_c + iscs_c --> ala__L_c + iscssh_c\n",
      "cys__L_c + sufse_c --> ala__L_c + sufsesh_c\n",
      "L-Cysteine\n",
      "L-Alanine\n",
      "IscS sulfur acceptor protein\n",
      "SufSE sulfur acceptor complex\n",
      "IscS with bound sulfur\n",
      "SufSE with bound sulfur\n"
     ]
    }
   ],
   "source": [
    "#Thiazole biosynthesis I (facultative anaerobic)\n",
    "\n",
    "# iscS (b2530)\n",
    "iscS = eco.genes.b2530\n",
    "# sufS (b1680)\n",
    "sufS = eco.genes.b1680\n",
    "\n",
    "print \"iscS: \", iscS.reactions ,\"\\nsufS: \", sufS.reactions\n",
    "\n",
    "rxs1 = eco.reactions.ICYSDS\n",
    "rxs2 = eco.reactions.SCYSDS\n",
    "\n",
    "print rxs1.reaction\n",
    "print rxs2.reaction\n",
    "\n",
    "print eco.metabolites.cys__L_c.name\n",
    "print eco.metabolites.ala__L_c.name\n",
    "print eco.metabolites.iscs_c.name\n",
    "print eco.metabolites.sufse_c.name\n",
    "print eco.metabolites.iscssh_c.name\n",
    "print eco.metabolites.sufsesh_c.name\n"
   ]
  },
  {
   "cell_type": "code",
   "execution_count": null,
   "metadata": {},
   "outputs": [],
   "source": []
  }
 ],
 "metadata": {
  "kernelspec": {
   "display_name": "Python 2",
   "language": "python",
   "name": "python2"
  },
  "language_info": {
   "codemirror_mode": {
    "name": "ipython",
    "version": 2
   },
   "file_extension": ".py",
   "mimetype": "text/x-python",
   "name": "python",
   "nbconvert_exporter": "python",
   "pygments_lexer": "ipython2",
   "version": "2.7.12"
  }
 },
 "nbformat": 4,
 "nbformat_minor": 2
}
