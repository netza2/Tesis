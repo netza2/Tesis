{
 "cells": [
  {
   "cell_type": "code",
   "execution_count": 1,
   "metadata": {},
   "outputs": [],
   "source": [
    "import cobra, cobra.test\n",
    "from cobra import Reaction, Metabolite, Model\n"
   ]
  },
  {
   "cell_type": "code",
   "execution_count": 21,
   "metadata": {},
   "outputs": [],
   "source": [
    "eco = cobra.test.create_test_model('ecoli')"
   ]
  },
  {
   "cell_type": "code",
   "execution_count": 29,
   "metadata": {},
   "outputs": [],
   "source": [
    "eco.reactions.KG6PDC.name = '3-ceto-L-gulonato 6-fosfato descarboxilasa'"
   ]
  },
  {
   "cell_type": "code",
   "execution_count": 19,
   "metadata": {},
   "outputs": [],
   "source": [
    "eco.reactions.ICYSDS.name = 'ISC cisteína desulfurasa'"
   ]
  },
  {
   "cell_type": "code",
   "execution_count": 103,
   "metadata": {},
   "outputs": [],
   "source": [
    "cobra.io.save_json_model(eco, 'ecoModel.json')"
   ]
  },
  {
   "cell_type": "code",
   "execution_count": 18,
   "metadata": {},
   "outputs": [
    {
     "name": "stdout",
     "output_type": "stream",
     "text": [
      "iscS:  frozenset([<Reaction MOADSUx at 0x7f677c6ece10>, <Reaction I2FE2SS at 0x7f677c7dccd0>, <Reaction I2FE2SR at 0x7f677c7dcc50>, <Reaction I2FE2SS2 at 0x7f677c7eb510>, <Reaction ICYSDS at 0x7f677c7ebed0>, <Reaction THZPSN3 at 0x7f677c43fed0>]) \n",
      "sufS:  frozenset([<Reaction S2FE2SR at 0x7f677c4b6190>, <Reaction S2FE2SS2 at 0x7f677c4b6a50>, <Reaction SCYSDS at 0x7f677c4c8dd0>, <Reaction S2FE2SS at 0x7f677c4b6850>])\n",
      "cys__L_c + iscs_c --> ala__L_c + iscssh_c\n",
      "cys__L_c + sufse_c --> ala__L_c + sufsesh_c\n",
      "L-Cysteine\n",
      "L-Alanine\n",
      "IscS sulfur acceptor protein\n",
      "SufSE sulfur acceptor complex\n",
      "IscS with bound sulfur\n",
      "SufSE with bound sulfur\n"
     ]
    }
   ],
   "source": [
    "#Thiazole biosynthesis I (facultative anaerobic)\n",
    "\n",
    "# iscS (b2530)\n",
    "iscS = eco.genes.b2530\n",
    "# sufS (b1680)\n",
    "sufS = eco.genes.b1680\n",
    "\n",
    "print \"iscS: \", iscS.reactions ,\"\\nsufS: \", sufS.reactions\n",
    "\n",
    "rxs1 = eco.reactions.ICYSDS\n",
    "rxs2 = eco.reactions.SCYSDS\n",
    "\n",
    "print rxs1.reaction\n",
    "print rxs2.reaction\n",
    "\n",
    "print eco.metabolites.cys__L_c.name\n",
    "print eco.metabolites.ala__L_c.name\n",
    "print eco.metabolites.iscs_c.name\n",
    "print eco.metabolites.sufse_c.name\n",
    "print eco.metabolites.iscssh_c.name\n",
    "print eco.metabolites.sufsesh_c.name\n"
   ]
  },
  {
   "cell_type": "code",
   "execution_count": 34,
   "metadata": {},
   "outputs": [],
   "source": [
    "#Metabolites\n",
    "acetylglutamate = eco.metabolites.get_by_id('acg5sa_c')\n",
    "Water = eco.metabolites.get_by_id('h2o_c')\n",
    "Acetate = eco.metabolites.ac_c\n",
    "glutamatesemialdehyde = eco.metabolites.glu5sa_c\n",
    "Glycolaldehyde = eco.metabolites.gcald_c\n",
    "Hydroxyacetone = eco.metabolites.get_by_id('acetol_c')\n",
    "Deoxyxylulose = eco.metabolites.get_by_id('dxyl_c')\n",
    "Phosphohydroxypyruvate = eco.metabolites.get_by_id('3php_c')\n",
    "Hydroxypyruvate = eco.metabolites.get_by_id('hpyr_c')\n",
    "Phosphate = eco.metabolites.get_by_id('pi_c')\n",
    "CO2 = eco.metabolites.co2_c\n",
    "Hydrogen = eco.metabolites.h_c\n",
    "Hydroxythreonine = eco.metabolites.get_by_id('4hthr_c')\n",
    "Gly = eco.metabolites.gly_c\n",
    "Glu = eco.metabolites.glu__L_c\n",
    "Gln = eco.metabolites.gln__L_c\n",
    "ATP = eco.metabolites.get_by_id('atp_c')\n",
    "ADP = eco.metabolites.get_by_id('adp_c')\n",
    "Phosphooxythreonine = eco.metabolites.get_by_id('phthr_c')\n",
    "G3p = eco.metabolites.g3p_c\n",
    "Ribose5Phosphate = eco.metabolites.r5p_c\n",
    "P5P = eco.metabolites.pydx5p_c\n",
    "\n",
    "\n",
    "\n",
    "P5PS = Reaction('P5PS')\n",
    "P5PS.name = \"Piridoxal 5'-fosfato sintasa\"\n",
    "P5PS.add_metabolites({\n",
    "    Ribose5Phosphate: -1.0,\n",
    "    G3p: -1.0,\n",
    "    Gln: -1.0,\n",
    "    P5P: 1.0,\n",
    "    Glu: 1.0,\n",
    "    Phosphate: 1.0,\n",
    "    Hydrogen: 1.0,\n",
    "    Water: 3.0\n",
    "})\n",
    "P5PS.gene_reaction_rule = 'b3991'\n",
    "\n",
    "#FSA1 (fructose-6-phosphate aldolase 1)\n",
    "DXS = Reaction('DXS')\n",
    "DXS.name = '1-desoxi-D-xilulosa sintasa'\n",
    "DXS.add_metabolites({\n",
    "    Glycolaldehyde: -1.0,\n",
    "    Hydroxyacetone: -1.0,\n",
    "    Deoxyxylulose: 1.0\n",
    "})\n",
    "DXS.gene_reaction_rule = 'b0825'\n",
    "DXS.upper_bound = 0.01\n",
    "\n",
    "PHDPC = Reaction('3PHPDP_prom')\n",
    "PHDPC.name = '3-Fosfohidroxipiruvato desfoforilasa'\n",
    "PHDPC.add_metabolites({\n",
    "    Phosphohydroxypyruvate: -1.0,\n",
    "    Water: -1.0,\n",
    "    Hydroxypyruvate: 1.0,\n",
    "    Phosphate: 1.0\n",
    "})\n",
    "PHDPC.gene_reaction_rule = ' ( b4034 and b1813 ) '\n",
    "#sucAdxs\n",
    "HPDC = Reaction('HPDC_prom')\n",
    "HPDC.name = 'Hidroxipiruvato descarboxilasa'\n",
    "HPDC.add_metabolites({\n",
    "    Hydroxypyruvate: -1.0,\n",
    "    Hydrogen: -1.0,\n",
    "    Glycolaldehyde: 1.0,\n",
    "    CO2: 1.0\n",
    "})\n",
    "HPDC.gene_reaction_rule = 'b0420 or b0726'\n",
    "#LtaE b0870\n",
    "THRALD = Reaction('THRALD')\n",
    "THRALD.name = '4-Hidroxi-L-treonina aldolasa'\n",
    "THRALD.add_metabolites({\n",
    "    Hydroxythreonine: -1.0,\n",
    "    Gly: 1.0,\n",
    "    Glycolaldehyde: 1.0\n",
    "})\n",
    "THRALD.gene_reaction_rule = 'b0870'\n",
    "THRALD.lower_bound = -1000.0\n",
    "#thrB (Homoserine Kinase)\n",
    "HTHRP = Reaction('HTHRP_prom')\n",
    "HTHRP.name = '4-hidroxi-L-treonina fosforilasa'\n",
    "HTHRP.add_metabolites({\n",
    "    Hydroxythreonine: -1.0,\n",
    "    ATP: -1.0,\n",
    "    Phosphooxythreonine: 1.0,\n",
    "    ADP: 1.0,\n",
    "    Hydrogen: 1.0\n",
    "})\n",
    "HTHRP.gene_reaction_rule = 'b0003'\n",
    "#argE (acetylornithine transferase)\n",
    "AGLUSA = Reaction('AGLUSA')\n",
    "AGLUSA.name = 'N-Acetil-L-Glutamato semialdehío deacetilasa'\n",
    "AGLUSA.add_metabolites({\n",
    "    acetylglutamate: -1.0,\n",
    "    Water: -1.0,\n",
    "    Acetate: 1.0,\n",
    "    glutamatesemialdehyde: 1.0\n",
    "})\n",
    "AGLUSA.gene_reaction_rule = 'b3957'\n",
    "\n",
    "\n",
    "eco.add_reactions([P5PS, DXS, PHDPC ,HPDC, THRALD, HTHRP, AGLUSA])\n",
    "#eco.reactions.PRAIi.gene_reaction_rule = ' ( b2312 or b1262 ) '\n",
    "#eco.reactions.AGPR.gene_reaction_rule = ' ( b3958 or b0243 ) '\n",
    "#eco.reactions.PSP_L.gene_reaction_rule = ' ( b4388 or b4395 or b2022 or b3385 ) '\n",
    "\n",
    "#eco.reactions.THZPSN3.gene_reaction_rule = ' ( b2530 and b3992 and b3991 and b0423 and b4407 ) '\n",
    "#eco.reactions.TYRL.gene_reaction_rule = 'b3990'\n"
   ]
  },
  {
   "cell_type": "code",
   "execution_count": 24,
   "metadata": {},
   "outputs": [],
   "source": [
    "forml = eco.metabolites.fald_c\n",
    "\n",
    "New = Reaction('PdsdS')\n",
    "Hex.name = \"3-Hexulosa fosfato sintasa\"\n",
    "Hex.add_metabolites({\n",
    "    forml: -1.0,\n",
    "    Hydrogen: 1.0,\n",
    "    Water: - 1.0\n",
    "})\n",
    "Hex.gene_reaction_rule = 'b4196'"
   ]
  },
  {
   "cell_type": "code",
   "execution_count": 25,
   "metadata": {},
   "outputs": [],
   "source": [
    "eco.add_reaction(Hex)"
   ]
  },
  {
   "cell_type": "code",
   "execution_count": 26,
   "metadata": {},
   "outputs": [
    {
     "data": {
      "text/html": [
       "\n",
       "        <table>\n",
       "            <tr>\n",
       "                <td><strong>Reaction identifier</strong></td><td>PdsdS</td>\n",
       "            </tr><tr>\n",
       "                <td><strong>Name</strong></td><td>3-Hexulosa fosfato sintasa</td>\n",
       "            </tr><tr>\n",
       "                <td><strong>Memory address</strong></td>\n",
       "                <td>0x07f428ec9b7d0</td>\n",
       "            </tr><tr>\n",
       "                <td><strong>Stoichiometry</strong></td>\n",
       "                <td>\n",
       "                    <p style='text-align:right'>2.0 fald_c + 2.0 h2o_c --> h_c</p>\n",
       "                    <p style='text-align:right'>2.0 Formaldehyde + 2.0 H2O --> H+</p>\n",
       "                </td>\n",
       "            </tr><tr>\n",
       "                <td><strong>GPR</strong></td><td>b4196</td>\n",
       "            </tr><tr>\n",
       "                <td><strong>Lower bound</strong></td><td>0.0</td>\n",
       "            </tr><tr>\n",
       "                <td><strong>Upper bound</strong></td><td>1000.0</td>\n",
       "            </tr>\n",
       "        </table>\n",
       "        "
      ],
      "text/plain": [
       "<Reaction PdsdS at 0x7f428ec9b7d0>"
      ]
     },
     "execution_count": 26,
     "metadata": {},
     "output_type": "execute_result"
    }
   ],
   "source": [
    "eco.reactions.PdsdS"
   ]
  },
  {
   "cell_type": "code",
   "execution_count": 98,
   "metadata": {},
   "outputs": [
    {
     "data": {
      "text/plain": [
       "frozenset({<Reaction 3PHPDP_prom at 0x7f42aa3956d0>})"
      ]
     },
     "execution_count": 98,
     "metadata": {},
     "output_type": "execute_result"
    }
   ],
   "source": [
    "eco.genes.b1813.reactions"
   ]
  },
  {
   "cell_type": "code",
   "execution_count": 97,
   "metadata": {},
   "outputs": [],
   "source": [
    "eco.reactions.UGMDDS.name = 'UDP-N-acetilmuramil-L-alanil-D-glutamil-meso-2,6-diaminopimeloil-D-alanil-D-alanine sintasa'"
   ]
  },
  {
   "cell_type": "code",
   "execution_count": 49,
   "metadata": {},
   "outputs": [],
   "source": [
    "eco.reactions.DXPS.name = '1-Desoxi-D-xilulosa 5-fosfato sintasa'"
   ]
  },
  {
   "cell_type": "code",
   "execution_count": 55,
   "metadata": {},
   "outputs": [],
   "source": [
    "eco.reactions.AKGDH.name = '2-Oxoglutarato deshidrogenasa'"
   ]
  },
  {
   "cell_type": "code",
   "execution_count": 102,
   "metadata": {},
   "outputs": [],
   "source": [
    "eco.reactions.THZPSN3.name = 'Tiazol fosfato sintasa'"
   ]
  },
  {
   "cell_type": "code",
   "execution_count": null,
   "metadata": {},
   "outputs": [],
   "source": []
  }
 ],
 "metadata": {
  "kernelspec": {
   "display_name": "Python 2",
   "language": "python",
   "name": "python2"
  },
  "language_info": {
   "codemirror_mode": {
    "name": "ipython",
    "version": 2
   },
   "file_extension": ".py",
   "mimetype": "text/x-python",
   "name": "python",
   "nbconvert_exporter": "python",
   "pygments_lexer": "ipython2",
   "version": "2.7.12"
  }
 },
 "nbformat": 4,
 "nbformat_minor": 2
}
