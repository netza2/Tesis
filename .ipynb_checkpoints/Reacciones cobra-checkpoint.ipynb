{
 "cells": [
  {
   "cell_type": "code",
   "execution_count": 1,
   "metadata": {},
   "outputs": [],
   "source": [
    "import cobra, cobra.test\n",
    "from cobra import Reaction, Metabolite, Model"
   ]
  },
  {
   "cell_type": "code",
   "execution_count": 2,
   "metadata": {},
   "outputs": [],
   "source": [
    "# Declare iJO1366\n",
    "eco = cobra.test.create_test_model('ecoli')"
   ]
  },
  {
   "cell_type": "code",
   "execution_count": 6,
   "metadata": {},
   "outputs": [],
   "source": [
    "# Exchange reactions:\n",
    "c = 0\n",
    "for i in [x for x in eco.reactions if 'ex_' in x.id.lower()]:\n",
    "    c+=1\n",
    "    #print c, '|', i.name, '|', i.id, '|', i.reaction, '|', i.lower_bound, '|', i.upper_bound,'|', i.reactants"
   ]
  },
  {
   "cell_type": "code",
   "execution_count": 4,
   "metadata": {},
   "outputs": [],
   "source": [
    "#\n",
    "#                                    Genes\n",
    "#\n",
    "# ThiG (1-deoxy-D-xylulose 5-phosphate:thiol sulfurtransferase)\n",
    "thiG = eco.genes.get_by_id('b3991')\n",
    "# KGPDC (3-keto-L-gulonate-6-phosphate decarboxylase)\n",
    "ulaD = eco.genes.get_by_id('b4196')\n",
    "#FSA1 (fructose-6-phosphate aldolase 1)\n",
    "fsaA = eco.genes.get_by_id('b0825')\n",
    "#pdxA (4-hydroxythreonine-4-phosphate dehydrogenase)\n",
    "pdxA = eco.genes.get_by_id('b0052')\n",
    "#dxs (1-deoxyxylulose-5-phosphate synthase)\n",
    "dxs = eco.genes.get_by_id('b0420')\n",
    "#sucA ()\n",
    "sucA = eco.genes.get_by_id('b0726')\n",
    "#thrB (Homoserine Kinase)\n",
    "thrB = eco.genes.get_by_id('b0003')\n",
    "#argE (acetylornithine transferase)\n",
    "argE = eco.genes.get_by_id('b3957')\n",
    "#purF (Amidophosphoribosyltransferase)\n",
    "purF = eco.genes.get_by_id('b2312')\n",
    "#proA (Glutamate-5-semialdehyde dehydrogenase)\n",
    "proA = eco.genes.get_by_id('b0243')\n",
    "#ulaG (L-ascorbate-6-phosphate lactonase)\n",
    "ulaG = eco.genes.get_by_id('b4192')\n",
    "#ytjC (Putative phosphatase)\n",
    "ytjc = eco.genes.get_by_id('b4395')\n",
    "#hisB (Imidazoleglycerol-phosphate dehydratase / histidinol-phosphatase)\n",
    "hisB = eco.genes.get_by_id('b2022')\n",
    "#gph (Phosphoglycolate phosphatase)\n",
    "gph = eco.genes.get_by_id('b3385')\n",
    "#murF (D-alanyl-D-alanine-adding enzyme)\n",
    "murF = eco.genes.get_by_id('b0086')"
   ]
  },
  {
   "cell_type": "code",
   "execution_count": 7,
   "metadata": {},
   "outputs": [
    {
     "name": "stdout",
     "output_type": "stream",
     "text": [
      "frozenset([<Reaction TYRL at 0x7febea714e50>])\n"
     ]
    }
   ],
   "source": [
    "# ThiG (1-deoxy-D-xylulose 5-phosphate:thiol sulfurtransferase)\n",
    "# El medio es M9-Glucosa sin fuentes de nitrógeno.\n",
    "# Microwells inoculados en 1.2 mL\n",
    "# Tiempo = 96 horas.\n",
    "# Temperatura = 37 °C\n",
    "# NH4Cl 3.04%, IPTG inducer  250 - 3.9 uM gives OD600 0.48 - 0.64.\n",
    "# A las 72 horas (3 días), las colonias tenían 1 mm de diámetro.\n",
    "\n",
    "# Reacción en EcoCyc:\n",
    "# 1-deoxy-D-xylulose 5-phosphate + 2-iminoacetate + a thiocarboxy-[ThiS-Protein] → 2-[(2R,5Z)-2-carboxy-4-methylthiazol-5(2H)-ylidene]ethyl phosphate + a ThiS sulfur-carrier protein + 2 H2O\n",
    "# en EcoCyc, thiG está asignado a esta reacción, pero en iJO1366,\n",
    "# la reacción asignada es tyrosine lyase.\n",
    "\n",
    "\n",
    "\n",
    "print thiG.reactions\n",
    "TYRL = eco.reactions.get_by_id('TYRL')\n",
    "#TYRL\n",
    "#Reacción en iJO1366:"
   ]
  },
  {
   "cell_type": "code",
   "execution_count": 14,
   "metadata": {},
   "outputs": [
    {
     "name": "stdout",
     "output_type": "stream",
     "text": [
      "frozenset([<Reaction THZPSN3 at 0x7f16ed417890>])\n"
     ]
    },
    {
     "data": {
      "text/html": [
       "\n",
       "        <table>\n",
       "            <tr>\n",
       "                <td><strong>Reaction identifier</strong></td><td>THZPSN3</td>\n",
       "            </tr><tr>\n",
       "                <td><strong>Name</strong></td><td>thiazole phosphate synthesis</td>\n",
       "            </tr><tr>\n",
       "                <td><strong>Memory address</strong></td>\n",
       "                <td>0x07f16ed417890</td>\n",
       "            </tr><tr>\n",
       "                <td><strong>Stoichiometry</strong></td>\n",
       "                <td>\n",
       "                    <p style='text-align:right'>atp_c + dhgly_c + dxyl5p_c + h_c + iscssh_c + nadph_c --> 4mpetz_c + amp_c + co2_c + 2.0 h2o_c + iscs_c + nadp_c + ppi_c</p>\n",
       "                    <p style='text-align:right'>ATP + dehydroglycine + 1-deoxy-D-xylulose 5-phosphate + H+ + IscS with bound sulfur + Nicotinamide adenine dinucleotide phosphate - reduced --> 4-Methyl-5-(2-phosphoethyl)-thiazole + AMP + CO2 + 2....</p>\n",
       "                </td>\n",
       "            </tr><tr>\n",
       "                <td><strong>GPR</strong></td><td>b2530 and b3992 and b3990 and b0423 and b4407</td>\n",
       "            </tr><tr>\n",
       "                <td><strong>Lower bound</strong></td><td>0.0</td>\n",
       "            </tr><tr>\n",
       "                <td><strong>Upper bound</strong></td><td>1000.0</td>\n",
       "            </tr>\n",
       "        </table>\n",
       "        "
      ],
      "text/plain": [
       "<Reaction THZPSN3 at 0x7f16ed417890>"
      ]
     },
     "execution_count": 14,
     "metadata": {},
     "output_type": "execute_result"
    }
   ],
   "source": [
    "#thiH (2-iminoacetate synthase)\n",
    "thiH = eco.genes.get_by_id('b3990')\n",
    "# y la reacción tyrosine lyase está asignada al gen thiH en EcoCyc,\n",
    "# pero en iJO1366 se le asigna thiazole phosphate synthesis\n",
    "print thiH.reactions\n",
    "THZPSN3 = eco.reactions.get_by_id('THZPSN3')\n",
    "THZPSN3\n"
   ]
  },
  {
   "cell_type": "code",
   "execution_count": 27,
   "metadata": {},
   "outputs": [
    {
     "data": {
      "text/html": [
       "\n",
       "        <table>\n",
       "            <tr>\n",
       "                <td><strong>Metabolite identifier</strong></td><td>ru5p__D_c</td>\n",
       "            </tr><tr>\n",
       "                <td><strong>Name</strong></td><td>D-Ribulose 5-phosphate</td>\n",
       "            </tr><tr>\n",
       "                <td><strong>Memory address</strong></td>\n",
       "                <td>0x07f16edf40f50</td>\n",
       "            </tr><tr>\n",
       "                <td><strong>Formula</strong></td><td>C5H9O8P</td>\n",
       "            </tr><tr>\n",
       "                <td><strong>Compartment</strong></td><td>c</td>\n",
       "            </tr><tr>\n",
       "                <td><strong>In 5 reaction(s)</strong></td><td>\n",
       "                    DB4PS, RPI, A5PISO, RPE, GND</td>\n",
       "            </tr>\n",
       "        </table>"
      ],
      "text/plain": [
       "<Metabolite ru5p__D_c at 0x7f16edf40f50>"
      ]
     },
     "execution_count": 27,
     "metadata": {},
     "output_type": "execute_result"
    }
   ],
   "source": [
    "# KGPDC (3-keto-L-gulonate-6-phosphate decarboxylase)\n",
    "ulaD.reactions\n",
    "kgpdc = eco.reactions.get_by_id('KG6PDC')\n",
    "kgpdc\n",
    "\n",
    "rib5pho = eco.metabolites.get_by_id('ru5p__D_c')\n",
    "\n",
    "# hexulose is not in E. coli\n",
    "#for i in [x for x in eco.metabolites if x.formula == 'C6H12O6']: print i.name, i.id, i.formula\n"
   ]
  },
  {
   "cell_type": "code",
   "execution_count": null,
   "metadata": {},
   "outputs": [],
   "source": []
  },
  {
   "cell_type": "code",
   "execution_count": 21,
   "metadata": {},
   "outputs": [],
   "source": [
    "#FSA1 (fructose-6-phosphate aldolase 1)\n",
    "Glycolaldehyde = eco.metabolites.get_by_id('gcald_c')\n",
    "Hydroxyacetone = eco.metabolites.get_by_id('acetol_c')\n",
    "Deoxyxylulose = eco.metabolites.get_by_id('dxyl_c')\n",
    "\n",
    "#promiscuous DXS reaction\n",
    "DXS = Reaction('DXS_prom')\n",
    "DXS.name = '1-deoxy-D-xylulose synthase'\n",
    "DXS.add_metabolites({\n",
    "    Glycolaldehyde: -1.0,\n",
    "    Hydroxyacetone: -1.0,\n",
    "    Deoxyxylulose: 1.0\n",
    "})\n",
    "DXS.gene_reaction_rule = 'b0825'"
   ]
  },
  {
   "cell_type": "code",
   "execution_count": null,
   "metadata": {},
   "outputs": [],
   "source": [
    "#pdxA (4-hydroxythreonine-4-phosphate dehydrogenase)\n",
    "\n",
    "    "
   ]
  },
  {
   "cell_type": "code",
   "execution_count": 17,
   "metadata": {},
   "outputs": [
    {
     "data": {
      "text/plain": [
       "{}"
      ]
     },
     "execution_count": 17,
     "metadata": {},
     "output_type": "execute_result"
    }
   ],
   "source": [
    "#dxs (1-deoxyxylulose-5-phosphate synthase)\n",
    "Phosphohydroxypyruvate = eco.metabolites.get_by_id('3php_c')\n",
    "Hydroxypyruvate = eco.metabolites.get_by_id('hpyr_c')\n",
    "Phosphate = eco.metabolites.get_by_id('pi_c')\n",
    "Water = eco.metabolites.get_by_id('h2o_c')\n",
    "\n",
    "#Promiscuous 3-phosphohydroxypyruvate decarboxylation\n",
    "PHDPC = Reaction('PHDPC_prom')\n",
    "PHDPC.name = '3-Phosphohydroxypyruvate decarboxylation'\n",
    "PHDPC.add_metabolites({\n",
    "    Phosphohydroxypyruvate: -1.0,\n",
    "    Water: -1.0,\n",
    "    Hydroxypyruvate: 1.0,\n",
    "    Phosphate: 1.0\n",
    "})\n",
    "PHDPC.gene_reaction_rule = ' ( b0420 or b0726 ) '"
   ]
  },
  {
   "cell_type": "code",
   "execution_count": null,
   "metadata": {},
   "outputs": [],
   "source": [
    "#sucA ()\n",
    "\n"
   ]
  },
  {
   "cell_type": "code",
   "execution_count": 23,
   "metadata": {},
   "outputs": [],
   "source": [
    "#thrB (Homoserine Kinase)\n",
    "Hydroxythreonine = eco.metabolites.get_by_id('4hthr_c')\n",
    "ATP = eco.metabolites.get_by_id('atp_c')\n",
    "ADP = eco.metabolites.get_by_id('adp_c')\n",
    "Phosphooxythreonine = eco.metabolites.get_by_id('phthr_c')\n",
    "Hydrogen = eco.metabolites.get_by_id('h_c')\n",
    "\n",
    "#promiscuous 4-hydroxy-L-threonine phosphorylation\n",
    "HTHRP = Reaction('HTHRP_prom')\n",
    "HTHRP.name = '4-hydroxy-L-threonine phosphorylation'\n",
    "HTHRP.add_metabolites({\n",
    "    Hydroxythreonine: -1.0,\n",
    "    ATP: -1.0,\n",
    "    Phosphooxythreonine: 1.0,\n",
    "    ADP: 1.0,\n",
    "    Hydrogen: 1.0\n",
    "})\n",
    "HTHRP.check_mass_balance()\n",
    "HTHRP.gene_reaction_rule = 'b0003'\n"
   ]
  },
  {
   "cell_type": "code",
   "execution_count": null,
   "metadata": {},
   "outputs": [],
   "source": [
    "#argE (acetylornithine transferase)\n",
    "\n",
    "N-acetylornithine = eco.metabolites.get_by_id('acg5sa_c')\n"
   ]
  },
  {
   "cell_type": "code",
   "execution_count": null,
   "metadata": {},
   "outputs": [],
   "source": [
    "#purF"
   ]
  },
  {
   "cell_type": "code",
   "execution_count": null,
   "metadata": {},
   "outputs": [],
   "source": [
    "#proA"
   ]
  },
  {
   "cell_type": "code",
   "execution_count": 26,
   "metadata": {},
   "outputs": [
    {
     "name": "stdout",
     "output_type": "stream",
     "text": [
      "bli bli bli\n"
     ]
    }
   ],
   "source": [
    "#ulaG\n",
    "# hay que representar CMP cíclico romper enlaace fosfodiester\n",
    "try:\n",
    "    eco.metabolites.get_by_id('cmp_c')\n",
    "except:\n",
    "    print \"bli bli bli\""
   ]
  },
  {
   "cell_type": "code",
   "execution_count": 28,
   "metadata": {},
   "outputs": [
    {
     "data": {
      "text/html": [
       "\n",
       "        <table>\n",
       "            <tr>\n",
       "                <td><strong>Reaction identifier</strong></td><td>PGM</td>\n",
       "            </tr><tr>\n",
       "                <td><strong>Name</strong></td><td>phosphoglycerate mutase</td>\n",
       "            </tr><tr>\n",
       "                <td><strong>Memory address</strong></td>\n",
       "                <td>0x07faa187f5c10</td>\n",
       "            </tr><tr>\n",
       "                <td><strong>Stoichiometry</strong></td>\n",
       "                <td>\n",
       "                    <p style='text-align:right'>2pg_c <=> 3pg_c</p>\n",
       "                    <p style='text-align:right'>D-Glycerate 2-phosphate <=> 3-Phospho-D-glycerate</p>\n",
       "                </td>\n",
       "            </tr><tr>\n",
       "                <td><strong>GPR</strong></td><td>b3612 or b4395 or b0755</td>\n",
       "            </tr><tr>\n",
       "                <td><strong>Lower bound</strong></td><td>-1000.0</td>\n",
       "            </tr><tr>\n",
       "                <td><strong>Upper bound</strong></td><td>1000.0</td>\n",
       "            </tr>\n",
       "        </table>\n",
       "        "
      ],
      "text/plain": [
       "<Reaction PGM at 0x7faa187f5c10>"
      ]
     },
     "execution_count": 28,
     "metadata": {},
     "output_type": "execute_result"
    }
   ],
   "source": [
    "eco.reactions.get_by_id('PGM')\n"
   ]
  },
  {
   "cell_type": "code",
   "execution_count": 29,
   "metadata": {},
   "outputs": [
    {
     "data": {
      "text/html": [
       "\n",
       "        <table>\n",
       "            <tr>\n",
       "                <td><strong>Gene identifier</strong></td><td>b4388</td>\n",
       "            </tr><tr>\n",
       "                <td><strong>Name</strong></td><td>b4388</td>\n",
       "            </tr><tr>\n",
       "                <td><strong>Memory address</strong></td>\n",
       "                <td>0x07faa18f3ad10</td>\n",
       "            </tr><tr>\n",
       "                <td><strong>Functional</strong></td><td>True</td>\n",
       "            </tr><tr>\n",
       "                <td><strong>In 1 reaction(s)</strong></td><td>\n",
       "                    PSP_L</td>\n",
       "            </tr>\n",
       "        </table>"
      ],
      "text/plain": [
       "<Gene b4388 at 0x7faa18f3ad10>"
      ]
     },
     "execution_count": 29,
     "metadata": {},
     "output_type": "execute_result"
    }
   ],
   "source": [
    "eco.genes.get_by_id('b4388')"
   ]
  },
  {
   "cell_type": "code",
   "execution_count": 35,
   "metadata": {},
   "outputs": [
    {
     "data": {
      "text/html": [
       "\n",
       "        <table>\n",
       "            <tr>\n",
       "                <td><strong>Reaction identifier</strong></td><td>PSP_L</td>\n",
       "            </tr><tr>\n",
       "                <td><strong>Name</strong></td><td>phosphoserine phosphatase (L-serine)</td>\n",
       "            </tr><tr>\n",
       "                <td><strong>Memory address</strong></td>\n",
       "                <td>0x07faa18771e90</td>\n",
       "            </tr><tr>\n",
       "                <td><strong>Stoichiometry</strong></td>\n",
       "                <td>\n",
       "                    <p style='text-align:right'>h2o_c + pser__L_c --> pi_c + ser__L_c</p>\n",
       "                    <p style='text-align:right'>H2O + O-Phospho-L-serine --> Phosphate + L-Serine</p>\n",
       "                </td>\n",
       "            </tr><tr>\n",
       "                <td><strong>GPR</strong></td><td>b4388</td>\n",
       "            </tr><tr>\n",
       "                <td><strong>Lower bound</strong></td><td>0.0</td>\n",
       "            </tr><tr>\n",
       "                <td><strong>Upper bound</strong></td><td>1000.0</td>\n",
       "            </tr>\n",
       "        </table>\n",
       "        "
      ],
      "text/plain": [
       "<Reaction PSP_L at 0x7faa18771e90>"
      ]
     },
     "execution_count": 35,
     "metadata": {},
     "output_type": "execute_result"
    }
   ],
   "source": [
    "eco.reactions.get_by_id('PSP_L')"
   ]
  },
  {
   "cell_type": "code",
   "execution_count": null,
   "metadata": {},
   "outputs": [],
   "source": []
  }
 ],
 "metadata": {
  "kernelspec": {
   "display_name": "Python 2",
   "language": "python",
   "name": "python2"
  },
  "language_info": {
   "codemirror_mode": {
    "name": "ipython",
    "version": 2
   },
   "file_extension": ".py",
   "mimetype": "text/x-python",
   "name": "python",
   "nbconvert_exporter": "python",
   "pygments_lexer": "ipython2",
   "version": "2.7.12"
  }
 },
 "nbformat": 4,
 "nbformat_minor": 2
}
