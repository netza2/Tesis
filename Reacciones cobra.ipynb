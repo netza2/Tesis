{
 "cells": [
  {
   "cell_type": "code",
   "execution_count": 1,
   "metadata": {},
   "outputs": [],
   "source": [
    "import cobra, cobra.test\n",
    "from cobra import Reaction, Metabolite, Model\n",
    "# Declare iJO1366\n",
    "eco = cobra.test.create_test_model('ecoli')"
   ]
  },
  {
   "cell_type": "code",
   "execution_count": 52,
   "metadata": {},
   "outputs": [],
   "source": [
    "eco = cobra.test.create_test_model('ecoli')"
   ]
  },
  {
   "cell_type": "code",
   "execution_count": 2,
   "metadata": {},
   "outputs": [],
   "source": [
    "#for rxs in [x for x in eco.reactions if 'EX_' in x.id]: print rxs.id, '\\t',rxs.reaction, '\\t', rxs.name,'\\t', eco.metabolites.get_by_id(str(rxs.reactants[0])).id\n",
    "#print len([x for x in eco.reactions if 'EX_' in x.id and float(x.upper_bound) > 0 ]), len(eco.medium)"
   ]
  },
  {
   "cell_type": "code",
   "execution_count": 8,
   "metadata": {},
   "outputs": [],
   "source": [
    "#M9 medium allready defined in iJO1366\n",
    "# Biotin btn_e\n",
    "# Thiamin thm_e\n",
    "#Salt solutions:\n",
    "# Na2HPO4 \n",
    "# KH2PO4\n",
    "# NaCl\n",
    "# NH4Cl\n",
    "# MgSO4\n",
    "# CaCl2\n",
    "# -------------------\n",
    "# Grows after adding:\n",
    "# -------------------\n",
    "# - Methanol 'meoh_e'\n",
    "# - Molybdate 'mobd_e'\n",
    "# - Nickel 'ni2_e'\n",
    "# -------------------\n",
    "# Found after growth:\n",
    "# -------------------\n",
    "# - Cadmium 'cd2_e'\n",
    "# - Mercury 'hg2_e'\n",
    "# - Tungstate 'tungs_e'\n",
    "# - Superoxide anion 'o2s_e'\n",
    "Miminum = ['pi_e', 'ni2_e', 'mobd_e', 'meoh_e', 'hg_e', 'ag_e', 'zn2_e', 'btn_e', 'thm_e', 'so4_e', 'ca2_e', 'cl_e',  \\\n",
    "           'mg2_e', 'k_e', 'na1_e', 'nh4_e', 'h2o_e', 'h2_e', 'h_e', 'cu_e', 'cu2_e', 'co2_e', 'cobalt2_e', 'fe3_e',  \\\n",
    "           'fe2_e', 'mn2_e', 'glc__D_e', 'o2_e', 'cd2_e', 'hg2_e', 'tungs_e', 'o2s_e']\n",
    "\n",
    "Minimum_after_checking = ['pi_e', 'ni2_e', 'mobd_e', 'meoh_e', 'hg_e', 'zn2_e', 'so4_e', 'ca2_e', 'cl_e',   \\\n",
    "           'mg2_e', 'k_e', 'nh4_e', 'h2o_e', 'cu2_e', 'co2_e', 'cobalt2_e', 'fe3_e',   \\\n",
    "           'mn2_e', 'glc__D_e', 'o2_e']\n",
    "\n",
    "rest_after_checking = ['ag_e', 'btn_e', 'thm_e', \\\n",
    "           'na1_e', 'h2_e', 'h_e', 'cu_e',       \\\n",
    "           'fe2_e',  'cd2_e', 'hg2_e', 'tungs_e', 'o2s_e']\n",
    "\n",
    "Minimum_after_checking2 = ['pi_e', 'ni2_e', 'mobd_e', 'meoh_e', 'hg_e', 'zn2_e', 'so4_e', 'ca2_e', 'cl_e',   \\\n",
    "           'mg2_e', 'k_e', 'nh4_e', 'h2o_e', 'cu2_e', 'co2_e', 'cobalt2_e', 'fe3_e',   \\\n",
    "           'mn2_e', 'glc__D_e', 'o2_e', 'h_e', 'fe2_e']"
   ]
  },
  {
   "cell_type": "code",
   "execution_count": 15,
   "metadata": {},
   "outputs": [
    {
     "name": "stdout",
     "output_type": "stream",
     "text": [
      "0.982371812727\n",
      "Resultado:  0.982371812727\n",
      "EX_ni2_e\n",
      "EX_h_e\n",
      "EX_mobd_e\n",
      "EX_o2_e\n",
      "EX_cobalt2_e\n",
      "EX_mg2_e\n",
      "EX_so4_e\n",
      "EX_glc_e\n",
      "EX_pi_e\n",
      "EX_co2_e\n",
      "EX_ca2_e\n",
      "EX_k_e\n",
      "EX_cu2_e\n",
      "EX_zn2_e\n",
      "EX_cl_e\n",
      "EX_fe3_e\n",
      "EX_h2o_e\n",
      "EX_nh4_e\n",
      "EX_fe2_e\n",
      "EX_mn2_e\n"
     ]
    }
   ],
   "source": [
    "#Exchange reactions:\n",
    "with eco:\n",
    "    print eco.optimize().objective_value\n",
    "    for rxs in [x for x in eco.reactions if 'EX_' in x.id]:\n",
    "        if str(rxs.reactants[0]) not in Minimum_after_checking2:\n",
    "            #print eco.metabolites.get_by_id(str(rxs.reactants[0])).id, eco.metabolites.get_by_id(str(rxs.reactants[0])).formula, rxs.name ,rxs.lower_bound, rxs.upper_bound\n",
    "            eco.reactions.get_by_id(str(rxs.id)).upper_bound = 0\n",
    "            eco.reactions.get_by_id(str(rxs.id)).lower_bound = 0\n",
    "            #sol = eco.optimize()\n",
    "            #print sol.objective_value, '\\t', eco.metabolites.get_by_id(str(rxs.reactants[0])).formula, '\\t', eco.metabolites.get_by_id(str(rxs.reactants[0])).name, '\\t', rxs.upper_bound, '\\t', rxs.lower_bound\n",
    "#        else: print eco.metabolites.get_by_id(str(rxs.reactants[0])).formula, '\\t', eco.metabolites.get_by_id(str(rxs.reactants[0])).name, '\\t', rxs.upper_bound, '\\t', rxs.lower_bound\n",
    " #   for rxs1 in [x for x in eco.reactions if 'EX_' in x.id and str(x.reactants[0]) in rest_after_checking]: \n",
    "  #      with eco:\n",
    "      #      print \"with: \", rxs1.name\n",
    "     #       for rxs in [x for x in eco.reactions if 'EX_' in x.id and str(x.reactants[0]) in rest_after_checking]: \n",
    "    #            if rxs1.id != rxs.id:\n",
    "   #                 eco.reactions.get_by_id(str(rxs.id)).upper_bound = 0\n",
    "  #                  eco.reactions.get_by_id(str(rxs.id)).lower_bound = 0\n",
    "                #else: print \"do nothing\", rxs.name\n",
    " #           sol = eco.optimize()\n",
    "#            print sol.objective_value, '\\t', eco.metabolites.get_by_id(str(rxs1.reactants[0])).formula, '\\t', eco.metabolites.get_by_id(str(rxs1.reactants[0])).name, '\\t', rxs1.upper_bound, '\\t', rxs1.lower_bound\n",
    "                \n",
    "        \n",
    "    print \"Resultado: \", eco.optimize().objective_value\n",
    "    for k,v in eco.medium.iteritems(): print k"
   ]
  },
  {
   "cell_type": "code",
   "execution_count": 33,
   "metadata": {},
   "outputs": [
    {
     "name": "stdout",
     "output_type": "stream",
     "text": [
      "ca2_e \t9 \t0.982371812727 \t2.12852354367e-16 \tCalcium exchange\n",
      "cl_e \t7 \t0.982371812727 \t0.0 \tChloride exchange\n",
      "co2_e \t87 \t0.982371812727 \t0.698071107854 \tCO2 exchange\n",
      "cobalt2_e \t11 \t0.982371812727 \t0.0 \tCo2+ exchange\n",
      "cu2_e \t15 \t0.982371812727 \t0.0 \tCu2+ exchange\n",
      "fe3_e \t20 \t0.982371812727 \t0.982371812727 \tFe3+ exchange\n",
      "glc__D_e \t31 \t0.982371812727 \t-0.0239410614238 \tD-Glucose exchange\n",
      "h2o_e \t746 \t0.982371812727 \t0.496865390874 \tH2O exchange\n",
      "k_e \t11 \t0.982371812727 \t0.0 \tK+ exchange\n",
      "meoh_e \t6 \t0.982371812727 \t0.0 \tmethanol exchange\n",
      "mg2_e \t11 \t0.982371812727 \t0.0 \tMg exchange\n",
      "mn2_e \t11 \t0.982371812727 \t0.0 \tMn2+ exchange\n",
      "mobd_e \t8 \t0.982371812727 \t0.0 \tMolybdate exchange\n",
      "nh4_e \t62 \t0.982371812727 \t1.06885472227e-14 \tAmmonia exchange\n",
      "ni2_e \t13 \t0.982371812727 \t-3.26930419404e-16 \tNi2+ exchange\n",
      "o2_e \t49 \t0.982371812727 \t0.241501557097 \tO2 exchange\n",
      "pi_e \t362 \t0.982371812727 \t1.17970353455e-14 \tPhosphate exchange\n",
      "so4_e \t11 \t0.982371812727 \t-1.15093027761e-16 \tSulfate exchange\n",
      "zn2_e \t13 \t0.982371812727 \t0.0 \tZinc exchange\n"
     ]
    }
   ],
   "source": [
    "# delete exchange reactions and check in how many other reactions the metabolite is involved\n",
    "for rxs in [x for x in eco.reactions if 'EX_' in x.id]# and str(x.reactants[0]) in Minimum_after_checking]:\n",
    "    with eco:\n",
    "        sol_b = eco.optimize().objective_value\n",
    "        eco.reactions.get_by_id(rxs.id).upper_bound = 0\n",
    "        eco.reactions.get_by_id(rxs.id).lower_bound = 0\n",
    "        c = 0\n",
    "        for n in [x for x in eco.metabolites if str(rxs.reactants[0])[:-1] == str(x.id)[:-1]]:\n",
    "            #print n.reactions\n",
    "            c+=len(n.reactions)\n",
    "        print rxs.reactants[0], '\\t', c, '\\t', sol_b ,'\\t' ,eco.optimize().objective_value, '\\t', rxs.name"
   ]
  },
  {
   "cell_type": "code",
   "execution_count": null,
   "metadata": {},
   "outputs": [],
   "source": []
  },
  {
   "cell_type": "code",
   "execution_count": null,
   "metadata": {},
   "outputs": [],
   "source": []
  },
  {
   "cell_type": "code",
   "execution_count": null,
   "metadata": {},
   "outputs": [],
   "source": []
  },
  {
   "cell_type": "code",
   "execution_count": 36,
   "metadata": {},
   "outputs": [],
   "source": [
    "#\n",
    "#                                    Genes\n",
    "#\n",
    "# ThiG (1-deoxy-D-xylulose 5-phosphate:thiol sulfurtransferase)\n",
    "thiG = eco.genes.get_by_id('b3991')\n",
    "# KGPDC (3-keto-L-gulonate-6-phosphate decarboxylase)\n",
    "ulaD = eco.genes.get_by_id('b4196')\n",
    "#FSA1 (fructose-6-phosphate aldolase 1)\n",
    "fsaA = eco.genes.get_by_id('b0825')\n",
    "#pdxA (4-hydroxythreonine-4-phosphate dehydrogenase)\n",
    "pdxA = eco.genes.get_by_id('b0052')\n",
    "#dxs (1-deoxyxylulose-5-phosphate synthase)\n",
    "dxs = eco.genes.get_by_id('b0420')\n",
    "#sucA ()\n",
    "sucA = eco.genes.get_by_id('b0726')\n",
    "#thrB (Homoserine Kinase)\n",
    "thrB = eco.genes.get_by_id('b0003')\n",
    "#argE (acetylornithine transferase)\n",
    "argE = eco.genes.get_by_id('b3957')\n",
    "#purF (Amidophosphoribosyltransferase)\n",
    "purF = eco.genes.get_by_id('b2312')\n",
    "#proA (Glutamate-5-semialdehyde dehydrogenase)\n",
    "proA = eco.genes.get_by_id('b0243')\n",
    "#ulaG (L-ascorbate-6-phosphate lactonase)\n",
    "ulaG = eco.genes.get_by_id('b4192')\n",
    "#ytjC (Putative phosphatase)\n",
    "ytjc = eco.genes.get_by_id('b4395')\n",
    "#hisB (Imidazoleglycerol-phosphate dehydratase / histidinol-phosphatase)\n",
    "hisB = eco.genes.get_by_id('b2022')\n",
    "#gph (Phosphoglycolate phosphatase)\n",
    "gph = eco.genes.get_by_id('b3385')\n",
    "#murF (D-alanyl-D-alanine-adding enzyme)\n",
    "murF = eco.genes.get_by_id('b0086')"
   ]
  },
  {
   "cell_type": "code",
   "execution_count": 70,
   "metadata": {},
   "outputs": [],
   "source": [
    "# ThiG (1-deoxy-D-xylulose 5-phosphate:thiol sulfurtransferase)\n",
    "# El medio es M9-Glucosa sin fuentes de nitrógeno.\n",
    "# Microwells inoculados en 1.2 mL\n",
    "# Tiempo = 96 horas.\n",
    "# Temperatura = 37 °C\n",
    "# NH4Cl 3.04%, IPTG inducer  250 - 3.9 uM gives OD600 0.48 - 0.64.\n",
    "# A las 72 horas (3 días), las colonias tenían 1 mm de diámetro.\n",
    "\n",
    "# Reacción en EcoCyc:\n",
    "# 1-deoxy-D-xylulose 5-phosphate + 2-iminoacetate + a thiocarboxy-[ThiS-Protein] → 2-[(2R,5Z)-2-carboxy-4-methylthiazol-5(2H)-ylidene]ethyl phosphate + a ThiS sulfur-carrier protein + 2 H2O\n",
    "# en EcoCyc, thiG está asignado a esta reacción, pero en iJO1366,\n",
    "# la reacción asignada es tyrosine lyase.\n",
    "# en iJO1366 el ID de la reacción asignada al gen b3991 es TYRL\n",
    "# según EcoCyc, b3991 es thiG\n",
    "#thiG.reactions\n",
    "#thiazole biosyntesis I\n",
    "TYRL = eco.reactions.get_by_id('TYRL')"
   ]
  },
  {
   "cell_type": "code",
   "execution_count": 71,
   "metadata": {},
   "outputs": [],
   "source": [
    "# Thiazole Biosynthesis I\n",
    "#iscS - b2530\n",
    "#ISC Cysteine desulfuration\n",
    "rxs1 = eco.reactions.ICYSDS\n",
    "#sufS - b1680\n",
    "#SUF Cysteine desulfuration\n",
    "rxs2 = eco.reactions.SCYSDS\n",
    "#thiF - b3992\n",
    "#Thiazole phosphate synthesis\n",
    "rxs3 = eco.reactions.THZPSN3\n",
    "#thiI - b0423\n",
    "#Thiazole phosphate synthesis\n",
    "#thiH - b3990\n",
    "#Thiazole phosphate synthesis\n",
    "#dxs - b0420\n",
    "#1-deoxy-D-xylulose 5-phosphate synthase\n",
    "rxs6 = eco.reactions.DXPS\n",
    "#thiG - b3991\n",
    "#Tyrosine lyase\n",
    "rxs5 = eco.reactions.TYRL\n",
    "\n",
    "#thiH (2-iminoacetate synthase)\n",
    "thiH = eco.genes.get_by_id('b3990')\n",
    "# y la reacción tyrosine lyase está asignada al gen thiH en EcoCyc,\n",
    "# pero en iJO1366 se le asigna thiazole phosphate synthesis\n",
    "THZPSN3 = eco.reactions.get_by_id('THZPSN3')\n",
    "\n"
   ]
  },
  {
   "cell_type": "code",
   "execution_count": 67,
   "metadata": {},
   "outputs": [],
   "source": [
    "# KGPDC (3-keto-L-gulonate-6-phosphate decarboxylase)\n",
    "ulaD.reactions\n",
    "kgpdc = eco.reactions.get_by_id('KG6PDC')\n",
    "#rib5pho = eco.metabolites.get_by_id('ru5p__D_c')\n",
    "# hexulose is not in E. coli\n",
    "#for i in [x for x in eco.metabolites if x.formula == 'C6H12O6']: print i.name, i.id, i.formula\n"
   ]
  },
  {
   "cell_type": "code",
   "execution_count": 64,
   "metadata": {},
   "outputs": [],
   "source": [
    "#Exchange reactions\n",
    "#for rxs in [x for x in eco.reactions if 'EX_' in x.id]:\n",
    "#    met = eco.metabolites.get_by_id(str(rxs.reactants[0]))\n",
    "#    if float(met.formula_weight) < 150 and float(met.formula_weight) > 50:print met.name, '\\t', met.formula, '\\t',rxs.name ,'\\t' , rxs.reaction, '\\t', met.formula_weight"
   ]
  },
  {
   "cell_type": "code",
   "execution_count": 4,
   "metadata": {},
   "outputs": [
    {
     "name": "stdout",
     "output_type": "stream",
     "text": [
      "Eliminación de aldA:\n",
      "\tModelo sin modificar:  0.982371812727\n",
      "\tModelo delta aldA sin acetol:  -4.70104383739e-16\n",
      "\tModelo con acetol:  0.0\n",
      "Eliminación de aldA e inhibición química de dxs con acetol:\n",
      "\tModelo sin modificar:  0.982371812727\n",
      "\tModelo delta aldA y dxs inhibido:  0.0\n",
      "\tModelo sin reacción promiscua y acetol:  0.0\n",
      "\tModelo con reacción promiscua y acetol:  0.78485687904\n",
      "Sin eliminar aldA e inhibición química de dxs con acetol:\n",
      "\tModelo sin modificar:  0.982371812727\n",
      "\tModelo delta aldA y dxs inhibido:  0.599647266314\n",
      "\tModelo sin reacción promiscua y acetol:  0.599647266314\n",
      "\tModelo con reacción promiscua y acetol:  0.78485687904\n"
     ]
    }
   ],
   "source": [
    "#FSA1 (fructose-6-phosphate aldolase 1)\n",
    "# Define the promiscuous DXS reaction\n",
    "#    Metabolites:\n",
    "Glycolaldehyde = eco.metabolites.get_by_id('gcald_c')\n",
    "Hydroxyacetone = eco.metabolites.get_by_id('acetol_c')\n",
    "Deoxyxylulose = eco.metabolites.get_by_id('dxyl_c')\n",
    "#    Reaction:\n",
    "DXS = Reaction('DXS')\n",
    "DXS.name = '1-deoxy-D-xylulose synthase'\n",
    "DXS.add_metabolites({\n",
    "    Glycolaldehyde: -1.0,\n",
    "    Hydroxyacetone: -1.0,\n",
    "    Deoxyxylulose: 1.0\n",
    "})\n",
    "DXS.gene_reaction_rule = 'b0825'\n",
    "# Extracelular and periplasmic acetol diffussion reactions:\n",
    "#    Metabolites:\n",
    "acetol_c = eco.metabolites.acetol_c\n",
    "acetol_p = Metabolite(\n",
    "    'acetol_p',\n",
    "    formula= 'C3H6O2',\n",
    "    name='Acetol',\n",
    "    compartment='p')\n",
    "acetol_e = Metabolite(\n",
    "    'acetol_e',\n",
    "    formula= 'C3H6O2',\n",
    "    name='Acetol',\n",
    "    compartment='e')\n",
    "#    Exchange reaction:\n",
    "ACETOLex = Reaction('EX_acetol_e')\n",
    "ACETOLex.name = 'Acetol exchange'\n",
    "ACETOLex.add_metabolites({\n",
    "    acetol_p: -1.0,\n",
    "})\n",
    "ACETOLex.lower_bound = -10.0\n",
    "ACETOLex.upper_bound = 0\n",
    "#    Diffussion reaction to periplasm\n",
    "ACETOLp = Reaction('ACETOLtex')\n",
    "ACETOLp.name = 'Acetol transport via diffusion (to periplasm)'\n",
    "ACETOLp.add_metabolites({\n",
    "    acetol_e: -1.0,\n",
    "    acetol_p: 1.0\n",
    "})\n",
    "ACETOLp.gene_reaction_rule = '( b0241 or b0929 or b1377 or b2215 )'\n",
    "ACETOLp.lower_bound = -1000.0\n",
    "# Diffussion reaction to cytosol\n",
    "ACETOLc = Reaction('ACETOLtpp')\n",
    "ACETOLc.name = 'Acetol transport via facilitated diffusion (periplasm)'\n",
    "ACETOLc.add_metabolites({\n",
    "    acetol_p: -1.0,\n",
    "    acetol_c: 1.0\n",
    "})\n",
    "ACETOLc.lower_bound = -1000.0\n",
    "\n",
    "rxs = [ACETOLc,ACETOLp, ACETOLex]\n",
    "\n",
    "print 'Eliminación de aldA:'\n",
    "with eco as a:\n",
    "    sol = a.optimize()\n",
    "    print '\\tModelo sin modificar: ', sol.objective_value\n",
    "    a.genes.b1415.knock_out()\n",
    "    sol = a.optimize()\n",
    "    print '\\tModelo delta aldA sin acetol: ', sol.objective_value\n",
    "    a.add_reactions([ACETOLex, ACETOLp, ACETOLc])\n",
    "    sol = a.optimize()\n",
    "    print '\\tModelo con acetol: ', sol.objective_value\n",
    "    \n",
    "print 'Eliminación de aldA e inhibición química de dxs con acetol:'\n",
    "with eco as a:\n",
    "    print '\\tModelo sin modificar: ', a.optimize().objective_value\n",
    "    a.reactions.DXPS.upper_bound = 0.0017\n",
    "    a.genes.b1415.knock_out()\n",
    "    print '\\tModelo delta aldA y dxs inhibido: ', a.optimize().objective_value\n",
    "    a.add_reactions(rxs)\n",
    "    print '\\tModelo sin reacción promiscua y acetol: ', a.optimize().objective_value\n",
    "    a.add_reaction(DXS)\n",
    "    print '\\tModelo con reacción promiscua y acetol: ', a.optimize().objective_value\n",
    "    \n",
    "print 'Sin eliminar aldA e inhibición química de dxs con acetol:'\n",
    "with eco as a:\n",
    "    print '\\tModelo sin modificar: ', a.optimize().objective_value\n",
    "    a.reactions.DXPS.upper_bound = 0.0017\n",
    "    print '\\tModelo delta aldA y dxs inhibido: ', a.optimize().objective_value\n",
    "    a.add_reactions(rxs)\n",
    "    print '\\tModelo sin reacción promiscua y acetol: ', a.optimize().objective_value\n",
    "    a.add_reaction(DXS)\n",
    "    print '\\tModelo con reacción promiscua y acetol: ', a.optimize().objective_value"
   ]
  },
  {
   "cell_type": "code",
   "execution_count": 9,
   "metadata": {},
   "outputs": [
    {
     "data": {
      "text/plain": [
       "[<Metabolite gcald_c at 0x7f0dc3ac0410>]"
      ]
     },
     "execution_count": 9,
     "metadata": {},
     "output_type": "execute_result"
    }
   ],
   "source": [
    "[x for x in eco.metabolites if x.name.lower() == 'glycolaldehyde']"
   ]
  },
  {
   "cell_type": "code",
   "execution_count": 20,
   "metadata": {},
   "outputs": [
    {
     "data": {
      "text/plain": [
       "frozenset({<Gene b1813 at 0x7f0dc2a0fad0>, <Gene b4034 at 0x7f0dc3761150>})"
      ]
     },
     "execution_count": 20,
     "metadata": {},
     "output_type": "execute_result"
    }
   ],
   "source": [
    "# pdxByeaB knock out should grow\n",
    "#malE b4034\n",
    "#yeaB/nudL b1813\n",
    "# Agregar gen nudL\n",
    "Phosphohydroxypyruvate = eco.metabolites.get_by_id('3php_c')\n",
    "Hydroxypyruvate = eco.metabolites.get_by_id('hpyr_c')\n",
    "Phosphate = eco.metabolites.get_by_id('pi_c')\n",
    "Water = eco.metabolites.get_by_id('h2o_c')\n",
    "\n",
    "#Promiscuous 3-phosphohydroxypyruvate decarboxylation\n",
    "PHDPC = Reaction('3PHPDP_prom')\n",
    "PHDPC.name = '3-Phosphohydroxypyruvate decarboxylation'\n",
    "PHDPC.add_metabolites({\n",
    "    Phosphohydroxypyruvate: -1.0,\n",
    "    Water: -1.0,\n",
    "    Hydroxypyruvate: 1.0,\n",
    "    Phosphate: 1.0\n",
    "})\n",
    "PHDPC.gene_reaction_rule = ' ( b4034 and b1813 ) '"
   ]
  },
  {
   "cell_type": "code",
   "execution_count": 18,
   "metadata": {},
   "outputs": [],
   "source": [
    "#pdxBsucAdxs grows with yeaB or thrB overexpressed\n",
    "#dxs (1-deoxyxylulose-5-phosphate synthase) b0420\n",
    "#sucA ()  b0726\n",
    "CO2 = eco.metabolites.co2_c\n",
    "Glycolaldehyde = eco.metabolites.gcald_c\n",
    "Hydrogen = eco.metabolites.get_by_id('h_c')\n",
    "# Hydroxypyruvate decarboxylation\n",
    "HPDC = Reaction('HPDC_prom')\n",
    "HPDC.name = 'Hydroxypyruvate decarboxylation'\n",
    "HPDC.add_metabolites({\n",
    "    Hydroxypyruvate: -1.0,\n",
    "    Hydrogen: -1.0,\n",
    "    Glycolaldehyde: 1.0,\n",
    "    CO2: 1.0\n",
    "})\n",
    "HPDC.gene_reaction_rule = ' ( b0420 or b0726 ) '"
   ]
  },
  {
   "cell_type": "code",
   "execution_count": 27,
   "metadata": {},
   "outputs": [
    {
     "data": {
      "text/plain": [
       "'Glycine'"
      ]
     },
     "execution_count": 27,
     "metadata": {},
     "output_type": "execute_result"
    }
   ],
   "source": []
  },
  {
   "cell_type": "code",
   "execution_count": 31,
   "metadata": {},
   "outputs": [
    {
     "data": {
      "text/plain": [
       "'4hthr_c <=> gcald_c + gly_c'"
      ]
     },
     "execution_count": 31,
     "metadata": {},
     "output_type": "execute_result"
    }
   ],
   "source": [
    "#LtaE b0870\n",
    "# Add L-Threonine aldolase\n",
    "#pdxBltaE can grow in the presence of pyridoxine,\n",
    "#but not with upstream intermidiates (3PHP, 3HP, Glycolaldehyde)\n",
    "#It can grow when 4HT is supplied.\n",
    "Hydroxythreonine = eco.metabolites.get_by_id('4hthr_c')\n",
    "Gly = eco.metabolites.gly_c\n",
    "\n",
    "THRALD = Reaction('THRALD')\n",
    "THRALD.name = 'Low-specificity L-threonine aldolase'\n",
    "THRALD.add_metabolites({\n",
    "    Hydroxythreonine: -1.0,\n",
    "    Gly: 1.0,\n",
    "    Glycolaldehyde: 1.0\n",
    "})\n",
    "THRALD.gene_reaction_rule = 'b0870'\n",
    "THRALD.lower_bound = -1000.0\n",
    "THRALD.reaction"
   ]
  },
  {
   "cell_type": "code",
   "execution_count": 3,
   "metadata": {},
   "outputs": [
    {
     "data": {
      "text/plain": [
       "{}"
      ]
     },
     "execution_count": 3,
     "metadata": {},
     "output_type": "execute_result"
    }
   ],
   "source": [
    "#thrB (Homoserine Kinase)\n",
    "# pdxBthrB can grow in presence of pyridoxyne, but not with upstream intermediates.\n",
    "ATP = eco.metabolites.get_by_id('atp_c')\n",
    "ADP = eco.metabolites.get_by_id('adp_c')\n",
    "Phosphooxythreonine = eco.metabolites.get_by_id('phthr_c')\n",
    "\n",
    "#promiscuous 4-hydroxy-L-threonine phosphorylation\n",
    "HTHRP = Reaction('HTHRP_prom')\n",
    "HTHRP.name = '4-hydroxy-L-threonine phosphorylation'\n",
    "HTHRP.add_metabolites({\n",
    "    Hydroxythreonine: -1.0,\n",
    "    ATP: -1.0,\n",
    "    Phosphooxythreonine: 1.0,\n",
    "    ADP: 1.0,\n",
    "    Hydrogen: 1.0\n",
    "})\n",
    "HTHRP.gene_reaction_rule = 'b0003'\n",
    "\n",
    "\n",
    "\n"
   ]
  },
  {
   "cell_type": "code",
   "execution_count": 41,
   "metadata": {},
   "outputs": [
    {
     "data": {
      "text/plain": [
       "'acg5sa_c + h2o_c --> ac_c + glu5sa_c'"
      ]
     },
     "execution_count": 41,
     "metadata": {},
     "output_type": "execute_result"
    }
   ],
   "source": [
    "#argE (acetylornithine transferase)\n",
    "\n",
    "acetylglutamate = eco.metabolites.get_by_id('acg5sa_c')\n",
    "Water = eco.metabolites.get_by_id('h2o_c')\n",
    "Acetate = eco.metabolites.ac_c\n",
    "glutamatesemialdehyde = eco.metabolites.glu5sa_c\n",
    "\n",
    "AGLUSA = Reaction('AGLUSA')\n",
    "AGLUSA.name = 'N-Acetyl-L-Glutamate semaldehyde deacetylation'\n",
    "AGLUSA.add_metabolites({\n",
    "    acetylglutamate: -1.0,\n",
    "    Water: -1.0,\n",
    "    Acetate: 1.0,\n",
    "    glutamatesemialdehyde: 1.0\n",
    "})\n",
    "AGLUSA.gene_reaction_rule = 'b3957'\n",
    "#r = list(argE.reactions)\n",
    "#dir(r[0])\n",
    "#print r[1]\n",
    "#print eco.reactions.get_by_id(str(r[0].id)).name, '\\t', eco.reactions.get_by_id(str(r[0].id)).reaction\n",
    "#print eco.reactions.get_by_id(str(r[1].id)).name, '\\t', eco.reactions.get_by_id(str(r[1].id)).reaction"
   ]
  },
  {
   "cell_type": "code",
   "execution_count": 46,
   "metadata": {},
   "outputs": [
    {
     "data": {
      "text/plain": [
       "frozenset({<Gene b1262 at 0x7f0dc37b1250>})"
      ]
     },
     "execution_count": 46,
     "metadata": {},
     "output_type": "execute_result"
    }
   ],
   "source": [
    "#purF b2312\n",
    "trpF = eco.genes.b1262\n",
    "trpF.reactions\n",
    "# Assign reaction rule to ' ( b2312 or b1262) '\n",
    "eco.reactions.PRAIi.gene_reaction_rule = ' ( b2312 or b1262) '\n",
    "\n",
    "# knock out trpF and simulate with promiscuous reaction\n",
    "# medio E con glucosa"
   ]
  },
  {
   "cell_type": "code",
   "execution_count": 53,
   "metadata": {},
   "outputs": [
    {
     "data": {
      "text/plain": [
       "'b0243'"
      ]
     },
     "execution_count": 53,
     "metadata": {},
     "output_type": "execute_result"
    }
   ],
   "source": [
    "#proA\n",
    "argC = eco.genes.b3958\n",
    "\n",
    "AGPR = eco.reactions.AGPR\n",
    "AGPR.gene_reaction_rule = ' ( b3958 or b0243 ) '\n",
    "\n"
   ]
  },
  {
   "cell_type": "code",
   "execution_count": null,
   "metadata": {},
   "outputs": [],
   "source": []
  },
  {
   "cell_type": "code",
   "execution_count": null,
   "metadata": {},
   "outputs": [],
   "source": []
  },
  {
   "cell_type": "code",
   "execution_count": null,
   "metadata": {},
   "outputs": [],
   "source": []
  },
  {
   "cell_type": "code",
   "execution_count": null,
   "metadata": {},
   "outputs": [],
   "source": []
  },
  {
   "cell_type": "code",
   "execution_count": null,
   "metadata": {},
   "outputs": [],
   "source": []
  }
 ],
 "metadata": {
  "kernelspec": {
   "display_name": "Python 2",
   "language": "python",
   "name": "python2"
  },
  "language_info": {
   "codemirror_mode": {
    "name": "ipython",
    "version": 2
   },
   "file_extension": ".py",
   "mimetype": "text/x-python",
   "name": "python",
   "nbconvert_exporter": "python",
   "pygments_lexer": "ipython2",
   "version": "2.7.12"
  }
 },
 "nbformat": 4,
 "nbformat_minor": 2
}
