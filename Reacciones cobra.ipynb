{
 "cells": [
  {
   "cell_type": "code",
   "execution_count": 1,
   "metadata": {},
   "outputs": [],
   "source": [
    "import cobra, cobra.test\n",
    "from cobra import Reaction, Metabolite, Model\n",
    "# Declare iJO1366\n",
    "eco = cobra.test.create_test_model('ecoli')"
   ]
  },
  {
   "cell_type": "code",
   "execution_count": 2,
   "metadata": {},
   "outputs": [],
   "source": []
  },
  {
   "cell_type": "code",
   "execution_count": 10,
   "metadata": {},
   "outputs": [
    {
     "name": "stdout",
     "output_type": "stream",
     "text": [
      "324 25\n"
     ]
    }
   ],
   "source": [
    "#for rxs in [x for x in eco.reactions if 'EX_' in x.id]: print rxs.id, '\\t',rxs.reaction, '\\t', rxs.name,'\\t', eco.metabolites.get_by_id(str(rxs.reactants[0])).id\n",
    "\n",
    "print len([x for x in eco.reactions if 'EX_' in x.id and float(x.upper_bound) > 0 ]), len(eco.medium)\n"
   ]
  },
  {
   "cell_type": "code",
   "execution_count": 8,
   "metadata": {},
   "outputs": [],
   "source": [
    "#M9 Minimum\n",
    "# Biotin btn_e\n",
    "# Thiamin thm_e\n",
    "#Salt solutions:\n",
    "# Na2HPO4 \n",
    "# KH2PO4\n",
    "# NaCl\n",
    "# NH4Cl\n",
    "# MgSO4\n",
    "# CaCl2\n",
    "# -------------------\n",
    "# Grows after adding:\n",
    "# -------------------\n",
    "# - Methanol 'meoh_e'\n",
    "# - Molybdate 'mobd_e'\n",
    "# - Nickel 'ni2_e'\n",
    "# -------------------\n",
    "# Found after growth:\n",
    "# -------------------\n",
    "# - Cadmium 'cd2_e'\n",
    "# - Mercury 'hg2_e'\n",
    "# - Tungstate 'tungs_e'\n",
    "# - Superoxide anion 'o2s_e'\n",
    "\n",
    "\n",
    "\n",
    "Miminum = ['pi_e', 'ni2_e', 'mobd_e', 'meoh_e', 'hg_e', 'ag_e', 'zn2_e', 'btn_e', 'thm_e', 'so4_e', 'ca2_e', 'cl_e',  \\\n",
    "           'mg2_e', 'k_e', 'na1_e', 'nh4_e', 'h2o_e', 'h2_e', 'h_e', 'cu_e', 'cu2_e', 'co2_e', 'cobalt2_e', 'fe3_e',  \\\n",
    "           'fe2_e', 'mn2_e', 'glc__D_e', 'o2_e', 'cd2_e', 'hg2_e', 'tungs_e', 'o2s_e']\n",
    "\n",
    "Minimum_after_checking = ['pi_e', 'ni2_e', 'mobd_e', 'meoh_e', 'hg_e', 'zn2_e', 'so4_e', 'ca2_e', 'cl_e',   \\\n",
    "           'mg2_e', 'k_e', 'nh4_e', 'h2o_e', 'cu2_e', 'co2_e', 'cobalt2_e', 'fe3_e',   \\\n",
    "           'mn2_e', 'glc__D_e', 'o2_e']\n",
    "\n",
    "rest_after_checking = ['ag_e', 'btn_e', 'thm_e', \\\n",
    "           'na1_e', 'h2_e', 'h_e', 'cu_e',       \\\n",
    "           'fe2_e',  'cd2_e', 'hg2_e', 'tungs_e', 'o2s_e']\n",
    "\n",
    "Minimum_after_checking2 = ['pi_e', 'ni2_e', 'mobd_e', 'meoh_e', 'hg_e', 'zn2_e', 'so4_e', 'ca2_e', 'cl_e',   \\\n",
    "           'mg2_e', 'k_e', 'nh4_e', 'h2o_e', 'cu2_e', 'co2_e', 'cobalt2_e', 'fe3_e',   \\\n",
    "           'mn2_e', 'glc__D_e', 'o2_e', 'h_e', 'fe2_e']"
   ]
  },
  {
   "cell_type": "code",
   "execution_count": 15,
   "metadata": {},
   "outputs": [
    {
     "name": "stdout",
     "output_type": "stream",
     "text": [
      "0.982371812727\n",
      "Resultado:  0.982371812727\n",
      "EX_ni2_e\n",
      "EX_h_e\n",
      "EX_mobd_e\n",
      "EX_o2_e\n",
      "EX_cobalt2_e\n",
      "EX_mg2_e\n",
      "EX_so4_e\n",
      "EX_glc_e\n",
      "EX_pi_e\n",
      "EX_co2_e\n",
      "EX_ca2_e\n",
      "EX_k_e\n",
      "EX_cu2_e\n",
      "EX_zn2_e\n",
      "EX_cl_e\n",
      "EX_fe3_e\n",
      "EX_h2o_e\n",
      "EX_nh4_e\n",
      "EX_fe2_e\n",
      "EX_mn2_e\n"
     ]
    }
   ],
   "source": [
    "#Exchange reactions:\n",
    "with eco:\n",
    "    print eco.optimize().objective_value\n",
    "    for rxs in [x for x in eco.reactions if 'EX_' in x.id]:\n",
    "        if str(rxs.reactants[0]) not in Minimum_after_checking2:\n",
    "            #print eco.metabolites.get_by_id(str(rxs.reactants[0])).id, eco.metabolites.get_by_id(str(rxs.reactants[0])).formula, rxs.name ,rxs.lower_bound, rxs.upper_bound\n",
    "            eco.reactions.get_by_id(str(rxs.id)).upper_bound = 0\n",
    "            eco.reactions.get_by_id(str(rxs.id)).lower_bound = 0\n",
    "            #sol = eco.optimize()\n",
    "            #print sol.objective_value, '\\t', eco.metabolites.get_by_id(str(rxs.reactants[0])).formula, '\\t', eco.metabolites.get_by_id(str(rxs.reactants[0])).name, '\\t', rxs.upper_bound, '\\t', rxs.lower_bound\n",
    "\n",
    "#        else: print eco.metabolites.get_by_id(str(rxs.reactants[0])).formula, '\\t', eco.metabolites.get_by_id(str(rxs.reactants[0])).name, '\\t', rxs.upper_bound, '\\t', rxs.lower_bound\n",
    "        \n",
    " #   for rxs1 in [x for x in eco.reactions if 'EX_' in x.id and str(x.reactants[0]) in rest_after_checking]: \n",
    "  #      with eco:\n",
    "      #      print \"with: \", rxs1.name\n",
    "     #       for rxs in [x for x in eco.reactions if 'EX_' in x.id and str(x.reactants[0]) in rest_after_checking]: \n",
    "    #            if rxs1.id != rxs.id:\n",
    "   #                 eco.reactions.get_by_id(str(rxs.id)).upper_bound = 0\n",
    "  #                  eco.reactions.get_by_id(str(rxs.id)).lower_bound = 0\n",
    "                #else: print \"do nothing\", rxs.name\n",
    " #           sol = eco.optimize()\n",
    "#            print sol.objective_value, '\\t', eco.metabolites.get_by_id(str(rxs1.reactants[0])).formula, '\\t', eco.metabolites.get_by_id(str(rxs1.reactants[0])).name, '\\t', rxs1.upper_bound, '\\t', rxs1.lower_bound\n",
    "                \n",
    "        \n",
    "    print \"Resultado: \", eco.optimize().objective_value\n",
    "    for k,v in eco.medium.iteritems(): print k"
   ]
  },
  {
   "cell_type": "code",
   "execution_count": 33,
   "metadata": {},
   "outputs": [
    {
     "name": "stdout",
     "output_type": "stream",
     "text": [
      "ca2_e \t9 \t0.982371812727 \t2.12852354367e-16 \tCalcium exchange\n",
      "cl_e \t7 \t0.982371812727 \t0.0 \tChloride exchange\n",
      "co2_e \t87 \t0.982371812727 \t0.698071107854 \tCO2 exchange\n",
      "cobalt2_e \t11 \t0.982371812727 \t0.0 \tCo2+ exchange\n",
      "cu2_e \t15 \t0.982371812727 \t0.0 \tCu2+ exchange\n",
      "fe3_e \t20 \t0.982371812727 \t0.982371812727 \tFe3+ exchange\n",
      "glc__D_e \t31 \t0.982371812727 \t-0.0239410614238 \tD-Glucose exchange\n",
      "h2o_e \t746 \t0.982371812727 \t0.496865390874 \tH2O exchange\n",
      "k_e \t11 \t0.982371812727 \t0.0 \tK+ exchange\n",
      "meoh_e \t6 \t0.982371812727 \t0.0 \tmethanol exchange\n",
      "mg2_e \t11 \t0.982371812727 \t0.0 \tMg exchange\n",
      "mn2_e \t11 \t0.982371812727 \t0.0 \tMn2+ exchange\n",
      "mobd_e \t8 \t0.982371812727 \t0.0 \tMolybdate exchange\n",
      "nh4_e \t62 \t0.982371812727 \t1.06885472227e-14 \tAmmonia exchange\n",
      "ni2_e \t13 \t0.982371812727 \t-3.26930419404e-16 \tNi2+ exchange\n",
      "o2_e \t49 \t0.982371812727 \t0.241501557097 \tO2 exchange\n",
      "pi_e \t362 \t0.982371812727 \t1.17970353455e-14 \tPhosphate exchange\n",
      "so4_e \t11 \t0.982371812727 \t-1.15093027761e-16 \tSulfate exchange\n",
      "zn2_e \t13 \t0.982371812727 \t0.0 \tZinc exchange\n"
     ]
    }
   ],
   "source": [
    "# delete exchange reactions and check in how many other reactions the metabolite is involved\n",
    "\n",
    "for rxs in [x for x in eco.reactions if 'EX_' in x.id and str(x.reactants[0]) in Minimum_after_checking]:\n",
    "    with eco:\n",
    "        sol_b = eco.optimize().objective_value\n",
    "        eco.reactions.get_by_id(rxs.id).upper_bound = 0\n",
    "        eco.reactions.get_by_id(rxs.id).lower_bound = 0\n",
    "        c = 0\n",
    "        for n in [x for x in eco.metabolites if str(rxs.reactants[0])[:-1] == str(x.id)[:-1]]:\n",
    "            #print n.reactions\n",
    "            c+=len(n.reactions)\n",
    "        print rxs.reactants[0], '\\t', c, '\\t', sol_b ,'\\t' ,eco.optimize().objective_value, '\\t', rxs.name"
   ]
  },
  {
   "cell_type": "code",
   "execution_count": 9,
   "metadata": {},
   "outputs": [
    {
     "name": "stdout",
     "output_type": "stream",
     "text": [
      "ag_e\n",
      "ag_c silver frozenset([<Reaction AGt3 at 0x7f02cf5c5f10>])\n",
      "ag_e silver frozenset([<Reaction AGt3 at 0x7f02cf5c5f10>, <Reaction EX_ag_e at 0x7f02cf6f40d0>])\n",
      "btn_e\n",
      "btn_c Biotin frozenset([<Reaction BSORx at 0x7f02cf4df110>, <Reaction BSORy at 0x7f02cf4df250>, <Reaction Ec_biomass_iJO1366_core_53p95M at 0x7f02cf6e0290>, <Reaction BTS5 at 0x7f02cf4df690>, <Reaction BTNt2ipp at 0x7f02cf4df5d0>, <Reaction Ec_biomass_iJO1366_WT_53p95M at 0x7f02cf6e0250>])\n",
      "btn_e Biotin frozenset([<Reaction EX_btn_e at 0x7f02cf6f4790>, <Reaction BTNtex at 0x7f02cf4df650>])\n",
      "btn_p Biotin frozenset([<Reaction BTNt2ipp at 0x7f02cf4df5d0>, <Reaction BTNtex at 0x7f02cf4df650>])\n",
      "ca2_e\n",
      "ca2_c Calcium frozenset([<Reaction Ec_biomass_iJO1366_core_53p95M at 0x7f02cf6e0290>, <Reaction CA2t3pp at 0x7f02cf4dfd50>, <Reaction CAt6pp at 0x7f02cf4f5150>, <Reaction Ec_biomass_iJO1366_WT_53p95M at 0x7f02cf6e0250>])\n",
      "ca2_e Calcium frozenset([<Reaction EX_ca2_e at 0x7f02cf6f48d0>, <Reaction CA2tex at 0x7f02cf4dfed0>])\n",
      "ca2_p Calcium frozenset([<Reaction CA2tex at 0x7f02cf4dfed0>, <Reaction CAt6pp at 0x7f02cf4f5150>, <Reaction CA2t3pp at 0x7f02cf4dfd50>])\n",
      "cl_e\n",
      "cl_c Chloride frozenset([<Reaction Ec_biomass_iJO1366_core_53p95M at 0x7f02cf6e0290>, <Reaction Ec_biomass_iJO1366_WT_53p95M at 0x7f02cf6e0250>, <Reaction CLt3_2pp at 0x7f02cf49ecd0>])\n",
      "cl_e Chloride frozenset([<Reaction EX_cl_e at 0x7f02cf6f4b10>, <Reaction CLtex at 0x7f02cf49ed90>])\n",
      "cl_p Chloride frozenset([<Reaction CLtex at 0x7f02cf49ed90>, <Reaction CLt3_2pp at 0x7f02cf49ecd0>])\n",
      "co2_e\n",
      "co2_c CO2 frozenset([<Reaction PPNDH at 0x7f02cef9ba50>, <Reaction ORNDC at 0x7f02cf078f90>, <Reaction 3OAS140 at 0x7f02cf63c090>, <Reaction CPPPGO at 0x7f02cf4c52d0>, <Reaction DAPDC at 0x7f02cf490110>, <Reaction PPCDC at 0x7f02cef9b350>, <Reaction MALDDH at 0x7f02cf158d90>, <Reaction FHL at 0x7f02cf37e190>, <Reaction GLUDC at 0x7f02cf29ba90>, <Reaction DXPS at 0x7f02cf3f41d0>, <Reaction 3OAS141 at 0x7f02cf63c210>, <Reaction 3OAS160 at 0x7f02cf63c250>, <Reaction CPPPGO2 at 0x7f02cf4c5310>, <Reaction AKGDH at 0x7f02cf55a290>, <Reaction PPC at 0x7f02cef9b2d0>, <Reaction 3OAS80 at 0x7f02cf63c5d0>, <Reaction URIC at 0x7f02cee8d310>, <Reaction PSD181 at 0x7f02cefc2350>, <Reaction SADH at 0x7f02cef25890>, <Reaction 3OAS180 at 0x7f02cf63c390>, <Reaction DHNAOT4 at 0x7f02cf43b3d0>, <Reaction ICDHyr at 0x7f02cf247b50>, <Reaction LYSDC at 0x7f02cf158410>, <Reaction GLXCL at 0x7f02cf2ae450>, <Reaction 3OAS121 at 0x7f02cf625610>, <Reaction 3OAS181 at 0x7f02cf63c490>, <Reaction ADMDC at 0x7f02cf5b34d0>, <Reaction GLYCL at 0x7f02cf2c1510>, <Reaction OXCDC at 0x7f02cf08f550>, <Reaction PSD180 at 0x7f02cefc22d0>, <Reaction UPPDC1 at 0x7f02cee79e50>, <Reaction UGLYCH at 0x7f02cee79610>, <Reaction ACLS at 0x7f02cf5f8910>, <Reaction PDH at 0x7f02cf021a50>, <Reaction PSD161 at 0x7f02cefc2250>, <Reaction ME1 at 0x7f02cf190bd0>, <Reaction ALLTAMH at 0x7f02cf56d910>, <Reaction CBMD at 0x7f02cf4f5750>, <Reaction TAUDO at 0x7f02ceef4e90>, <Reaction OGMEACPS at 0x7f02cf078790>, <Reaction PSD160 at 0x7f02cefc21d0>, <Reaction CBMKr at 0x7f02cf4f5890>, <Reaction ARGDC at 0x7f02cf527910>, <Reaction 3OAS161 at 0x7f02cf63c350>, <Reaction GND at 0x7f02cf254950>, <Reaction AOBUTDs at 0x7f02cf513190>, <Reaction PPND at 0x7f02cef9b990>, <Reaction MMCD at 0x7f02cf136450>, <Reaction POR5 at 0x7f02cf008a10>, <Reaction DBTS at 0x7f02cf490a50>, <Reaction OPMEACPS at 0x7f02cf078f10>, <Reaction POX at 0x7f02cf008a90>, <Reaction AOXSr2 at 0x7f02cf5131d0>, <Reaction OMPDC at 0x7f02cf078b10>, <Reaction MACPD at 0x7f02cf158b50>, <Reaction OPHBDC at 0x7f02cf078c90>, <Reaction OMCDC at 0x7f02cf078990>, <Reaction ACHBS at 0x7f02cf5f8b90>, <Reaction ASP1DC at 0x7f02cf537bd0>, <Reaction HCO3E at 0x7f02cf290750>, <Reaction KAS14 at 0x7f02cf1f0b50>, <Reaction ME2 at 0x7f02cf190c50>, <Reaction PDX5PS at 0x7f02cf021c90>, <Reaction 3OAS60 at 0x7f02cf63c4d0>, <Reaction KAS15 at 0x7f02cf1f0d50>, <Reaction KG6PDC at 0x7f02cf1f0f90>, <Reaction NNDPR at 0x7f02cf09bd90>, <Reaction IGPS at 0x7f02cf1da250>, <Reaction OAADC at 0x7f02cf064e50>, <Reaction PPCK at 0x7f02cef9b4d0>, <Reaction SEPHCHCS at 0x7f02cef38510>, <Reaction THZPSN3 at 0x7f02cee99e90>, <Reaction 3OAS120 at 0x7f02cf625fd0>, <Reaction PSD120 at 0x7f02cefaef10>, <Reaction 3OAS100 at 0x7f02cf625f50>, <Reaction PSD141 at 0x7f02cefaea90>, <Reaction PSD140 at 0x7f02cefaef90>, <Reaction CYNTAH at 0x7f02cf458f90>, <Reaction CO2tpp at 0x7f02cf4b21d0>, <Reaction UDPGDC at 0x7f02cee65fd0>])\n",
      "co2_e CO2 frozenset([<Reaction EX_co2_e at 0x7f02cf6f4c10>, <Reaction CO2tex at 0x7f02cf4b2090>])\n",
      "co2_p CO2 frozenset([<Reaction ARGDCpp at 0x7f02cf5279d0>, <Reaction CO2tex at 0x7f02cf4b2090>, <Reaction CO2tpp at 0x7f02cf4b21d0>, <Reaction FDH4pp at 0x7f02cf3c48d0>, <Reaction FDH5pp at 0x7f02cf3c49d0>])\n",
      "cobalt2_e\n",
      "cobalt2_c Co2+ frozenset([<Reaction COBALT2abcpp at 0x7f02cf4b2210>, <Reaction Ec_biomass_iJO1366_core_53p95M at 0x7f02cf6e0290>, <Reaction COBALT2tpp at 0x7f02cf4b2750>, <Reaction COBALT2t3pp at 0x7f02cf4b2490>, <Reaction Ec_biomass_iJO1366_WT_53p95M at 0x7f02cf6e0250>])\n",
      "cobalt2_e Co2+ frozenset([<Reaction COBALT2tex at 0x7f02cf4b2710>, <Reaction EX_cobalt2_e at 0x7f02cf6f4c50>])\n",
      "cobalt2_p Co2+ frozenset([<Reaction COBALT2tex at 0x7f02cf4b2710>, <Reaction COBALT2tpp at 0x7f02cf4b2750>, <Reaction COBALT2t3pp at 0x7f02cf4b2490>, <Reaction COBALT2abcpp at 0x7f02cf4b2210>])\n",
      "cu_e\n",
      "cu_c Cu+ frozenset([<Reaction CU1abcpp at 0x7f02cf458890>, <Reaction CUt3 at 0x7f02cf458a50>])\n",
      "cu_e Cu+ frozenset([<Reaction CUt3 at 0x7f02cf458a50>, <Reaction CUtex at 0x7f02cf458ad0>, <Reaction EX_cu_e at 0x7f02cf6f4ed0>])\n",
      "cu_p Cu+ frozenset([<Reaction CU1abcpp at 0x7f02cf458890>, <Reaction CU1Opp at 0x7f02cf4587d0>, <Reaction CUtex at 0x7f02cf458ad0>])\n",
      "cu2_e\n",
      "cu2_c Cu2+ frozenset([<Reaction CU2tpp at 0x7f02cf458a10>, <Reaction BMOCOS at 0x7f02cf54ce50>, <Reaction Ec_biomass_iJO1366_WT_53p95M at 0x7f02cf6e0250>, <Reaction CU2abcpp at 0x7f02cf458910>, <Reaction Ec_biomass_iJO1366_core_53p95M at 0x7f02cf6e0290>, <Reaction MOCOS at 0x7f02cf0df210>, <Reaction BWCOS at 0x7f02cf4dfd10>, <Reaction WCOS at 0x7f02cee8dbd0>, <Reaction MPTS at 0x7f02cf0df850>])\n",
      "cu2_e Cu2+ frozenset([<Reaction EX_cu2_e at 0x7f02cf6f4f10>, <Reaction CU2tex at 0x7f02cf458990>])\n",
      "cu2_p Cu2+ frozenset([<Reaction CU2tex at 0x7f02cf458990>, <Reaction CU2abcpp at 0x7f02cf458910>, <Reaction CU1Opp at 0x7f02cf4587d0>, <Reaction CU2tpp at 0x7f02cf458a10>])\n",
      "fe2_e\n",
      "fe2_c Fe2+ frozenset([<Reaction S2FE2SS at 0x7f02cef90810>, <Reaction FEOXAMR2 at 0x7f02cf36c850>, <Reaction FCLT at 0x7f02cf3c4890>, <Reaction ARBTNR3 at 0x7f02cf5270d0>, <Reaction FECRMR3 at 0x7f02cf357ed0>, <Reaction FE3Ri at 0x7f02cf357910>, <Reaction FE2tpp at 0x7f02cf357190>, <Reaction FEENTERR1 at 0x7f02cf36c190>, <Reaction FEOXAMR3 at 0x7f02cf36ca10>, <Reaction Ec_biomass_iJO1366_WT_53p95M at 0x7f02cf6e0250>, <Reaction CPGNR1 at 0x7f02cf4b2b10>, <Reaction Ec_biomass_iJO1366_core_53p95M at 0x7f02cf6e0290>, <Reaction LIPOS at 0x7f02cf1aa310>, <Reaction FEENTERR2 at 0x7f02cf36c350>, <Reaction CPGNR2 at 0x7f02cf4b2b90>, <Reaction FE2abcpp at 0x7f02cf3c4f50>, <Reaction FE3HOXR1 at 0x7f02cf357450>, <Reaction S2FE2SS2 at 0x7f02cef90a10>, <Reaction I2FE2SS at 0x7f02cf237c90>, <Reaction FECRMR1 at 0x7f02cf357cd0>, <Reaction I2FE2SS2 at 0x7f02cf2474d0>, <Reaction CPGNR3 at 0x7f02cf4b2d50>, <Reaction FEENTERR3 at 0x7f02cf36c390>, <Reaction FE3HOXR2 at 0x7f02cf357590>, <Reaction FE3HOXR3 at 0x7f02cf3575d0>, <Reaction SHCHF at 0x7f02cef4b250>, <Reaction FECRMR2 at 0x7f02cf357e50>, <Reaction FESR at 0x7f02cf36ced0>, <Reaction FE2t2pp at 0x7f02cf3c4fd0>, <Reaction ARBTNR1 at 0x7f02cf513f50>, <Reaction FEOXAMR1 at 0x7f02cf36c790>, <Reaction ARBTNR2 at 0x7f02cf513fd0>, <Reaction FE2t3pp at 0x7f02cf3c4650>])\n",
      "fe2_e Fe2+ frozenset([<Reaction FE2tex at 0x7f02cf357110>, <Reaction EX_fe2_e at 0x7f02cf708ad0>])\n",
      "fe2_p Fe2+ frozenset([<Reaction FEROpp at 0x7f02cf36cc10>, <Reaction FE2t3pp at 0x7f02cf3c4650>, <Reaction FE2tex at 0x7f02cf357110>, <Reaction FE2tpp at 0x7f02cf357190>, <Reaction FE2t2pp at 0x7f02cf3c4fd0>, <Reaction FE2abcpp at 0x7f02cf3c4f50>])\n",
      "fe3_e\n",
      "fe3_c Fe3+ frozenset([<Reaction FE3abcpp at 0x7f02cf357c10>, <Reaction Ec_biomass_iJO1366_WT_53p95M at 0x7f02cf6e0250>, <Reaction ENTERES2 at 0x7f02cf39a290>, <Reaction FE3DHBZR at 0x7f02cf357090>, <Reaction FE3DCITabcpp at 0x7f02cf3571d0>, <Reaction FE3Ri at 0x7f02cf357910>, <Reaction Ec_biomass_iJO1366_core_53p95M at 0x7f02cf6e0290>, <Reaction FESD1s at 0x7f02cf36cdd0>, <Reaction FESD2s at 0x7f02cf36ce50>])\n",
      "fe3_e Fe3+ frozenset([<Reaction FEENTERexs at 0x7f02cf36c410>, <Reaction EX_fe3_e at 0x7f02cf708b10>, <Reaction FEOXAMexs at 0x7f02cf36ca90>, <Reaction FE3HOXexs at 0x7f02cf357290>, <Reaction ARBTNexs at 0x7f02cf527110>, <Reaction FECRMexs at 0x7f02cf36c090>, <Reaction FE3tex at 0x7f02cf357c90>, <Reaction CPGNexs at 0x7f02cf4b2f90>])\n",
      "fe3_p Fe3+ frozenset([<Reaction FE3abcpp at 0x7f02cf357c10>, <Reaction FE3tex at 0x7f02cf357c90>, <Reaction FEROpp at 0x7f02cf36cc10>])\n",
      "glc__D_e\n",
      "glc__D_c D-Glucose frozenset([<Reaction GALS3 at 0x7f02cf34cc10>, <Reaction MLTG2 at 0x7f02cf136a10>, <Reaction MLTG1 at 0x7f02cf1368d0>, <Reaction AMALT1 at 0x7f02cf5804d0>, <Reaction GLCt2pp at 0x7f02cf307d50>, <Reaction XYLI2 at 0x7f02cee22790>, <Reaction TRE6PH at 0x7f02ceec0190>, <Reaction AMALT3 at 0x7f02cf580610>, <Reaction LACZ at 0x7f02cf202790>, <Reaction GLCATr at 0x7f02cf2f3e50>, <Reaction GLCabcpp at 0x7f02cf307b10>, <Reaction AMALT4 at 0x7f02cf580690>, <Reaction MLTG4 at 0x7f02cf136b10>, <Reaction G6PP at 0x7f02cf34c4d0>, <Reaction TREH at 0x7f02ceec0310>, <Reaction HEX1 at 0x7f02cf290f50>, <Reaction AMALT2 at 0x7f02cf580590>, <Reaction MLTG3 at 0x7f02cf136a90>, <Reaction MLTG5 at 0x7f02cf136b90>])\n",
      "glc__D_e D-Glucose frozenset([<Reaction EX_glc_e at 0x7f02cf695810>, <Reaction GLCtexi at 0x7f02cf307fd0>, <Reaction GLCtex at 0x7f02cf307d90>])\n",
      "glc__D_p D-Glucose frozenset([<Reaction G1PPpp at 0x7f02cf322450>, <Reaction LACZpp at 0x7f02cf202a90>, <Reaction GLCptspp at 0x7f02cf3076d0>, <Reaction GLCDpp at 0x7f02cf2f3ed0>, <Reaction GLCabcpp at 0x7f02cf307b10>, <Reaction GLCt2pp at 0x7f02cf307d50>, <Reaction TREHpp at 0x7f02ceec0490>, <Reaction GLCtex at 0x7f02cf307d90>, <Reaction GLCtexi at 0x7f02cf307fd0>])\n",
      "h_e\n",
      "h_c H+ frozenset([<Reaction CRNabcpp at 0x7f02cf4c5a90>, <Reaction INSt2rpp at 0x7f02cf1f0090>, <Reaction XYLt2pp at 0x7f02cee22ad0>, <Reaction TRDR at 0x7f02ceec0110>, <Reaction S2FE2SR at 0x7f02cef90150>, <Reaction TMDK1 at 0x7f02ceead590>, <Reaction HACD6 at 0x7f02cf2901d0>, <Reaction Ec_biomass_iJO1366_WT_53p95M at 0x7f02cf6e0250>, <Reaction Ec_biomass_iJO1366_core_53p95M at 0x7f02cf6e0290>, <Reaction IPDPS at 0x7f02cf1f0310>, <Reaction HACD8 at 0x7f02cf290350>, <Reaction SLNTtpp at 0x7f02cef4b650>, <Reaction IPMD at 0x7f02cf1f0390>, <Reaction HADPCOADH3 at 0x7f02cf290410>, <Reaction DAPabcpp at 0x7f02cf490450>, <Reaction 3OAS121 at 0x7f02cf625610>, <Reaction DASYN120 at 0x7f02cf490510>, <Reaction DASYN140 at 0x7f02cf490550>, <Reaction ALAALAabcpp at 0x7f02cf55a510>, <Reaction XYLabcpp at 0x7f02cee22b90>, <Reaction DASYN141 at 0x7f02cf4905d0>, <Reaction ISETACabcpp at 0x7f02cf1f0610>, <Reaction FMNAT at 0x7f02cf37e390>, <Reaction HCINNMt2rpp at 0x7f02cf290650>, <Reaction DAPDC at 0x7f02cf490110>, <Reaction MDH at 0x7f02cf190690>, <Reaction NTPP1 at 0x7f02cf053a90>, <Reaction DASYN160 at 0x7f02cf490750>, <Reaction K2L4Aabctex at 0x7f02cf1f0790>, <Reaction AMANK at 0x7f02cf5807d0>, <Reaction LPLIPAL2G160 at 0x7f02cf158150>, <Reaction HCYSMT2 at 0x7f02cf290810>, <Reaction DASYN180 at 0x7f02cf490850>, <Reaction AMMQLT8 at 0x7f02cf5808d0>, <Reaction DATPHs at 0x7f02cf490950>, <Reaction DB4PS at 0x7f02cf4909d0>, <Reaction S2FE2SS2 at 0x7f02cef90a10>, <Reaction EAR40x at 0x7f02cf3f4d50>, <Reaction DBTS at 0x7f02cf490a50>, <Reaction UAMAS at 0x7f02cee65710>, <Reaction OCBT at 0x7f02cf0781d0>, <Reaction ACALD at 0x7f02cf5e4b50>, <Reaction KAS14 at 0x7f02cf1f0b50>, <Reaction MALt3pp at 0x7f02cf16ac90>, <Reaction TRSARr at 0x7f02ceec0b90>, <Reaction TSULabcpp at 0x7f02ceec0bd0>, <Reaction CBMD at 0x7f02cf4f5750>, <Reaction HEPK2 at 0x7f02cf290c10>, <Reaction DCTPD at 0x7f02cf490c50>, <Reaction DCYTD at 0x7f02cf490c90>, <Reaction MECDPDH5 at 0x7f02cf190cd0>, <Reaction HEPT2 at 0x7f02cf290d10>, <Reaction KAS15 at 0x7f02cf1f0d50>, <Reaction UAPGR at 0x7f02cee65790>, <Reaction HEPT3 at 0x7f02cf290d90>, <Reaction HEPT4 at 0x7f02cf290e10>, <Reaction DCYTt2pp at 0x7f02cf490e50>, <Reaction MAN1PT2 at 0x7f02cf16ad10>, <Reaction ANS at 0x7f02cf580e90>, <Reaction S4FE4SR at 0x7f02cef90ed0>, <Reaction HEX1 at 0x7f02cf290f50>, <Reaction TRE6PS at 0x7f02ceec0290>, <Reaction KG6PDC at 0x7f02cf1f0f90>, <Reaction HEX4 at 0x7f02cf290fd0>, <Reaction FA160ACPHi at 0x7f02cf3b1090>, <Reaction LPLIPAL2G181 at 0x7f02cf1582d0>, <Reaction FA161ACPHi at 0x7f02cf3b1150>, <Reaction LPLIPAL2A120 at 0x7f02cf1c1190>, <Reaction NODOx at 0x7f02cf0b1210>, <Reaction FALDH2 at 0x7f02cf3b1290>, <Reaction FACOAE100 at 0x7f02cf3b12d0>, <Reaction GLYCK at 0x7f02cf2c1310>, <Reaction FACOAE120 at 0x7f02cf3b1350>, <Reaction CBMKr at 0x7f02cf4f5890>, <Reaction GLYCK2 at 0x7f02cf2c1390>, <Reaction FACOAE140 at 0x7f02cf3b13d0>, <Reaction LSERDHr at 0x7f02cf158350>, <Reaction LPLIPAL2A180 at 0x7f02cf1c1410>, <Reaction FACOAE141 at 0x7f02cf3b1450>, <Reaction LPLIPAL2A181 at 0x7f02cf1c1490>, <Reaction FACOAE160 at 0x7f02cf3b14d0>, <Reaction FACOAE161 at 0x7f02cf3b1550>, <Reaction FACOAE180 at 0x7f02cf3b15d0>, <Reaction GLYCLTDy at 0x7f02cf2c1610>, <Reaction FACOAE181 at 0x7f02cf3b1650>, <Reaction CRNDabcpp at 0x7f02cf4c5910>, <Reaction FACOAE60 at 0x7f02cf3b16d0>, <Reaction NODOy at 0x7f02cf0b1710>, <Reaction FACOAE80 at 0x7f02cf3b1750>, <Reaction FACOAL100t2pp at 0x7f02cf3b17d0>, <Reaction 3OAR100 at 0x7f02cf625950>, <Reaction FACOAL120t2pp at 0x7f02cf3b1850>, <Reaction OCTNLL at 0x7f02cf078410>, <Reaction FACOAL140t2pp at 0x7f02cf3b1890>, <Reaction FACOAL141t2pp at 0x7f02cf3b18d0>, <Reaction PAPSR2 at 0x7f02cf021950>, <Reaction PDE1 at 0x7f02cf021990>, <Reaction PDE4 at 0x7f02cf0219d0>, <Reaction TTRCYCtpp at 0x7f02ceec0450>, <Reaction FACOAL161t2pp at 0x7f02cf3b1a50>, <Reaction PDX5PO2 at 0x7f02cf021ad0>, <Reaction PG120abcpp at 0x7f02cf0359d0>, <Reaction FACOAL180t2pp at 0x7f02cf3b1b10>, <Reaction NOVBCNtpp at 0x7f02cf0b1b50>, <Reaction DURADx at 0x7f02cf3e1b90>, <Reaction DURIK1 at 0x7f02cf3e1bd0>, <Reaction LPLIPAL2E120 at 0x7f02cf1c1c10>, <Reaction FACOAL60t2pp at 0x7f02cf3b1c90>, <Reaction GLYOX3 at 0x7f02cf2c1d10>, <Reaction FACOAL80t2pp at 0x7f02cf3b1d50>, <Reaction ZN2t3pp at 0x7f02cee22f90>, <Reaction LPLIPAL2E160 at 0x7f02cf1c1d90>, <Reaction FADRx at 0x7f02cf3b1e10>, <Reaction TUNGSabcpp at 0x7f02cee532d0>, <Reaction IPPS at 0x7f02cf1f0510>, <Reaction LPLIPAL2E180 at 0x7f02cf1c1e90>, <Reaction FADRx2 at 0x7f02cf3b1ed0>, <Reaction LPLIPAL2E181 at 0x7f02cf1c1f10>, <Reaction DURIt2pp at 0x7f02cf3e1f50>, <Reaction VALabcpp at 0x7f02cee8da90>, <Reaction LPLIPAL2G120 at 0x7f02cf1c1f90>, <Reaction DUTPDP at 0x7f02cf3e1fd0>, <Reaction LYSabcpp at 0x7f02cf158550>, <Reaction Kt2pp at 0x7f02cf202050>, <Reaction XANt2pp at 0x7f02cee22090>, <Reaction SPMS at 0x7f02ceee20d0>, <Reaction 3OAR140 at 0x7f02cf625ad0>, <Reaction SPODM at 0x7f02ceee2110>, <Reaction EAR180y at 0x7f02cf3f4bd0>, <Reaction PSD160 at 0x7f02cefc21d0>, <Reaction L__LACt2rpp at 0x7f02cf202210>, <Reaction 2DGULRGx at 0x7f02cf612250>, <Reaction PSD180 at 0x7f02cefc22d0>, <Reaction 14GLUCANabcpp at 0x7f02cf662310>, <Reaction PSD181 at 0x7f02cefc2350>, <Reaction 2DGULRy at 0x7f02cf6123d0>, <Reaction 2MAHMP at 0x7f02cf612450>, <Reaction PGSA181 at 0x7f02cefdc610>, <Reaction COBALT2t3pp at 0x7f02cf4b2490>, <Reaction DHDPS at 0x7f02cf43b0d0>, <Reaction 3AMACHYD at 0x7f02cf612510>, <Reaction XTSNt2rpp at 0x7f02cee22550>, <Reaction CSNt2pp at 0x7f02cf4c5bd0>, <Reaction PSSA120 at 0x7f02cefc25d0>, <Reaction ASPO3 at 0x7f02cf537c10>, <Reaction SSALy at 0x7f02ceee26d0>, <Reaction WCOS at 0x7f02cee8dbd0>, <Reaction G1PTT at 0x7f02cf322710>, <Reaction PSSA140 at 0x7f02cefc2750>, <Reaction ALDD19xr at 0x7f02cf56d090>, <Reaction 23DAPPAt2pp at 0x7f02cf6627d0>, <Reaction NHFRBO at 0x7f02cf09b150>, <Reaction XYLK at 0x7f02cee22810>, <Reaction COLIPAPabctex at 0x7f02cf4b2850>, <Reaction PSSA161 at 0x7f02cefc28d0>, <Reaction SUCCt2_2pp at 0x7f02ceee2910>, <Reaction PSSA180 at 0x7f02cefc2950>, <Reaction XYLK2 at 0x7f02cee22990>, <Reaction XYLUt2pp at 0x7f02cee229d0>, <Reaction COLIPAabcpp at 0x7f02cf4b2a50>, <Reaction OGMEACPR at 0x7f02cf078710>, <Reaction COLIPAabctex at 0x7f02cf4b2a90>, <Reaction SUCCt3pp at 0x7f02ceee2ad0>, <Reaction CPGNR1 at 0x7f02cf4b2b10>, <Reaction PG181abcpp at 0x7f02cf035c90>, <Reaction CPGNR2 at 0x7f02cf4b2b90>, <Reaction HCO3E at 0x7f02cf290750>, <Reaction PTPATi at 0x7f02cefc2c10>, <Reaction DHFS at 0x7f02cf43b210>, <Reaction LALADGLUtpp at 0x7f02cf202d10>, <Reaction CPGNR3 at 0x7f02cf4b2d50>, <Reaction LALALGLUtpp at 0x7f02cf202d90>, <Reaction LALDO2x at 0x7f02cf202dd0>, <Reaction NI2t3pp at 0x7f02cf09b250>, <Reaction LALDO3 at 0x7f02cf202e10>, <Reaction FHL at 0x7f02cf37e190>, <Reaction PTRCabcpp at 0x7f02cefc2e50>, <Reaction ZN2abcpp at 0x7f02cee22e90>, <Reaction PTRCt2pp at 0x7f02cefc2ed0>, <Reaction DASYN161 at 0x7f02cf4907d0>, <Reaction CPGNUtex at 0x7f02cf4b2f10>, <Reaction CPGNUtpp at 0x7f02cf4b2f50>, <Reaction G3PCabcpp at 0x7f02cf322f90>, <Reaction CPGNabcpp at 0x7f02cf4b2fd0>, <Reaction DAGK140 at 0x7f02cf47cc50>, <Reaction S2FE2SS at 0x7f02cef90810>, <Reaction SHK3Dr at 0x7f02cef4b2d0>, <Reaction HACD2 at 0x7f02cf27dd90>, <Reaction AOBUTDs at 0x7f02cf513190>, <Reaction KARA2 at 0x7f02cf1f0850>, <Reaction NADS1 at 0x7f02cf0f3210>, <Reaction EAR121y at 0x7f02cf3f46d0>, <Reaction AP4AH at 0x7f02cf5132d0>, <Reaction 3OAR40 at 0x7f02cf625dd0>, <Reaction AP4AS at 0x7f02cf513350>, <Reaction CU1abcpp at 0x7f02cf458890>, <Reaction AP5AH at 0x7f02cf5133d0>, <Reaction PPCDC at 0x7f02cef9b350>, <Reaction GCALDD at 0x7f02cf2f3450>, <Reaction SEPHCHCS at 0x7f02cef38510>, <Reaction ALR2 at 0x7f02cf56de10>, <Reaction ADMDC at 0x7f02cf5b34d0>, <Reaction DASYN181 at 0x7f02cf4908d0>, <Reaction GDPDPK at 0x7f02cf2f3510>, <Reaction APG3PAT140 at 0x7f02cf513550>, <Reaction NADH10 at 0x7f02cf0f3590>, <Reaction ADNK1 at 0x7f02cf5b35d0>, <Reaction NTPP4 at 0x7f02cf053610>, <Reaction NTP1 at 0x7f02cf053650>, <Reaction G3PIabcpp at 0x7f02cf338910>, <Reaction NTP10 at 0x7f02cf053690>, <Reaction NTP11 at 0x7f02cf0536d0>, <Reaction CADVtpp at 0x7f02cf4df590>, <Reaction SHSL1 at 0x7f02cef4b3d0>, <Reaction APG3PAT180 at 0x7f02cf513750>, <Reaction AGPR at 0x7f02cf5c5e90>, <Reaction NTP12 at 0x7f02cf053790>, <Reaction APG3PAT181 at 0x7f02cf5137d0>, <Reaction AMPMS2 at 0x7f02cf580950>, <Reaction NADH18pp at 0x7f02cf0f3810>, <Reaction NADH5 at 0x7f02cf0f3850>, <Reaction NADH9 at 0x7f02cf0f3890>, <Reaction NADK at 0x7f02cf0f3910>, <Reaction ADOCBLS at 0x7f02cf5b3950>, <Reaction NADN at 0x7f02cf0f3990>, <Reaction APH141 at 0x7f02cf5139d0>, <Reaction APCS at 0x7f02cf513450>, <Reaction APH140 at 0x7f02cf513910>, <Reaction NTP5 at 0x7f02cf053a10>, <Reaction NADPHQR3 at 0x7f02cf0f3a50>, <Reaction DPR at 0x7f02cf44df10>, <Reaction ADPRDP at 0x7f02cf5b3a90>, <Reaction NADPHQR4 at 0x7f02cf0f3ad0>, <Reaction TRPt2rpp at 0x7f02ceec09d0>, <Reaction NTPP10 at 0x7f02cf053b10>, <Reaction APH161 at 0x7f02cf513b50>, <Reaction GGPTRCS at 0x7f02cf2f3b90>, <Reaction PGCD at 0x7f02cf035f50>, <Reaction GHBDHx at 0x7f02cf2f3c10>, <Reaction NTPP2 at 0x7f02cf053c50>, <Reaction CU2abcpp at 0x7f02cf458910>, <Reaction APH181 at 0x7f02cf513cd0>, <Reaction APG3PAT120 at 0x7f02cf5134d0>, <Reaction NTPP8 at 0x7f02cf053d10>, <Reaction ALLTN at 0x7f02cf56d9d0>, <Reaction APPLDHr at 0x7f02cf513d90>, <Reaction APRAUR at 0x7f02cf513e10>, <Reaction UAAGDS at 0x7f02cee53e50>, <Reaction NTPP7 at 0x7f02cf053e90>, <Reaction ADD at 0x7f02cf59dfd0>, <Reaction DAGK141 at 0x7f02cf47ccd0>, <Reaction GLCNt2rpp at 0x7f02cf2f3f50>, <Reaction OMMBLHX3 at 0x7f02cf078a90>, <Reaction ARBTNR2 at 0x7f02cf513fd0>, <Reaction NADDP at 0x7f02cf0f3550>, <Reaction MEPCT at 0x7f02cf124090>, <Reaction ABUTt2pp at 0x7f02cf5e40d0>, <Reaction HEX7 at 0x7f02cf224110>, <Reaction NTPP9 at 0x7f02cf064150>, <Reaction HEXt2rpp at 0x7f02cf224190>, <Reaction DXPS at 0x7f02cf3f41d0>, <Reaction HG2abcpp at 0x7f02cf224210>, <Reaction OMPDC at 0x7f02cf078b10>, <Reaction SULFACabcpp at 0x7f02ceef4290>, <Reaction DXYLK at 0x7f02cf3f42d0>, <Reaction APG3PAT141 at 0x7f02cf5135d0>, <Reaction ECA4COLIPAabctex at 0x7f02cf3f4350>, <Reaction DHDPRy at 0x7f02cf424390>, <Reaction EAR100x at 0x7f02cf3f4410>, <Reaction EAR100y at 0x7f02cf3f4450>, <Reaction O16A4COLIPAabctex at 0x7f02cf064490>, <Reaction GPDDA5 at 0x7f02cf254510>, <Reaction EAR120x at 0x7f02cf3f4550>, <Reaction HEPK1 at 0x7f02cf290b90>, <Reaction EAR120y at 0x7f02cf3f45d0>, <Reaction APG3PAT160 at 0x7f02cf513650>, <Reaction METS at 0x7f02cf124610>, <Reaction EAR80x at 0x7f02cf3f4f50>, <Reaction EAR121x at 0x7f02cf3f4650>, <Reaction ADNt2pp at 0x7f02cf5b36d0>, <Reaction HISabcpp at 0x7f02cf224690>, <Reaction DGSNt2pp at 0x7f02cf4246d0>, <Reaction ANHMK at 0x7f02cf580bd0>, <Reaction HISt2rpp at 0x7f02cf224710>, <Reaction EAR140x at 0x7f02cf3f4750>, <Reaction GDPMNH at 0x7f02cf2f3690>, <Reaction METSOX1abcpp at 0x7f02cf124790>, <Reaction GMPR at 0x7f02cf2547d0>, <Reaction METSOX2abcpp at 0x7f02cf124810>, <Reaction GMPS2 at 0x7f02cf254850>, <Reaction FCLT at 0x7f02cf3c4890>, <Reaction NAt3pp at 0x7f02cf1048d0>, <Reaction APG3PAT161 at 0x7f02cf5136d0>, <Reaction ACACt2pp at 0x7f02cf5e4910>, <Reaction EAR160x at 0x7f02cf3f4950>, <Reaction GLUabcpp at 0x7f02cf2ae190>, <Reaction GNK at 0x7f02cf254990>, <Reaction FDH5pp at 0x7f02cf3c49d0>, <Reaction GOFUCR at 0x7f02cf254a10>, <Reaction FDMO2 at 0x7f02cf3c4a50>, <Reaction E4PD at 0x7f02cf3f4390>, <Reaction FDMO3 at 0x7f02cf3c4ad0>, <Reaction METabcpp at 0x7f02cf124b10>, <Reaction FDMO4 at 0x7f02cf3c4b50>, <Reaction HEPT1 at 0x7f02cf290c90>, <Reaction HOMt2pp at 0x7f02cf224b90>, <Reaction ASPCT at 0x7f02cf537d50>, <Reaction FDMO6 at 0x7f02cf3c4bd0>, <Reaction ADNt2rpp at 0x7f02cf5b3750>, <Reaction DHBS at 0x7f02cf424c10>, <Reaction GPDDA1 at 0x7f02cf254c50>, <Reaction FLDR2 at 0x7f02cf37e210>, <Reaction OMBZLM at 0x7f02cf078910>, <Reaction O16GLCT1 at 0x7f02cf064c90>, <Reaction HPPK2 at 0x7f02cf224cd0>, <Reaction MG2t3_2pp at 0x7f02cf124d10>, <Reaction TYRt2rpp at 0x7f02cee53b50>, <Reaction GPDDA2 at 0x7f02cf254d50>, <Reaction EAR40y at 0x7f02cf3f4dd0>, <Reaction FLVR at 0x7f02cf37e250>, <Reaction ACBIPGT at 0x7f02cf5e4e10>, <Reaction DAGK160 at 0x7f02cf47cd50>, <Reaction TARTt2_3pp at 0x7f02ceef4e50>, <Reaction TAUDO at 0x7f02ceef4e90>, <Reaction EAR60y at 0x7f02cf3f4ed0>, <Reaction NADH17pp at 0x7f02cf0f37d0>, <Reaction FE2abcpp at 0x7f02cf3c4f50>, <Reaction DHCINDO at 0x7f02cf424f90>, <Reaction FE2t2pp at 0x7f02cf3c4fd0>, <Reaction OPHHX3 at 0x7f02cf078d50>, <Reaction CBIuabcpp at 0x7f02cf4f5090>, <Reaction CPGNtonex at 0x7f02cf4c50d0>, <Reaction PE141abcpp at 0x7f02cf035110>, <Reaction MELIBt2pp at 0x7f02cf190d90>, <Reaction CBIAT at 0x7f02cf4f5190>, <Reaction APH120 at 0x7f02cf513850>, <Reaction PE161abcpp at 0x7f02cf035210>, <Reaction UACMAMO at 0x7f02cee65290>, <Reaction CPPPGO at 0x7f02cf4c52d0>, <Reaction AGM3Pt2pp at 0x7f02cf5c5310>, <Reaction S4FE4ST at 0x7f02cef25350>, <Reaction ADOCBIK at 0x7f02cf5b3890>, <Reaction 3HPPPNH at 0x7f02cf625390>, <Reaction CBL1abcpp at 0x7f02cf4f5410>, <Reaction INSt2pp at 0x7f02cf1da590>, <Reaction MELIBt3ipp at 0x7f02cf190e10>, <Reaction CBL1tonex at 0x7f02cf4f5490>, <Reaction G1PACT at 0x7f02cf322350>, <Reaction PERD at 0x7f02cf0354d0>, <Reaction UAGDP at 0x7f02cee65510>, <Reaction AIRC2 at 0x7f02cf5c5550>, <Reaction PRASCSi at 0x7f02cefae390>, <Reaction 3HPPtpp at 0x7f02cf625590>, <Reaction 3KGK at 0x7f02cf6255d0>, <Reaction UAGPT3 at 0x7f02cee65610>, <Reaction GGGABADr at 0x7f02cf2f3910>, <Reaction UAMAGS at 0x7f02cee65690>, <Reaction GALt2pp at 0x7f02cf2de3d0>, <Reaction PFK at 0x7f02cf035710>, <Reaction AGM4Pt2pp at 0x7f02cf5c5750>, <Reaction SFGTHi at 0x7f02cef38e90>, <Reaction PFK_2 at 0x7f02cf035790>, <Reaction PFK_3 at 0x7f02cf0357d0>, <Reaction UDCPDP at 0x7f02cee65810>, <Reaction S2FE2ST at 0x7f02cef90d50>, <Reaction GPDDA3 at 0x7f02cf254e50>, <Reaction GALT1 at 0x7f02cf2de410>, <Reaction SADH at 0x7f02cef25890>, <Reaction CRNDt2rpp at 0x7f02cf4c58d0>, <Reaction GMHEPK at 0x7f02cf2545d0>, <Reaction CDAPPA141 at 0x7f02cf4f5910>, <Reaction AGMt2pp at 0x7f02cf5c5950>, <Reaction 3OAR120 at 0x7f02cf6259d0>, <Reaction MMCD at 0x7f02cf136450>, <Reaction PG140abcpp at 0x7f02cf035a10>, <Reaction 3OAR121 at 0x7f02cf625a50>, <Reaction TYRL at 0x7f02cee534d0>, <Reaction OPMEACPS at 0x7f02cf078f10>, <Reaction CCGS at 0x7f02cf4f5a90>, <Reaction CD2abcpp at 0x7f02cf4f5ad0>, <Reaction ADOCBLabcpp at 0x7f02cf5b39d0>, <Reaction PG160abcpp at 0x7f02cf035b10>, <Reaction 3OAR141 at 0x7f02cf625b50>, <Reaction PG161abcpp at 0x7f02cf035b90>, <Reaction 3OAR160 at 0x7f02cf625bd0>, <Reaction ILEabcpp at 0x7f02cf1da5d0>, <Reaction PG180abcpp at 0x7f02cf035c10>, <Reaction 3OAR161 at 0x7f02cf625c50>, <Reaction NADPHQR2 at 0x7f02cf0f3a10>, <Reaction CD2t3pp at 0x7f02cf4f5c90>, <Reaction 3OAR180 at 0x7f02cf625cd0>, <Reaction EPMEACPR at 0x7f02cf39a310>, <Reaction DAGK161 at 0x7f02cf47cdd0>, <Reaction 3OAR181 at 0x7f02cf625d50>, <Reaction ORNDC at 0x7f02cf078f90>, <Reaction CDAPPA120 at 0x7f02cf4f5d90>, <Reaction SELCYSS at 0x7f02cef25dd0>, <Reaction DHCIND at 0x7f02cf424f50>, <Reaction 3OAR60 at 0x7f02cf625e50>, <Reaction CDAPPA140 at 0x7f02cf4f5e90>, <Reaction UDPGD at 0x7f02cee65f50>, <Reaction 3OAR80 at 0x7f02cf625ed0>, <Reaction CYNTt2pp at 0x7f02cf458fd0>, <Reaction AGt3 at 0x7f02cf5c5f10>, <Reaction 3OAS100 at 0x7f02cf625f50>, <Reaction APH160 at 0x7f02cf513a90>, <Reaction CSND at 0x7f02cf4c5f90>, <Reaction 3OAS120 at 0x7f02cf625fd0>, <Reaction OAADC at 0x7f02cf064e50>, <Reaction SGSAD at 0x7f02cef38f10>, <Reaction PRAGSr at 0x7f02cef9bad0>, <Reaction LCTStpp at 0x7f02cf196590>, <Reaction LCADi at 0x7f02cf196210>, <Reaction MOAT at 0x7f02cf14be10>, <Reaction TDP at 0x7f02cef06290>, <Reaction PYDXNK at 0x7f02cef56a50>, <Reaction LPLIPAL2G140 at 0x7f02cf1c1090>, <Reaction TDPADGAT at 0x7f02cef063d0>, <Reaction NTPP11 at 0x7f02cf053b50>, <Reaction LCARS at 0x7f02cf196450>, <Reaction LCTSt3ipp at 0x7f02cf196490>, <Reaction NNATr at 0x7f02cf09bb90>, <Reaction MINCYCtpp at 0x7f02cf136590>, <Reaction LDH_D at 0x7f02cf1965d0>, <Reaction FMNRx2 at 0x7f02cf37e650>, <Reaction TDPDRR at 0x7f02cef06750>, <Reaction FOMETRi at 0x7f02cf37e690>, <Reaction PHEt2rpp at 0x7f02cefdc850>, <Reaction PGSA140 at 0x7f02cefdc290>, <Reaction HACD5 at 0x7f02cf290110>, <Reaction APH180 at 0x7f02cf513c10>, <Reaction TDSK at 0x7f02cef06890>, <Reaction PYDAMK at 0x7f02cef568d0>, <Reaction OHPHM at 0x7f02cf078890>, <Reaction ADSK at 0x7f02cf5b3c50>, <Reaction PYDXK at 0x7f02cef56a10>, <Reaction PDX5PS at 0x7f02cf021c90>, <Reaction 5DGLCNR at 0x7f02cf63cf50>, <Reaction THD2pp at 0x7f02cef06a50>, <Reaction FDH4pp at 0x7f02cf3c48d0>, <Reaction ATPHs at 0x7f02cf54cad0>, <Reaction LEUt2rpp at 0x7f02cf196b50>, <Reaction SPMDAT1 at 0x7f02cef4bc90>, <Reaction MALTPTabcpp at 0x7f02cf16a250>, <Reaction THFAT at 0x7f02cef06bd0>, <Reaction PROt2rpp at 0x7f02cefae750>, <Reaction LPLIPAL2A140 at 0x7f02cf1c1210>, <Reaction LIPACabcpp at 0x7f02cf196c90>, <Reaction FECRMtonex at 0x7f02cf36c1d0>, <Reaction NTPP3 at 0x7f02cf053cd0>, <Reaction PYROX at 0x7f02cef56d10>, <Reaction THMDt2pp at 0x7f02cef06e50>, <Reaction THMDt2rpp at 0x7f02cef06e90>, <Reaction PYK at 0x7f02cef56ed0>, <Reaction PPNCL2 at 0x7f02cef9b890>, <Reaction LPLIPAL2A141 at 0x7f02cf1c1290>, <Reaction G5SADs at 0x7f02cf338f90>, <Reaction THMabcpp at 0x7f02cef06fd0>, <Reaction NTPP5 at 0x7f02cf053e10>, <Reaction ARBTNR3 at 0x7f02cf5270d0>, <Reaction HPYRRx at 0x7f02cf237110>, <Reaction ARBTNabcpp at 0x7f02cf527150>, <Reaction ThDPAT at 0x7f02cee53d90>, <Reaction HPYRRy at 0x7f02cf237190>, <Reaction FE3DCITabcpp at 0x7f02cf3571d0>, <Reaction ARBTNtex at 0x7f02cf527210>, <Reaction TAGURr at 0x7f02ceef4710>, <Reaction FE3DCITtonex at 0x7f02cf357250>, <Reaction LPLIPAL2A160 at 0x7f02cf1c1310>, <Reaction ARBTNtonex at 0x7f02cf527290>, <Reaction HSDy at 0x7f02cf2372d0>, <Reaction CBLAT at 0x7f02cf4f5510>, <Reaction HSK at 0x7f02cf237310>, <Reaction ARBTNtpp at 0x7f02cf527390>, <Reaction FE3DHBZSabcpp at 0x7f02cf3573d0>, <Reaction FE3DHBZStonex at 0x7f02cf357410>, <Reaction FE3HOXR1 at 0x7f02cf357450>, <Reaction U23GAAT at 0x7f02cee53e10>, <Reaction I2FE2SS2 at 0x7f02cf2474d0>, <Reaction ASNS1 at 0x7f02cf537510>, <Reaction LPLIPAL2A161 at 0x7f02cf1c1390>, <Reaction FE3HOXR2 at 0x7f02cf357590>, <Reaction SHCHF at 0x7f02cef4b250>, <Reaction HXAND at 0x7f02cf2375d0>, <Reaction MOAT2 at 0x7f02cf14be50>, <Reaction GLCS1 at 0x7f02cf307610>, <Reaction GPDDA4 at 0x7f02cf254f50>, <Reaction HYD2pp at 0x7f02cf2376d0>, <Reaction I2FE2ST at 0x7f02cf247710>, <Reaction HYD1pp at 0x7f02cf237790>, <Reaction NTPP6 at 0x7f02cf053e50>, <Reaction GLYC2Pabcpp at 0x7f02cf2ae950>, <Reaction GLCTR2 at 0x7f02cf307810>, <Reaction FE3HOXUtpp at 0x7f02cf357850>, <Reaction HYD3pp at 0x7f02cf237890>, <Reaction I4FE4SR at 0x7f02cf2478d0>, <Reaction FE3Ri at 0x7f02cf357910>, <Reaction FE3HOXtonex at 0x7f02cf357950>, <Reaction GLCTR3 at 0x7f02cf307990>, <Reaction ASNabcpp at 0x7f02cf5379d0>, <Reaction MOAT3C at 0x7f02cf14bad0>, <Reaction ATPM at 0x7f02cf54cb50>, <Reaction ASNt2rpp at 0x7f02cf537a50>, <Reaction FE3HOXR3 at 0x7f02cf3575d0>, <Reaction DKGLCNR1 at 0x7f02cf43bf10>, <Reaction GLCURt2rpp at 0x7f02cf307a90>, <Reaction GLCabcpp at 0x7f02cf307b10>, <Reaction TMPPP at 0x7f02ceeadf10>, <Reaction ASP1DC at 0x7f02cf537bd0>, <Reaction SULRi at 0x7f02ceef4450>, <Reaction ARBTNR1 at 0x7f02cf513f50>, <Reaction I2FE2SR at 0x7f02cf237c10>, <Reaction I2FE2SS at 0x7f02cf237c90>, <Reaction FECRMR1 at 0x7f02cf357cd0>, <Reaction HKNDDH at 0x7f02cf2247d0>, <Reaction GLCt2pp at 0x7f02cf307d50>, <Reaction GLUTRR at 0x7f02cf29bf90>, <Reaction LCARR at 0x7f02cf1963d0>, <Reaction LEUabcpp at 0x7f02cf196a50>, <Reaction FECRMR2 at 0x7f02cf357e50>, <Reaction FECRMR3 at 0x7f02cf357ed0>, <Reaction ADSS at 0x7f02cf5b3fd0>, <Reaction ASPO5 at 0x7f02cf537f10>, <Reaction IDOND at 0x7f02cf247f50>, <Reaction ASAD at 0x7f02cf527f90>, <Reaction IDOND2 at 0x7f02cf247fd0>, <Reaction FRULYSK at 0x7f02cf38f510>, <Reaction LPLIPAL2G141 at 0x7f02cf1580d0>, <Reaction G3PD2 at 0x7f02cf338150>, <Reaction LPLIPAL2G161 at 0x7f02cf1581d0>, <Reaction LPLIPAL2G180 at 0x7f02cf158250>, <Reaction CTBTt2rpp at 0x7f02cf458290>, <Reaction CTBTabcpp at 0x7f02cf4582d0>, <Reaction GLYCLTDx at 0x7f02cf2c15d0>, <Reaction SELGTHR2 at 0x7f02cef38310>, <Reaction ACGAMK at 0x7f02cf5f8350>, <Reaction ZNabcpp at 0x7f02cee34090>, <Reaction LYSDC at 0x7f02cf158410>, <Reaction SELtpp at 0x7f02cef384d0>, <Reaction G3PEabcpp at 0x7f02cf338510>, <Reaction SERASr at 0x7f02cef38550>, <Reaction DSERDHr at 0x7f02cf3e1650>, <Reaction LYSt2pp at 0x7f02cf158610>, <Reaction LYSt3pp at 0x7f02cf158650>, <Reaction CTPS2 at 0x7f02cf458710>, <Reaction COBALT2abcpp at 0x7f02cf4b2210>, <Reaction OGMEACPS at 0x7f02cf078790>, <Reaction G3PGabcpp at 0x7f02cf3387d0>, <Reaction DDGALK at 0x7f02cf424150>, <Reaction PNTK at 0x7f02cf008850>, <Reaction ACGS at 0x7f02cf5f8890>, <Reaction UGMDDS at 0x7f02cee796d0>, <Reaction ACLS at 0x7f02cf5f8910>, <Reaction CYTDt2pp at 0x7f02cf47c190>, <Reaction OMCDC at 0x7f02cf078990>, <Reaction BWCOGDS1 at 0x7f02cf4dfa10>, <Reaction ADOCBLtonex at 0x7f02cf5b3910>, <Reaction POR5 at 0x7f02cf008a10>, <Reaction CDAPPA181 at 0x7f02cf50a250>, <Reaction CUt3 at 0x7f02cf458a50>, <Reaction DSERt2pp at 0x7f02cf3e1710>, <Reaction G3PSabcpp at 0x7f02cf338a90>, <Reaction PPA at 0x7f02cf008ad0>, <Reaction DDGLCNt2rpp at 0x7f02cf4241d0>, <Reaction CYANST at 0x7f02cf458b10>, <Reaction MACPD at 0x7f02cf158b50>, <Reaction FORt2pp at 0x7f02cf37ec90>, <Reaction ACHBS at 0x7f02cf5f8b90>, <Reaction SERt2rpp at 0x7f02cef38bd0>, <Reaction PPA2 at 0x7f02cf008c50>, <Reaction ASPO6 at 0x7f02cf54c210>, <Reaction OPHBDC at 0x7f02cf078c90>, <Reaction CLt3_2pp at 0x7f02cf49ecd0>, <Reaction ACMAMUT at 0x7f02cf5f8d50>, <Reaction 3OAS160 at 0x7f02cf63c250>, <Reaction MALDt2_2pp at 0x7f02cf158e10>, <Reaction G5SD at 0x7f02cf338e50>, <Reaction OPMEACPR at 0x7f02cf078e90>, <Reaction CS at 0x7f02cf4c5f50>, <Reaction ULA4NFT at 0x7f02cee797d0>, <Reaction MALS at 0x7f02cf158f10>, <Reaction Kabcpp at 0x7f02cf1f0bd0>, <Reaction HG2t3pp at 0x7f02cf224290>, <Reaction CYNTAH at 0x7f02cf458f90>, <Reaction MALTHXabcpp at 0x7f02cf158fd0>, <Reaction FDMO at 0x7f02cf3c4a10>, <Reaction DDGLK at 0x7f02cf4242d0>, <Reaction PGL at 0x7f02cf049150>, <Reaction ALDD3y at 0x7f02cf56d750>, <Reaction GSNK at 0x7f02cf269310>, <Reaction GSNt2pp at 0x7f02cf269350>, <Reaction PGP120abcpp at 0x7f02cf0493d0>, <Reaction NTRIR2x at 0x7f02cf064350>, <Reaction PGP140abcpp at 0x7f02cf049410>, <Reaction THRD at 0x7f02cee99450>, <Reaction PAPSR at 0x7f02cf0218d0>, <Reaction HACD7 at 0x7f02cf290290>, <Reaction METDabcpp at 0x7f02cf124390>, <Reaction GSPMDS at 0x7f02cf269590>, <Reaction PGP141abcpp at 0x7f02cf0495d0>, <Reaction UGLYCH at 0x7f02cee79610>, <Reaction PGP160abcpp at 0x7f02cf049650>, <Reaction URAt2pp at 0x7f02cee79690>, <Reaction PGP161abcpp at 0x7f02cf0496d0>, <Reaction FEENTERabcpp at 0x7f02cf36c3d0>, <Reaction PGP180abcpp at 0x7f02cf049750>, <Reaction GTHOr at 0x7f02cf269790>, <Reaction PGP181abcpp at 0x7f02cf0497d0>, <Reaction ATPS4rpp at 0x7f02cf54cc50>, <Reaction BUTt2rpp at 0x7f02cf4df8d0>, <Reaction UM3PL at 0x7f02cee798d0>, <Reaction TMAOR1 at 0x7f02cee99910>, <Reaction THRabcpp at 0x7f02cee99950>, <Reaction FACOAL160t2pp at 0x7f02cf3b1990>, <Reaction G6PDH2r at 0x7f02cf34c450>, <Reaction UM4PL at 0x7f02cee79a10>, <Reaction GTHRDabc2pp at 0x7f02cf269a50>, <Reaction GARFT at 0x7f02cf2def10>, <Reaction GTHRDabcpp at 0x7f02cf269ad0>, <Reaction THRt2rpp at 0x7f02cee99b10>, <Reaction GTHS at 0x7f02cf269b50>, <Reaction 3OAS181 at 0x7f02cf63c490>, <Reaction GTPCI at 0x7f02cf269c50>, <Reaction UPP3MT at 0x7f02cee79c90>, <Reaction FRUK at 0x7f02cf37ef90>, <Reaction GTPDPK at 0x7f02cf269dd0>, <Reaction THYMt3pp at 0x7f02cee99e10>, <Reaction EGMEACPR at 0x7f02cf409e50>, <Reaction ASPt2_2pp at 0x7f02cf54c510>, <Reaction THZPSN3 at 0x7f02cee99e90>, <Reaction ENLIPAabctex at 0x7f02cf409ed0>, <Reaction GTPCII2 at 0x7f02cf269f10>, <Reaction ENTCS at 0x7f02cf409f90>, <Reaction URACPAH at 0x7f02cee79fd0>, <Reaction GMHEPAT at 0x7f02cf254550>, <Reaction DHBD at 0x7f02cf424bd0>, <Reaction AKGt2rpp at 0x7f02cf55a090>, <Reaction CDAPPA160 at 0x7f02cf50a0d0>, <Reaction FA80ACPHi at 0x7f02cf3b1210>, <Reaction THRt2pp at 0x7f02cee99ad0>, <Reaction CDAPPA161 at 0x7f02cf50a150>, <Reaction CDAPPA180 at 0x7f02cf50a1d0>, <Reaction ACNAMt2pp at 0x7f02cf60a210>, <Reaction IGPS at 0x7f02cf1da250>, <Reaction ENTERES2 at 0x7f02cf39a290>, <Reaction CDGR at 0x7f02cf50a2d0>, <Reaction SULabcpp at 0x7f02ceef45d0>, <Reaction MALTTRabcpp at 0x7f02cf16a310>, <Reaction CDGS at 0x7f02cf50a350>, <Reaction LIPOt2pp at 0x7f02cf1aa390>, <Reaction CDPMEK at 0x7f02cf50a3d0>, <Reaction CFAS160E at 0x7f02cf50a410>, <Reaction ETHAt2pp at 0x7f02cf39a450>, <Reaction QUINDH at 0x7f02cef6c610>, <Reaction CYSDabcpp at 0x7f02cf46a490>, <Reaction ETHSO3abcpp at 0x7f02cf39a4d0>, <Reaction CYSS at 0x7f02cf46a510>, <Reaction ALAALAr at 0x7f02cf55a590>, <Reaction CYSSADS at 0x7f02cf46a5d0>, <Reaction FE2t3pp at 0x7f02cf3c4650>, <Reaction CGLYabcpp at 0x7f02cf50a610>, <Reaction ILEt2rpp at 0x7f02cf1da650>, <Reaction MOBDabcpp at 0x7f02cf0df110>, <Reaction MALTabcpp at 0x7f02cf16a690>, <Reaction CHLabcpp at 0x7f02cf50a6d0>, <Reaction FACOAL181t2pp at 0x7f02cf3b1bd0>, <Reaction CHLt2pp at 0x7f02cf50a710>, <Reaction IMPD at 0x7f02cf1da750>, <Reaction CHOLD at 0x7f02cf50a790>, <Reaction SBTPD at 0x7f02cef25bd0>, <Reaction PE140abcpp at 0x7f02cf021c10>, <Reaction CYTDK2 at 0x7f02cf46a890>, <Reaction CYSabc2pp at 0x7f02cf46a8d0>, <Reaction FCLK at 0x7f02cf3c46d0>, <Reaction MALt2_2pp at 0x7f02cf16a990>, <Reaction CYSabcpp at 0x7f02cf46a9d0>, <Reaction MALt2_3pp at 0x7f02cf16aa10>, <Reaction NAt3_1p5pp at 0x7f02cf104710>, <Reaction INDOLEt2pp at 0x7f02cf1daa90>, <Reaction INDOLEt2rpp at 0x7f02cf1daad0>, <Reaction ARBt2rpp at 0x7f02cf5271d0>, <Reaction CYTBD2pp at 0x7f02cf46ab10>, <Reaction CYTBDpp at 0x7f02cf46ab50>, <Reaction LPLIPAL2E140 at 0x7f02cf1c1c90>, <Reaction CYTBO3_4pp at 0x7f02cf46ab90>, <Reaction FA100ACPHi at 0x7f02cf39ac90>, <Reaction FA120ACPHi at 0x7f02cf39ad10>, <Reaction CYTD at 0x7f02cf46ad50>, <Reaction NAt3_2pp at 0x7f02cf104790>, <Reaction ACOLIPAabctex at 0x7f02cf60add0>, <Reaction INSK at 0x7f02cf1dae10>, <Reaction LPLIPAL2E141 at 0x7f02cf1c1d10>, <Reaction FA140ACPHi at 0x7f02cf39aed0>, <Reaction EAR140y at 0x7f02cf3f47d0>, <Reaction ALAt2pp at 0x7f02cf55af10>, <Reaction ALAabcpp at 0x7f02cf55af50>, <Reaction FA141ACPHi at 0x7f02cf39af90>, <Reaction BSORx at 0x7f02cf4df110>, <Reaction CINNDO at 0x7f02cf50afd0>, <Reaction HKNTDH at 0x7f02cf224810>, <Reaction GLGC at 0x7f02cf29b0d0>, <Reaction PPBNGS at 0x7f02cef9b150>, <Reaction SHCHD2 at 0x7f02cef4b1d0>, <Reaction EAR141x at 0x7f02cf3f4850>, <Reaction NI2abcpp at 0x7f02cf09b210>, <Reaction GLNS at 0x7f02cf29b250>, <Reaction DHMPTR at 0x7f02cf43b290>, <Reaction PPC at 0x7f02cef9b2d0>, <Reaction SPMDt3pp at 0x7f02cef4b350>, <Reaction SHKK at 0x7f02cef4b390>, <Reaction DHNAOT4 at 0x7f02cf43b3d0>, <Reaction SKMt2pp at 0x7f02cef4b410>, <Reaction DHNCOAS at 0x7f02cf43b450>, <Reaction LPLIPAL2E161 at 0x7f02cf1c1e10>, <Reaction DHNCOAT at 0x7f02cf43b4d0>, <Reaction EAR141y at 0x7f02cf3f48d0>, <Reaction NI2uabcpp at 0x7f02cf09b550>, <Reaction GLNabcpp at 0x7f02cf29b590>, <Reaction UPPDC1 at 0x7f02cee79e50>, <Reaction NMNAT at 0x7f02cf09b650>, <Reaction R1PK at 0x7f02cef6c910>, <Reaction MN2t3pp at 0x7f02cf14b6d0>, <Reaction GLTPD at 0x7f02cf29b710>, <Reaction GLYOX at 0x7f02cf2c1e90>, <Reaction NMNN at 0x7f02cf09b7d0>, <Reaction PG141abcpp at 0x7f02cf035a90>, <Reaction DHORTS at 0x7f02cf43b850>, <Reaction DHPPD at 0x7f02cf43b890>, <Reaction NO3R2pp at 0x7f02cf09b8d0>, <Reaction DHPPDA2 at 0x7f02cf43b910>, <Reaction SO4t2pp at 0x7f02cef4b990>, <Reaction ARBabcpp at 0x7f02cf527450>, <Reaction GLUCYS at 0x7f02cf29ba10>, <Reaction PPNDH at 0x7f02cef9ba50>, <Reaction DXPRIi at 0x7f02cf3e1f10>, <Reaction GLUDC at 0x7f02cf29ba90>, <Reaction DHPTDNR at 0x7f02cf43bad0>, <Reaction EAR160y at 0x7f02cf3f49d0>, <Reaction MNt2pp at 0x7f02cf14bb10>, <Reaction GLUDy at 0x7f02cf29bb50>, <Reaction DHPTDNRN at 0x7f02cf43bb90>, <Reaction PE120abcpp at 0x7f02cf021f50>, <Reaction NNDMBRT at 0x7f02cf09bc10>, <Reaction TAURabcpp at 0x7f02ceef4a10>, <Reaction LYXt2pp at 0x7f02cf158910>, <Reaction PPPNt2rpp at 0x7f02cef9bc90>, <Reaction DKGLCNR2y at 0x7f02cf43bd10>, <Reaction PPS at 0x7f02cef9bd50>, <Reaction GTPDPDP at 0x7f02cf269f90>, <Reaction NNDPR at 0x7f02cf09bd90>, <Reaction EAR161x at 0x7f02cf3f4a50>, <Reaction NO2t2rpp at 0x7f02cf09be10>, <Reaction DINSt2pp at 0x7f02cf43be50>, <Reaction ARBt3ipp at 0x7f02cf527510>, <Reaction GLUSy at 0x7f02cf29bed0>, <Reaction NO3R1pp at 0x7f02cf09bf10>, <Reaction DKGLCNR2x at 0x7f02cf43bf50>, <Reaction SPMDabcpp at 0x7f02cef4bf90>, <Reaction FECRMUtex at 0x7f02cf36c050>, <Reaction 3OAS140 at 0x7f02cf63c090>, <Reaction FECRMUtpp at 0x7f02cf36c0d0>, <Reaction EAR161y at 0x7f02cf3f4ad0>, <Reaction FECRMabcpp at 0x7f02cf36c110>, <Reaction GLCRt2rpp at 0x7f02cf307590>, <Reaction FEENTERR1 at 0x7f02cf36c190>, <Reaction PGSA120 at 0x7f02cefdc1d0>, <Reaction 3OAS141 at 0x7f02cf63c210>, <Reaction FEENTERtpp at 0x7f02cf36c250>, <Reaction HMPK1 at 0x7f02cf224b10>, <Reaction PYRt2rpp at 0x7f02cef6c290>, <Reaction CYTDt2rpp at 0x7f02cf47c2d0>, <Reaction BTNt2ipp at 0x7f02cf4df5d0>, <Reaction QMO2 at 0x7f02cef6c310>, <Reaction FEENTERR2 at 0x7f02cf36c350>, <Reaction ENTERES at 0x7f02cf39a090>, <Reaction 3OAS180 at 0x7f02cf63c390>, <Reaction QMO3 at 0x7f02cef6c3d0>, <Reaction DAGK120 at 0x7f02cf47cb50>, <Reaction ARGDC at 0x7f02cf527910>, <Reaction PGSA141 at 0x7f02cefdc410>, <Reaction FEENTERtex at 0x7f02cf36c450>, <Reaction ASPabcpp at 0x7f02cf54c490>, <Reaction 3OAS60 at 0x7f02cf63c4d0>, <Reaction IDONt2rpp at 0x7f02cf1da0d0>, <Reaction PGSA161 at 0x7f02cefdc510>, <Reaction CBItonex at 0x7f02cf4f5390>, <Reaction ASPt2_3pp at 0x7f02cf54c550>, <Reaction PGSA180 at 0x7f02cefdc590>, <Reaction 3OAS80 at 0x7f02cf63c5d0>, <Reaction ASPt2rpp at 0x7f02cf54c610>, <Reaction D__LACt2pp at 0x7f02cf47c650>, <Reaction PHEMEabcpp at 0x7f02cefdc690>, <Reaction BMOGDS2 at 0x7f02cf54cbd0>, <Reaction 3PEPTabcpp at 0x7f02cf63c710>, <Reaction FEOXAMR1 at 0x7f02cf36c790>, <Reaction DADA at 0x7f02cf47c810>, <Reaction FEOXAMR2 at 0x7f02cf36c850>, <Reaction NADH16pp at 0x7f02cf0f35d0>, <Reaction O16GALFT at 0x7f02cf064c10>, <Reaction AST at 0x7f02cf54c890>, <Reaction ATHRDHr at 0x7f02cf54c8d0>, <Reaction FRUURt2rpp at 0x7f02cf38f6d0>, <Reaction HCYSMT at 0x7f02cf2907d0>, <Reaction GALCTLO at 0x7f02cf34c910>, <Reaction FEOXAMtonex at 0x7f02cf36cc50>, <Reaction FEOXAMR3 at 0x7f02cf36ca10>, <Reaction FE3HOXUtex at 0x7f02cf357710>, <Reaction DADNt2pp at 0x7f02cf47ca90>, <Reaction FEOXAMUtex at 0x7f02cf36cad0>, <Reaction IG3PS at 0x7f02cf1da1d0>, <Reaction RBFK at 0x7f02cef6cb10>, <Reaction FEOXAMUtpp at 0x7f02cf36cb50>, <Reaction FEOXAMabcpp at 0x7f02cf36cb90>, <Reaction LIPAabcpp at 0x7f02cf1aa1d0>, <Reaction PIt2rpp at 0x7f02cefdcbd0>, <Reaction BUTSO3abcpp at 0x7f02cf4df750>, <Reaction GALCTNLt2pp at 0x7f02cf34cc50>, <Reaction MANAO at 0x7f02cf16a210>, <Reaction BALAt2pp at 0x7f02cf54ccd0>, <Reaction MG2uabcpp at 0x7f02cf124cd0>, <Reaction GALCTNt2pp at 0x7f02cf34cd50>, <Reaction GLCTR1 at 0x7f02cf307790>, <Reaction BETALDHx at 0x7f02cf54cd90>, <Reaction BETALDHy at 0x7f02cf54cdd0>, <Reaction LIPAabctex at 0x7f02cf1aa250>, <Reaction GALCTt2rpp at 0x7f02cf34ce10>, <Reaction DAGK180 at 0x7f02cf47ce50>, <Reaction O16GLCT2 at 0x7f02cf064d10>, <Reaction DAGK181 at 0x7f02cf47ced0>, <Reaction RFAMPtpp at 0x7f02cef6cf10>, <Reaction DALAt2pp at 0x7f02cf47cf50>, <Reaction 5DGLCNt2rpp at 0x7f02cf63cf90>, <Reaction BMOGDS1 at 0x7f02cf54cfd0>, <Reaction RBK at 0x7f02cef6cd50>, <Reaction MPTG2 at 0x7f02cf0df810>, <Reaction URIK2 at 0x7f02cee8d090>, <Reaction GTPHs at 0x7f02cf27d0d0>, <Reaction 2DGULRGy at 0x7f02cf6122d0>, <Reaction URAt2rpp at 0x7f02cee8d110>, <Reaction ASNS2 at 0x7f02cf537850>, <Reaction GUAD at 0x7f02cf27d210>, <Reaction FUSAtpp at 0x7f02cf322310>, <Reaction ACPPAT140 at 0x7f02cf59d2d0>, <Reaction HPPPNDO at 0x7f02cf224dd0>, <Reaction ALCD19 at 0x7f02cf56d350>, <Reaction FE3HOXabcpp at 0x7f02cf357890>, <Reaction ACPPAT141 at 0x7f02cf59d390>, <Reaction TMAOR2 at 0x7f02ceead3d0>, <Reaction 2DGULRx at 0x7f02cf612350>, <Reaction ACPPAT160 at 0x7f02cf59d450>, <Reaction ASPt2pp at 0x7f02cf54c5d0>, <Reaction PROGLYabcpp at 0x7f02cefae650>, <Reaction ACPPAT161 at 0x7f02cf59d510>, <Reaction FESD1s at 0x7f02cf36cdd0>, <Reaction GLUt2rpp at 0x7f02cf2ae210>, <Reaction ALDD2x at 0x7f02cf56d590>, <Reaction ACPPAT180 at 0x7f02cf59d5d0>, <Reaction EAR60x at 0x7f02cf3f4e50>, <Reaction ALDD2y at 0x7f02cf56d610>, <Reaction EAR180x at 0x7f02cf3f4b50>, <Reaction URIt2pp at 0x7f02cee8d650>, <Reaction PA120abcpp at 0x7f02cf08f910>, <Reaction ACPPAT181 at 0x7f02cf59d690>, <Reaction URIt2rpp at 0x7f02cee8d6d0>, <Reaction ACPS1 at 0x7f02cf59d750>, <Reaction H2SO at 0x7f02cf27d790>, <Reaction ALDD4 at 0x7f02cf56d7d0>, <Reaction MCITS at 0x7f02cf17f950>, <Reaction PPPNDO at 0x7f02cef9bc10>, <Reaction ALLK at 0x7f02cf56d850>, <Reaction USHD at 0x7f02cee8d8d0>, <Reaction 4PEPTabcpp at 0x7f02cf63ced0>, <Reaction ALLTAMH at 0x7f02cf56d910>, <Reaction Kt3pp at 0x7f02cf2020d0>, <Reaction HACD4 at 0x7f02cf27d9d0>, <Reaction NTP3 at 0x7f02cf053910>, <Reaction ALLTNt2rpp at 0x7f02cf56da50>, <Reaction DNTPPA at 0x7f02cf44da90>, <Reaction ACt2rpp at 0x7f02cf59dad0>, <Reaction VALt2rpp at 0x7f02cee8db10>, <Reaction CFAS160G at 0x7f02cf50a490>, <Reaction ALLabcpp at 0x7f02cf56db90>, <Reaction DOGULNR at 0x7f02cf44dbd0>, <Reaction HPPPNt2rpp at 0x7f02cf224f50>, <Reaction I4FE4ST at 0x7f02cf247a10>, <Reaction MALTTTRabcpp at 0x7f02cf16a4d0>, <Reaction HACD1 at 0x7f02cf27dd10>, <Reaction OMPHHX3 at 0x7f02cf078bd0>, <Reaction ADA at 0x7f02cf59dd50>, <Reaction ACCOAC at 0x7f02cf5e4f90>, <Reaction ADCL at 0x7f02cf59dd90>, <Reaction TMK at 0x7f02ceeaddd0>, <Reaction ADEt2rpp at 0x7f02cf59de10>, <Reaction DOXRBCNtpp at 0x7f02cf44de50>, <Reaction CFAS180E at 0x7f02cf50a510>, <Reaction DPCOAK at 0x7f02cf44de90>, <Reaction HACD3 at 0x7f02cf27ded0>, <Reaction EAR80y at 0x7f02cf3f4fd0>, <Reaction ALR4x at 0x7f02cf56df10>, <Reaction PA160abcpp at 0x7f02cf08fa90>, <Reaction XAND at 0x7f02cee8dfd0>, <Reaction GP4GH at 0x7f02cf254a50>, <Reaction CITt3pp at 0x7f02cf49e050>, <Reaction CMtpp at 0x7f02cf49e0d0>, <Reaction PRAIS at 0x7f02cefae110>, <Reaction LPADSS at 0x7f02cf1aa590>, <Reaction RHAT1 at 0x7f02cef7e190>, <Reaction 3OAS161 at 0x7f02cf63c350>, <Reaction RIBabcpp at 0x7f02cef7e250>, <Reaction ASO3t8pp at 0x7f02cf537b10>, <Reaction FLVRx at 0x7f02cf37e290>, <Reaction SSALx at 0x7f02ceee25d0>, <Reaction FMETTRS at 0x7f02cf37e310>, <Reaction CPH4S at 0x7f02cf4c5090>, <Reaction RMK at 0x7f02cef7e390>, <Reaction CLIPAabctex at 0x7f02cf49e3d0>, <Reaction PRATPP at 0x7f02cefae410>, <Reaction FESD2s at 0x7f02cf36ce50>, <Reaction GLXCL at 0x7f02cf2ae450>, <Reaction PRFGS at 0x7f02cefae490>, <Reaction URDGLYCD at 0x7f02cee8d210>, <Reaction FEENTERtonex at 0x7f02cf36c5d0>, <Reaction ALAt2rpp at 0x7f02cf56d0d0>, <Reaction DHFR at 0x7f02cf43b150>, <Reaction GALURt2rpp at 0x7f02cf2de550>, <Reaction MMETt2pp at 0x7f02cf14b550>, <Reaction MTHFR2 at 0x7f02cf0dfb90>, <Reaction PROD2 at 0x7f02cefae590>, <Reaction FMNRx at 0x7f02cf37e5d0>, <Reaction GALUi at 0x7f02cf2de610>, <Reaction GALabcpp at 0x7f02cf2de650>, <Reaction GDPMNP at 0x7f02cf2f36d0>, <Reaction RMNtpp at 0x7f02cef7e690>, <Reaction PSD161 at 0x7f02cefc2250>, <Reaction GLYCDx at 0x7f02cf2ae710>, <Reaction GLYBabcpp at 0x7f02cf2ae750>, <Reaction RBK_L1 at 0x7f02cef6cdd0>, <Reaction PROabcpp at 0x7f02cefae790>, <Reaction FE3abcpp at 0x7f02cf357c10>, <Reaction GLYBt2pp at 0x7f02cf2ae8d0>, <Reaction GART at 0x7f02cf2de910>, <Reaction SELGTHR at 0x7f02cef38290>, <Reaction PE160abcpp at 0x7f02cf035190>, <Reaction CRNt2rpp at 0x7f02cf4c59d0>, <Reaction LIPOCT at 0x7f02cf1aa2d0>, <Reaction KARA1 at 0x7f02cf1f0810>, <Reaction PSD141 at 0x7f02cefaea90>, <Reaction GLYC3Pabcpp at 0x7f02cf2aeb50>, <Reaction K2L4Aabcpp at 0x7f02cf1f0750>, <Reaction EAR181x at 0x7f02cf3f4c50>, <Reaction SPMDAT2 at 0x7f02cef4be10>, <Reaction CFAS180G at 0x7f02cf50a590>, <Reaction ACPPAT120 at 0x7f02cf59d210>, <Reaction PRPPS at 0x7f02cefaec90>, <Reaction PSCLYSt2pp at 0x7f02cefaecd0>, <Reaction ARGSS at 0x7f02cf527cd0>, <Reaction RNTR1c2 at 0x7f02cef7ed50>, <Reaction RNTR2c2 at 0x7f02cef7ed90>, <Reaction RNTR3c2 at 0x7f02cef7edd0>, <Reaction RNTR4c2 at 0x7f02cef7ee10>, <Reaction GLYCAt2rpp at 0x7f02cf2aee50>, <Reaction GLYK at 0x7f02cf2c1e50>, <Reaction GAPD at 0x7f02cf2deed0>, <Reaction PSSA141 at 0x7f02cefc27d0>, <Reaction PSD120 at 0x7f02cefaef10>, <Reaction PE180abcpp at 0x7f02cf035290>, <Reaction PSD140 at 0x7f02cefaef90>, <Reaction CA2t3pp at 0x7f02cf4dfd50>, <Reaction ORNabcpp at 0x7f02cf08f050>, <Reaction 3HCINNMH at 0x7f02cf6252d0>, <Reaction OROTt2_2pp at 0x7f02cf08f110>, <Reaction LIPOS at 0x7f02cf1aa310>, <Reaction FUCtpp at 0x7f02cf38fd90>, <Reaction MOCDS at 0x7f02cf0df1d0>, <Reaction PSSA160 at 0x7f02cefc2850>, <Reaction MOCOS at 0x7f02cf0df210>, <Reaction BSORy at 0x7f02cf4df250>, <Reaction PE181abcpp at 0x7f02cf035310>, <Reaction MOGDS at 0x7f02cf0df290>, <Reaction GUAt2pp at 0x7f02cf27d2d0>, <Reaction 5MTRtpp at 0x7f02cf64f3d0>, <Reaction DMPPS at 0x7f02cf44d350>, <Reaction FEENTERR3 at 0x7f02cf36c390>, <Reaction MPTAT at 0x7f02cf0df4d0>, <Reaction MPTG at 0x7f02cf0df510>, <Reaction OXCDC at 0x7f02cf08f550>, <Reaction ALCD2x at 0x7f02cf56d390>, <Reaction FUMt2_2pp at 0x7f02cf38f590>, <Reaction FRULYSt2pp at 0x7f02cf38f5d0>, <Reaction ARGabcpp at 0x7f02cf527e50>, <Reaction BTS5 at 0x7f02cf4df690>, <Reaction OXCOAHDH at 0x7f02cf08f6d0>, <Reaction DMQMT at 0x7f02cf44d3d0>, <Reaction GLYt2pp at 0x7f02cf254290>, <Reaction PGSA160 at 0x7f02cefdc490>, <Reaction PACCOAE at 0x7f02cf08fd50>, <Reaction P5CD at 0x7f02cf08f7d0>, <Reaction P5CR at 0x7f02cf08f810>, <Reaction MPTS at 0x7f02cf0df850>, <Reaction M1PD at 0x7f02cf158b10>, <Reaction MPTSS at 0x7f02cf0df8d0>, <Reaction ARGt3pp at 0x7f02cf527ed0>, <Reaction MSAR at 0x7f02cf0df910>, <Reaction FTHFD at 0x7f02cf38f950>, <Reaction PA140abcpp at 0x7f02cf08f990>, <Reaction GALKr at 0x7f02cf34cf90>, <Reaction PA141abcpp at 0x7f02cf08fa10>, <Reaction BWCOGDS2 at 0x7f02cf4dfa50>, <Reaction MCPST at 0x7f02cf17fa90>, <Reaction PSSA181 at 0x7f02cefc29d0>, <Reaction PA161abcpp at 0x7f02cf08fb10>, <Reaction EAR181y at 0x7f02cf3f4cd0>, <Reaction PA180abcpp at 0x7f02cf08fb90>, <Reaction PA181abcpp at 0x7f02cf08fc10>, <Reaction PACALDt2rpp at 0x7f02cf08fc90>, <Reaction AADDGT at 0x7f02cf64fcd0>, <Reaction HISTD at 0x7f02cf224390>, <Reaction ASPO4 at 0x7f02cf537f90>, <Reaction MTHFC at 0x7f02cf0dfd90>, <Reaction HETZK at 0x7f02cf290e90>, <Reaction SUCCt2_3pp at 0x7f02ceee2a50>, <Reaction NMNt7pp at 0x7f02cf09b910>, <Reaction PANTS at 0x7f02cf08fe10>, <Reaction PIuabcpp at 0x7f02cefdcd50>, <Reaction GLYCLTt2rpp at 0x7f02cf2c1650>, <Reaction GLYt2rpp at 0x7f02cf2542d0>, <Reaction ASCBPL at 0x7f02cf527fd0>, <Reaction ABUTD at 0x7f02cf64ff10>, <Reaction MSO3abcpp at 0x7f02cf0dfa10>, <Reaction FUMt2_3pp at 0x7f02cf38ff50>, <Reaction CBPS at 0x7f02cf4f5550>])\n",
      "h_e H+ frozenset([<Reaction LIPAHT2ex at 0x7f02cf196d10>, <Reaction LIPAHTex at 0x7f02cf196c50>, <Reaction AGt3 at 0x7f02cf5c5f10>, <Reaction CUt3 at 0x7f02cf458a50>, <Reaction Htex at 0x7f02cf237bd0>, <Reaction EX_h_e at 0x7f02cf695f50>])\n",
      "h_p H+ frozenset([<Reaction FECRMUtex at 0x7f02cf36c050>, <Reaction INSt2rpp at 0x7f02cf1f0090>, <Reaction ABUTt2pp at 0x7f02cf5e40d0>, <Reaction XYLt2pp at 0x7f02cee22ad0>, <Reaction PLIPA2E161pp at 0x7f02cf008150>, <Reaction FUMt2_2pp at 0x7f02cf38f590>, <Reaction CYTDt2pp at 0x7f02cf47c190>, <Reaction DDGLCNt2rpp at 0x7f02cf4241d0>, <Reaction Kt2pp at 0x7f02cf202050>, <Reaction FEENTERtpp at 0x7f02cf36c250>, <Reaction CTBTt2rpp at 0x7f02cf458290>, <Reaction CYTDt2rpp at 0x7f02cf47c2d0>, <Reaction BTNt2ipp at 0x7f02cf4df5d0>, <Reaction PLIPA2G140pp at 0x7f02cf008350>, <Reaction XANt2pp at 0x7f02cee22090>, <Reaction PLIPA2G141pp at 0x7f02cf0083d0>, <Reaction LPLIPAL1E141pp at 0x7f02cf1aab50>, <Reaction NTRIR3pp at 0x7f02cf064410>, <Reaction PLIPA2G160pp at 0x7f02cf008450>, <Reaction ECA4OALpp at 0x7f02cf409110>, <Reaction PLIPA2G161pp at 0x7f02cf0084d0>, <Reaction CMtpp at 0x7f02cf49e0d0>, <Reaction ASPt2_2pp at 0x7f02cf54c510>, <Reaction ASPt2_3pp at 0x7f02cf54c550>, <Reaction O16AP1pp at 0x7f02cf064590>, <Reaction FEENTERtonex at 0x7f02cf36c5d0>, <Reaction GALCTNLt2pp at 0x7f02cf34cc50>, <Reaction HCINNMt2rpp at 0x7f02cf290650>, <Reaction LYSt2pp at 0x7f02cf158610>, <Reaction FE2t3pp at 0x7f02cf3c4650>, <Reaction O16AP2pp at 0x7f02cf064710>, <Reaction URAt2rpp at 0x7f02cee8d110>, <Reaction DGSNt2pp at 0x7f02cf4246d0>, <Reaction SERt2rpp at 0x7f02cef38bd0>, <Reaction HISt2rpp at 0x7f02cf224710>, <Reaction PLIPA1E161pp at 0x7f02ceff1690>, <Reaction NAt3_2pp at 0x7f02cf104790>, <Reaction CU1Opp at 0x7f02cf4587d0>, <Reaction PHEt2rpp at 0x7f02cefdc850>, <Reaction FDH4pp at 0x7f02cf3c48d0>, <Reaction FRUURt2rpp at 0x7f02cf38f6d0>, <Reaction ACACt2pp at 0x7f02cf5e4910>, <Reaction HEXt2rpp at 0x7f02cf224190>, <Reaction TRPt2rpp at 0x7f02ceec09d0>, <Reaction ATPS4rpp at 0x7f02cf54cc50>, <Reaction DSERt2pp at 0x7f02cf3e1710>, <Reaction DADNt2pp at 0x7f02cf47ca90>, <Reaction FEOXAMUtex at 0x7f02cf36cad0>, <Reaction FECRMtonex at 0x7f02cf36c1d0>, <Reaction NAt3pp at 0x7f02cf1048d0>, <Reaction FEOXAMUtpp at 0x7f02cf36cb50>, <Reaction FORt2pp at 0x7f02cf37ec90>, <Reaction HOMt2pp at 0x7f02cf224b90>, <Reaction PIt2rpp at 0x7f02cefdcbd0>, <Reaction ADNt2rpp at 0x7f02cf5b3750>, <Reaction FEROpp at 0x7f02cf36cc10>, <Reaction FEOXAMtonex at 0x7f02cf36cc50>, <Reaction L__LACt2rpp at 0x7f02cf202210>, <Reaction CYANSTpp at 0x7f02cf458c90>, <Reaction GPDDA1pp at 0x7f02cf254cd0>, <Reaction BALAt2pp at 0x7f02cf54ccd0>, <Reaction MG2t3_2pp at 0x7f02cf124d10>, <Reaction GALCTNt2pp at 0x7f02cf34cd50>, <Reaction MELIBt2pp at 0x7f02cf190d90>, <Reaction GPDDA2pp at 0x7f02cf254dd0>, <Reaction PLIPA2E181pp at 0x7f02cf008250>, <Reaction GALCTt2rpp at 0x7f02cf34ce10>, <Reaction TARTt2_3pp at 0x7f02ceef4e50>, <Reaction LALADGLUtpp at 0x7f02cf202d10>, <Reaction FECRMUtpp at 0x7f02cf36c0d0>, <Reaction GPDDA3pp at 0x7f02cf254ed0>, <Reaction GALURt2rpp at 0x7f02cf2de550>, <Reaction RFAMPtpp at 0x7f02cef6cf10>, <Reaction DALAt2pp at 0x7f02cf47cf50>, <Reaction PYRt2rpp at 0x7f02cef6c290>, <Reaction 5DGLCNt2rpp at 0x7f02cf63cf90>, <Reaction GPDDA4pp at 0x7f02cf254fd0>, <Reaction TMAOR1pp at 0x7f02ceead090>, <Reaction ALAt2rpp at 0x7f02cf56d0d0>, <Reaction GLYt2rpp at 0x7f02cf2542d0>, <Reaction LPLIPAL1G181pp at 0x7f02cf1c1110>, <Reaction ECAP1pp at 0x7f02cf409150>, <Reaction UACGAMPpp at 0x7f02cee65190>, <Reaction ECAP2pp at 0x7f02cf4091d0>, <Reaction O16A4Lpp at 0x7f02cf064550>, <Reaction UDPGPpp at 0x7f02cee79210>, <Reaction MN2t3pp at 0x7f02cf14b6d0>, <Reaction PLIPA2E141pp at 0x7f02ceff1290>, <Reaction MALDt2_2pp at 0x7f02cf158e10>, <Reaction GUAt2pp at 0x7f02cf27d2d0>, <Reaction UGLCURPpp at 0x7f02cee79310>, <Reaction GSNt2pp at 0x7f02cf269350>, <Reaction FACOAL140t2pp at 0x7f02cf3b1890>, <Reaction CBItonex at 0x7f02cf4f5390>, <Reaction CD2t3pp at 0x7f02cf4f5c90>, <Reaction INSt2pp at 0x7f02cf1da590>, <Reaction MELIBt3ipp at 0x7f02cf190e10>, <Reaction PLIPA1E120pp at 0x7f02ceff1490>, <Reaction ASPt2pp at 0x7f02cf54c5d0>, <Reaction CRNDt2rpp at 0x7f02cf4c58d0>, <Reaction PLIPA1E140pp at 0x7f02ceff1510>, <Reaction GLUt2rpp at 0x7f02cf2ae210>, <Reaction 3HPPtpp at 0x7f02cf625590>, <Reaction GLYCAt2rpp at 0x7f02cf2aee50>, <Reaction PLIPA1E160pp at 0x7f02ceff1610>, <Reaction LPLIPAL1E180pp at 0x7f02cf1aacd0>, <Reaction URIt2pp at 0x7f02cee8d650>, <Reaction FRULYSt2pp at 0x7f02cf38f5d0>, <Reaction NAt3_1p5pp at 0x7f02cf104710>, <Reaction URAt2pp at 0x7f02cee79690>, <Reaction URIt2rpp at 0x7f02cee8d6d0>, <Reaction PLIPA1E180pp at 0x7f02ceff1710>, <Reaction AGM4Pt2pp at 0x7f02cf5c5750>, <Reaction THMDt2rpp at 0x7f02cef06e90>, <Reaction PLIPA1E181pp at 0x7f02ceff1790>, <Reaction FACOAL100t2pp at 0x7f02cf3b17d0>, <Reaction AGMt2pp at 0x7f02cf5c5950>, <Reaction FACOAL160t2pp at 0x7f02cf3b1990>, <Reaction PLIPA1G120pp at 0x7f02ceff1810>, <Reaction PSCLYSt2pp at 0x7f02cefaecd0>, <Reaction FACOAL120t2pp at 0x7f02cf3b1850>, <Reaction BUTt2rpp at 0x7f02cf4df8d0>, <Reaction PLIPA1G140pp at 0x7f02ceff1890>, <Reaction FACOAL141t2pp at 0x7f02cf3b18d0>, <Reaction PTRCt2pp at 0x7f02cefc2ed0>, <Reaction PLIPA1G141pp at 0x7f02ceff1910>, <Reaction UDCPDPpp at 0x7f02cee65950>, <Reaction NTP3pp at 0x7f02cf053990>, <Reaction PLIPA1G160pp at 0x7f02ceff1990>, <Reaction Kt3pp at 0x7f02cf2020d0>, <Reaction CRNt2rpp at 0x7f02cf4c59d0>, <Reaction NTRIR4pp at 0x7f02cf064450>, <Reaction LPLIPAL1E140pp at 0x7f02cf1aaad0>, <Reaction FACOAL161t2pp at 0x7f02cf3b1a50>, <Reaction ALAt2pp at 0x7f02cf55af10>, <Reaction PLIPA1G180pp at 0x7f02ceff1a90>, <Reaction THRt2pp at 0x7f02cee99ad0>, <Reaction THRt2rpp at 0x7f02cee99b10>, <Reaction CPGNtonex at 0x7f02cf4c50d0>, <Reaction NOVBCNtpp at 0x7f02cf0b1b50>, <Reaction LCTSt3ipp at 0x7f02cf196490>, <Reaction PLIPA2A120pp at 0x7f02ceff1b90>, <Reaction FACOAL181t2pp at 0x7f02cf3b1bd0>, <Reaction CPGNUtpp at 0x7f02cf4b2f50>, <Reaction PLIPA2A140pp at 0x7f02ceff1c10>, <Reaction PLIPA1G161pp at 0x7f02ceff1a10>, <Reaction FACOAL60t2pp at 0x7f02cf3b1c90>, <Reaction DURIt2pp at 0x7f02cf3e1f50>, <Reaction PLIPA2E160pp at 0x7f02cf0080d0>, <Reaction SELtpp at 0x7f02cef384d0>, <Reaction PLIPA2A160pp at 0x7f02ceff1d10>, <Reaction FACOAL80t2pp at 0x7f02cf3b1d50>, <Reaction PLIPA2A161pp at 0x7f02ceff1d90>, <Reaction ALLTNt2rpp at 0x7f02cf56da50>, <Reaction LPLIPAL1A161pp at 0x7f02cf1aa8d0>, <Reaction THYMt3pp at 0x7f02cee99e10>, <Reaction HPPPNt2rpp at 0x7f02cf224f50>, <Reaction UDPGALPpp at 0x7f02cee65e50>, <Reaction PLIPA2A181pp at 0x7f02ceff1e90>, <Reaction LPLIPAL1G180pp at 0x7f02cf1aa050>, <Reaction CYNTt2pp at 0x7f02cf458fd0>, <Reaction PLIPA2E120pp at 0x7f02ceff1f10>, <Reaction HG2t3pp at 0x7f02cf224290>, <Reaction PLIPA2E140pp at 0x7f02ceff1f90>, <Reaction PLIPA2G180pp at 0x7f02cf008550>, <Reaction CITt3pp at 0x7f02cf49e050>, <Reaction AKGt2rpp at 0x7f02cf55a090>, <Reaction IDONt2rpp at 0x7f02cf1da0d0>, <Reaction ACt2rpp at 0x7f02cf59dad0>, <Reaction CLPNH141pp at 0x7f02cf49e590>, <Reaction LEUt2rpp at 0x7f02cf196b50>, <Reaction TTRCYCtpp at 0x7f02ceec0450>, <Reaction ACNAMt2pp at 0x7f02cf60a210>, <Reaction SPODMpp at 0x7f02ceee2250>, <Reaction PLIPA1G181pp at 0x7f02ceff1b10>, <Reaction LPLIPAL1A120pp at 0x7f02cf1aa5d0>, <Reaction FUSAtpp at 0x7f02cf322310>, <Reaction LIPOt2pp at 0x7f02cf1aa390>, <Reaction GALt2pp at 0x7f02cf2de3d0>, <Reaction CLPNH120pp at 0x7f02cf49e410>, <Reaction ETHAt2pp at 0x7f02cf39a450>, <Reaction ASPt2rpp at 0x7f02cf54c610>, <Reaction COBALT2t3pp at 0x7f02cf4b2490>, <Reaction TMAOR2pp at 0x7f02ceead0d0>, <Reaction XTSNt2rpp at 0x7f02cee22550>, <Reaction MINCYCtpp at 0x7f02cf136590>, <Reaction CLPNH160pp at 0x7f02cf49e5d0>, <Reaction D__LACt2pp at 0x7f02cf47c650>, <Reaction LPLIPAL1A140pp at 0x7f02cf1aa650>, <Reaction GPDDA5pp at 0x7f02cf269110>, <Reaction RMNtpp at 0x7f02cef7e690>, <Reaction CSNt2pp at 0x7f02cf4c5bd0>, <Reaction CHLt2pp at 0x7f02cf50a710>, <Reaction PPPNt2rpp at 0x7f02cef9bc90>, <Reaction CLPNH180pp at 0x7f02cf49e750>, <Reaction LPLIPAL1A141pp at 0x7f02cf1aa7d0>, <Reaction FACOAL180t2pp at 0x7f02cf3b1b10>, <Reaction LPLIPAL1A160pp at 0x7f02cf1aa850>, <Reaction GLYBt2pp at 0x7f02cf2ae8d0>, <Reaction SUCCt2_2pp at 0x7f02ceee2910>, <Reaction 23PDE2pp at 0x7f02cf662950>, <Reaction MALt2_2pp at 0x7f02cf16a990>, <Reaction XYLUt2pp at 0x7f02cee229d0>, <Reaction LYSt3pp at 0x7f02cf158650>, <Reaction MALt2_3pp at 0x7f02cf16aa10>, <Reaction LPLIPAL1E120pp at 0x7f02cf1aaa50>, <Reaction CLPNH161pp at 0x7f02cf49e710>, <Reaction INDOLEt2pp at 0x7f02cf1daa90>, <Reaction INDOLEt2rpp at 0x7f02cf1daad0>, <Reaction ILEt2rpp at 0x7f02cf1da650>, <Reaction CYTBD2pp at 0x7f02cf46ab10>, <Reaction CYTBDpp at 0x7f02cf46ab50>, <Reaction PLIPA2A141pp at 0x7f02ceff1c90>, <Reaction CYTBO3_4pp at 0x7f02cf46ab90>, <Reaction LPLIPAL1E160pp at 0x7f02cf1aabd0>, <Reaction PROt2rpp at 0x7f02cefae750>, <Reaction LPLIPAL1E161pp at 0x7f02cf1aac50>, <Reaction ECAP3pp at 0x7f02cf409210>, <Reaction MALt3pp at 0x7f02cf16ac90>, <Reaction CLt3_2pp at 0x7f02cf49ecd0>, <Reaction 23PDE7pp at 0x7f02cf662d10>, <Reaction LPLIPAL1E181pp at 0x7f02cf1aad50>, <Reaction LALALGLUtpp at 0x7f02cf202d90>, <Reaction LPLIPAL1G120pp at 0x7f02cf1aadd0>, <Reaction FE3DCITtonex at 0x7f02cf357250>, <Reaction LPLIPAL1G140pp at 0x7f02cf1aae50>, <Reaction 23PDE9pp at 0x7f02cf662e90>, <Reaction LPLIPAL1G141pp at 0x7f02cf1aaed0>, <Reaction CLPNH140pp at 0x7f02cf49e550>, <Reaction 23DAPPAt2pp at 0x7f02cf6627d0>, <Reaction CPGNUtex at 0x7f02cf4b2f10>, <Reaction LPLIPAL1G160pp at 0x7f02cf1aaf50>, <Reaction ZN2t3pp at 0x7f02cee22f90>, <Reaction LPLIPAL1G161pp at 0x7f02cf1aafd0>, <Reaction CA2t3pp at 0x7f02cf4dfd50>, <Reaction OROTt2_2pp at 0x7f02cf08f110>, <Reaction THMDt2pp at 0x7f02cef06e50>, <Reaction ARBt2rpp at 0x7f02cf5271d0>, <Reaction O16AP3pp at 0x7f02cf064850>, <Reaction ARBTNtex at 0x7f02cf527210>, <Reaction NI2t3pp at 0x7f02cf09b250>, <Reaction LCTStpp at 0x7f02cf196590>, <Reaction AGM3Pt2pp at 0x7f02cf5c5310>, <Reaction ARBTNtonex at 0x7f02cf527290>, <Reaction PLIPA2G181pp at 0x7f02cf0085d0>, <Reaction VALt2rpp at 0x7f02cee8db10>, <Reaction SPMDt3pp at 0x7f02cef4b350>, <Reaction ARBTNtpp at 0x7f02cf527390>, <Reaction 5MTRtpp at 0x7f02cf64f3d0>, <Reaction SKMt2pp at 0x7f02cef4b410>, <Reaction ADEt2rpp at 0x7f02cf59de10>, <Reaction CLPNH181pp at 0x7f02cf49e8d0>, <Reaction ARBt3ipp at 0x7f02cf527510>, <Reaction MMETt2pp at 0x7f02cf14b550>, <Reaction GLCRt2rpp at 0x7f02cf307590>, <Reaction NADH16pp at 0x7f02cf0f35d0>, <Reaction DOXRBCNtpp at 0x7f02cf44de50>, <Reaction SUCCt3pp at 0x7f02ceee2ad0>, <Reaction DCYTt2pp at 0x7f02cf490e50>, <Reaction SLNTtpp at 0x7f02cef4b650>, <Reaction LYXt2pp at 0x7f02cf158910>, <Reaction HYD2pp at 0x7f02cf2376d0>, <Reaction CADVtpp at 0x7f02cf4df590>, <Reaction ADNt2pp at 0x7f02cf5b36d0>, <Reaction FE3HOXUtex at 0x7f02cf357710>, <Reaction GLYt2pp at 0x7f02cf254290>, <Reaction HYD1pp at 0x7f02cf237790>, <Reaction NADH17pp at 0x7f02cf0f37d0>, <Reaction FEENTERtex at 0x7f02cf36c450>, <Reaction LPLIPAL1A180pp at 0x7f02cf1aa950>, <Reaction NADH18pp at 0x7f02cf0f3810>, <Reaction FE3HOXUtpp at 0x7f02cf357850>, <Reaction FE3DHBZStonex at 0x7f02cf357410>, <Reaction HYD3pp at 0x7f02cf237890>, <Reaction NO3R2pp at 0x7f02cf09b8d0>, <Reaction ARGt3pp at 0x7f02cf527ed0>, <Reaction ADOCBLtonex at 0x7f02cf5b3910>, <Reaction FE3HOXtonex at 0x7f02cf357950>, <Reaction SO4t2pp at 0x7f02cef4b990>, <Reaction ARGDCpp at 0x7f02cf5279d0>, <Reaction ASNt2rpp at 0x7f02cf537a50>, <Reaction GLCURt2rpp at 0x7f02cf307a90>, <Reaction PLIPA2E180pp at 0x7f02cf0081d0>, <Reaction FDH5pp at 0x7f02cf3c49d0>, <Reaction MNt2pp at 0x7f02cf14bb10>, <Reaction TYRt2rpp at 0x7f02cee53b50>, <Reaction CBL1tonex at 0x7f02cf4f5490>, <Reaction Htex at 0x7f02cf237bd0>, <Reaction FUMt2_3pp at 0x7f02cf38ff50>, <Reaction LPLIPAL1A181pp at 0x7f02cf1aa9d0>, <Reaction PLIPA2G120pp at 0x7f02cf0082d0>, <Reaction PACALDt2rpp at 0x7f02cf08fc90>, <Reaction FE2t2pp at 0x7f02cf3c4fd0>, <Reaction GLCt2pp at 0x7f02cf307d50>, <Reaction FUCtpp at 0x7f02cf38fd90>, <Reaction UACGALPpp at 0x7f02cee53dd0>, <Reaction THD2pp at 0x7f02cef06a50>, <Reaction NO2t2rpp at 0x7f02cf09be10>, <Reaction DINSt2pp at 0x7f02cf43be50>, <Reaction GLYCLTt2rpp at 0x7f02cf2c1650>, <Reaction GLCDpp at 0x7f02cf2f3ed0>, <Reaction SUCCt2_3pp at 0x7f02ceee2a50>, <Reaction NO3R1pp at 0x7f02cf09bf10>, <Reaction PLIPA2A180pp at 0x7f02ceff1e10>, <Reaction GLCNt2rpp at 0x7f02cf2f3f50>, <Reaction 23PDE4pp at 0x7f02cf662a90>, <Reaction PLIPA1E141pp at 0x7f02ceff1590>])\n",
      "h2_e\n",
      "h2_c H2 frozenset([<Reaction HYD3pp at 0x7f02cf237890>, <Reaction H2tpp at 0x7f02cf27dcd0>, <Reaction HYD2pp at 0x7f02cf2376d0>, <Reaction HYD1pp at 0x7f02cf237790>, <Reaction FHL at 0x7f02cf37e190>])\n",
      "h2_e H2 frozenset([<Reaction EX_h2_e at 0x7f02cf695f90>, <Reaction H2tex at 0x7f02cf27dc90>])\n",
      "h2_p H2 frozenset([<Reaction H2tex at 0x7f02cf27dc90>, <Reaction H2tpp at 0x7f02cf27dcd0>, <Reaction PPTHpp at 0x7f02cef9bd90>])\n",
      "h2o_e\n",
      "h2o_c H2O frozenset([<Reaction CRNabcpp at 0x7f02cf4c5a90>, <Reaction DAPAL at 0x7f02cf4900d0>, <Reaction 4PCP at 0x7f02cf63cbd0>, <Reaction LPLIPAL2G160 at 0x7f02cf158150>, <Reaction ALDD4 at 0x7f02cf56d7d0>, <Reaction TRE6PH at 0x7f02ceec0190>, <Reaction ALTRH at 0x7f02cf5801d0>, <Reaction Ec_biomass_iJO1366_WT_53p95M at 0x7f02cf6e0250>, <Reaction MLTG4 at 0x7f02cf136b10>, <Reaction Ec_biomass_iJO1366_core_53p95M at 0x7f02cf6e0290>, <Reaction CTBTabcpp at 0x7f02cf4582d0>, <Reaction FACOAE180 at 0x7f02cf3b15d0>, <Reaction IPDPS at 0x7f02cf1f0310>, <Reaction SELNPS at 0x7f02cef38390>, <Reaction AM4PA at 0x7f02cf5803d0>, <Reaction GLYC3Pabcpp at 0x7f02cf2aeb50>, <Reaction IPPMIa at 0x7f02cf1f0410>, <Reaction AM4PCP at 0x7f02cf580450>, <Reaction ECOAH3 at 0x7f02cf409610>, <Reaction HKNTDH at 0x7f02cf224810>, <Reaction IPPMIb at 0x7f02cf1f0490>, <Reaction LIPACabcpp at 0x7f02cf196c90>, <Reaction LPLIPAL2G141 at 0x7f02cf1580d0>, <Reaction IPPS at 0x7f02cf1f0510>, <Reaction LYSabcpp at 0x7f02cf158550>, <Reaction ALAALAabcpp at 0x7f02cf55a510>, <Reaction CYTBO3_4pp at 0x7f02cf46ab90>, <Reaction TRPAS2 at 0x7f02ceec05d0>, <Reaction PGP160abcpp at 0x7f02cf049650>, <Reaction ISETACabcpp at 0x7f02cf1f0610>, <Reaction FECRMabcpp at 0x7f02cf36c110>, <Reaction TRPS2 at 0x7f02ceec0690>, <Reaction PMDPHT at 0x7f02cf0086d0>, <Reaction RNDR2 at 0x7f02cef7ebd0>, <Reaction PA140abcpp at 0x7f02cf08f990>, <Reaction CTPS2 at 0x7f02cf458710>, <Reaction K2L4Aabcpp at 0x7f02cf1f0750>, <Reaction K2L4Aabctex at 0x7f02cf1f0790>, <Reaction G3PGabcpp at 0x7f02cf3387d0>, <Reaction S2FE2SR at 0x7f02cef90150>, <Reaction S2FE2SS at 0x7f02cef90810>, <Reaction LADGMDH at 0x7f02cf202c10>, <Reaction CU1abcpp at 0x7f02cf458890>, <Reaction FACOAE60 at 0x7f02cf3b16d0>, <Reaction CU2abcpp at 0x7f02cf458910>, <Reaction DATPHs at 0x7f02cf490950>, <Reaction ADD at 0x7f02cf59dfd0>, <Reaction AMPN at 0x7f02cf5809d0>, <Reaction S2FE2SS2 at 0x7f02cef90a10>, <Reaction AMPTASECG at 0x7f02cf580a50>, <Reaction POX at 0x7f02cf008a90>, <Reaction PPA at 0x7f02cf008ad0>, <Reaction LPLIPAL2G161 at 0x7f02cf1581d0>, <Reaction DC6PH at 0x7f02cf490b10>, <Reaction FA100ACPHi at 0x7f02cf39ac90>, <Reaction TSULabcpp at 0x7f02ceec0bd0>, <Reaction FACOAE80 at 0x7f02cf3b1750>, <Reaction DCTPD at 0x7f02cf490c50>, <Reaction DCYTD at 0x7f02cf490c90>, <Reaction MECDPDH5 at 0x7f02cf190cd0>, <Reaction THIORDXi at 0x7f02cef06cd0>, <Reaction G3PT at 0x7f02cf338d10>, <Reaction OPHHX3 at 0x7f02cf078d50>, <Reaction AM3PA at 0x7f02cf580250>, <Reaction OPMEACPD at 0x7f02cf078e50>, <Reaction KDOPP at 0x7f02cf1f0e90>, <Reaction CS at 0x7f02cf4c5f50>, <Reaction SGDS at 0x7f02cef38ed0>, <Reaction ECOAH6 at 0x7f02cf4097d0>, <Reaction KDOPS at 0x7f02cf1f0f10>, <Reaction Kabcpp at 0x7f02cf1f0bd0>, <Reaction SELGTHR at 0x7f02cef38290>, <Reaction G5SADs at 0x7f02cf338f90>, <Reaction MALTHXabcpp at 0x7f02cf158fd0>, <Reaction CYTD at 0x7f02cf46ad50>, <Reaction FA160ACPHi at 0x7f02cf3b1090>, <Reaction LPLIPAL2G181 at 0x7f02cf1582d0>, <Reaction FA161ACPHi at 0x7f02cf3b1150>, <Reaction LPLIPAL2A120 at 0x7f02cf1c1190>, <Reaction PGLYCP at 0x7f02cf049210>, <Reaction PAPA140 at 0x7f02cf021250>, <Reaction TREH at 0x7f02ceec0310>, <Reaction LPLIPAL2A141 at 0x7f02cf1c1290>, <Reaction FACOAE100 at 0x7f02cf3b12d0>, <Reaction ACOLIPAabctex at 0x7f02cf60add0>, <Reaction LPLIPAL2A160 at 0x7f02cf1c1310>, <Reaction FACOAE120 at 0x7f02cf3b1350>, <Reaction LPLIPAL2A161 at 0x7f02cf1c1390>, <Reaction FACOAE140 at 0x7f02cf3b13d0>, <Reaction ECA4COLIPAabctex at 0x7f02cf3f4350>, <Reaction LPLIPAL2A180 at 0x7f02cf1c1410>, <Reaction ECOAH1 at 0x7f02cf409450>, <Reaction 3HAD161 at 0x7f02cf612e10>, <Reaction LPLIPAL2A181 at 0x7f02cf1c1490>, <Reaction FACOAE160 at 0x7f02cf3b14d0>, <Reaction AGMT at 0x7f02cf5c58d0>, <Reaction PAPA161 at 0x7f02cf021550>, <Reaction E4PD at 0x7f02cf3f4390>, <Reaction ECOAH2 at 0x7f02cf4095d0>, <Reaction UGLYCH at 0x7f02cee79610>, <Reaction CSND at 0x7f02cf4c5f90>, <Reaction FACOAE181 at 0x7f02cf3b1650>, <Reaction ALLTAMH at 0x7f02cf56d910>, <Reaction TRE6PP at 0x7f02ceec01d0>, <Reaction PGP161abcpp at 0x7f02cf0496d0>, <Reaction G6PDA at 0x7f02cf34c3d0>, <Reaction ECOAH5 at 0x7f02cf409710>, <Reaction UHGADA at 0x7f02cee79750>, <Reaction THRS at 0x7f02cee997d0>, <Reaction ECOAH8 at 0x7f02cf409950>, <Reaction GTHPi at 0x7f02cf269810>, <Reaction ATPS4rpp at 0x7f02cf54cc50>, <Reaction PGPP120 at 0x7f02cf049850>, <Reaction SELR at 0x7f02cef38410>, <Reaction ECOAH7 at 0x7f02cf409890>, <Reaction DTARTD at 0x7f02cf3e18d0>, <Reaction FA140ACPHi at 0x7f02cf39aed0>, <Reaction PGPP140 at 0x7f02cf049910>, <Reaction THRabcpp at 0x7f02cee99950>, <Reaction PDE1 at 0x7f02cf021990>, <Reaction PDE4 at 0x7f02cf0219d0>, <Reaction DAPabcpp at 0x7f02cf490450>, <Reaction PGPP141 at 0x7f02cf049a10>, <Reaction GTHRDabc2pp at 0x7f02cf269a50>, <Reaction GTHRDabcpp at 0x7f02cf269ad0>, <Reaction PG120abcpp at 0x7f02cf0359d0>, <Reaction UPLA4FNF at 0x7f02cee79b50>, <Reaction O16A4COLIPAabctex at 0x7f02cf064490>, <Reaction PGPP160 at 0x7f02cf049b90>, <Reaction CYSabcpp at 0x7f02cf46a9d0>, <Reaction LPLIPAL2E120 at 0x7f02cf1c1c10>, <Reaction GTPCI at 0x7f02cf269c50>, <Reaction LPLIPAL2E140 at 0x7f02cf1c1c90>, <Reaction METOX2s at 0x7f02cf1244d0>, <Reaction PGPP161 at 0x7f02cf049d10>, <Reaction 3HAD181 at 0x7f02cf612f90>, <Reaction LPLIPAL2E160 at 0x7f02cf1c1d90>, <Reaction LPLIPAL2E161 at 0x7f02cf1c1e10>, <Reaction G3PEabcpp at 0x7f02cf338510>, <Reaction LPLIPAL2E180 at 0x7f02cf1c1e90>, <Reaction ENLIPAabctex at 0x7f02cf409ed0>, <Reaction CPGNabcpp at 0x7f02cf4b2fd0>, <Reaction LPLIPAL2E181 at 0x7f02cf1c1f10>, <Reaction ENO at 0x7f02cf409f50>, <Reaction VALabcpp at 0x7f02cee8da90>, <Reaction GTPDPDP at 0x7f02cf269f90>, <Reaction DUTPDP at 0x7f02cf3e1fd0>, <Reaction PYAM5PO at 0x7f02cef56750>, <Reaction SGSAD at 0x7f02cef38f10>, <Reaction ENTERES at 0x7f02cf39a090>, <Reaction CDAPPA160 at 0x7f02cf50a0d0>, <Reaction EDD at 0x7f02cf409ad0>, <Reaction CDAPPA161 at 0x7f02cf50a150>, <Reaction CDAPPA180 at 0x7f02cf50a1d0>, <Reaction COBALT2abcpp at 0x7f02cf4b2210>, <Reaction CDAPPA181 at 0x7f02cf50a250>, <Reaction ECOAH4 at 0x7f02cf409650>, <Reaction ENTERES2 at 0x7f02cf39a290>, <Reaction CYSDS at 0x7f02cf46a2d0>, <Reaction 14GLUCANabcpp at 0x7f02cf662310>, <Reaction NTD12 at 0x7f02cf0c2390>, <Reaction ALAALAD at 0x7f02cf55a410>, <Reaction 2MAHMP at 0x7f02cf612450>, <Reaction TRPS1 at 0x7f02ceec0610>, <Reaction CYSDabcpp at 0x7f02cf46a490>, <Reaction G3PCabcpp at 0x7f02cf322f90>, <Reaction ETHSO3abcpp at 0x7f02cf39a4d0>, <Reaction 3AMACHYD at 0x7f02cf612510>, <Reaction 3HAD40 at 0x7f02cf612550>, <Reaction GLCRD at 0x7f02cf307450>, <Reaction SARCOX at 0x7f02cef25b90>, <Reaction ILEabcpp at 0x7f02cf1da5d0>, <Reaction CYSTL at 0x7f02cf46a610>, <Reaction BSORx at 0x7f02cf4df110>, <Reaction MALTabcpp at 0x7f02cf16a690>, <Reaction CHLabcpp at 0x7f02cf50a6d0>, <Reaction IMPC at 0x7f02cf1da710>, <Reaction IMPD at 0x7f02cf1da750>, <Reaction HISabcpp at 0x7f02cf224690>, <Reaction LACZ at 0x7f02cf202790>, <Reaction ALDD19xr at 0x7f02cf56d090>, <Reaction NTD3 at 0x7f02cf0c27d0>, <Reaction ACODA at 0x7f02cf60ad50>, <Reaction NHFRBO at 0x7f02cf09b150>, <Reaction G2PP at 0x7f02cf322810>, <Reaction 3HAD120 at 0x7f02cf612850>, <Reaction PE140abcpp at 0x7f02cf021c10>, <Reaction 3HAD121 at 0x7f02cf612890>, <Reaction PAPA180 at 0x7f02cf021650>, <Reaction CYSabc2pp at 0x7f02cf46a8d0>, <Reaction 3HAD140 at 0x7f02cf6129d0>, <Reaction COLIPAabcpp at 0x7f02cf4b2a50>, <Reaction 3PEPTabcpp at 0x7f02cf63c710>, <Reaction COLIPAabctex at 0x7f02cf4b2a90>, <Reaction FE3DCITabcpp at 0x7f02cf3571d0>, <Reaction CYTBD2pp at 0x7f02cf46ab10>, <Reaction CYTBDpp at 0x7f02cf46ab50>, <Reaction NTD1 at 0x7f02cf0b1c90>, <Reaction XYLabcpp at 0x7f02cee22b90>, <Reaction HCO3E at 0x7f02cf290750>, <Reaction NTD5 at 0x7f02cf0c2c10>, <Reaction MOCOS at 0x7f02cf0df210>, <Reaction 3HAD141 at 0x7f02cf612c90>, <Reaction INSH at 0x7f02cf1dacd0>, <Reaction UM4PCP at 0x7f02cee79910>, <Reaction FA120ACPHi at 0x7f02cf39ad10>, <Reaction 3HAD160 at 0x7f02cf612d50>, <Reaction DHACOAH at 0x7f02cf424790>, <Reaction ACONTb at 0x7f02cf60ad90>, <Reaction NTD6 at 0x7f02cf0c2dd0>, <Reaction CYTDH at 0x7f02cf46ae10>, <Reaction PTRCabcpp at 0x7f02cefc2e50>, <Reaction GLYOX3 at 0x7f02cf2c1d10>, <Reaction ZN2abcpp at 0x7f02cee22e90>, <Reaction 3HAD180 at 0x7f02cf612ed0>, <Reaction DHAD1 at 0x7f02cf4247d0>, <Reaction ALAabcpp at 0x7f02cf55af50>, <Reaction ASPabcpp at 0x7f02cf54c490>, <Reaction ACONTa at 0x7f02cf60af90>, <Reaction NTD7 at 0x7f02cf0c2fd0>, <Reaction DADA at 0x7f02cf47c810>, <Reaction DHDPS at 0x7f02cf43b0d0>, <Reaction PPC at 0x7f02cef9b2d0>, <Reaction MTHTHFSs at 0x7f02cf0f3110>, <Reaction PPBNGS at 0x7f02cef9b150>, <Reaction MTRPOX at 0x7f02cf0f3190>, <Reaction ASR at 0x7f02cf54c850>, <Reaction NI2abcpp at 0x7f02cf09b210>, <Reaction AACTOOR at 0x7f02cf64fc10>, <Reaction 5DOAN at 0x7f02cf64f310>, <Reaction NTD8 at 0x7f02cf053290>, <Reaction TUNGSabcpp at 0x7f02cee532d0>, <Reaction NMNDA at 0x7f02cf09b690>, <Reaction NACODA at 0x7f02cf0f3310>, <Reaction PGP141abcpp at 0x7f02cf0495d0>, <Reaction AP5AH at 0x7f02cf5133d0>, <Reaction NTD9 at 0x7f02cf053410>, <Reaction GCALDD at 0x7f02cf2f3450>, <Reaction UPP3S at 0x7f02cee79e10>, <Reaction DHNCOAT at 0x7f02cf43b4d0>, <Reaction ASCBPL at 0x7f02cf527fd0>, <Reaction NADDP at 0x7f02cf0f3550>, <Reaction GLNabcpp at 0x7f02cf29b590>, <Reaction PPGPPDP at 0x7f02cef9b5d0>, <Reaction 4HTHRS at 0x7f02cf63c950>, <Reaction NTPP4 at 0x7f02cf053610>, <Reaction ADNUC at 0x7f02cf5b3650>, <Reaction G3PIabcpp at 0x7f02cf338910>, <Reaction NTP10 at 0x7f02cf053690>, <Reaction GDPMNP at 0x7f02cf2f36d0>, <Reaction G6PP at 0x7f02cf34c4d0>, <Reaction METDabcpp at 0x7f02cf124390>, <Reaction GLYOX at 0x7f02cf2c1e90>, <Reaction NTP12 at 0x7f02cf053790>, <Reaction GDPTPDP at 0x7f02cf2f37d0>, <Reaction DHAD2 at 0x7f02cf424950>, <Reaction PG141abcpp at 0x7f02cf035a90>, <Reaction DHORTS at 0x7f02cf43b850>, <Reaction MN6PP at 0x7f02cf14b890>, <Reaction NO3R2pp at 0x7f02cf09b8d0>, <Reaction GGGABADr at 0x7f02cf2f3910>, <Reaction GGGABAH at 0x7f02cf2f3990>, <Reaction ADOCBLabcpp at 0x7f02cf5b39d0>, <Reaction DHNCOAS at 0x7f02cf43b450>, <Reaction APH140 at 0x7f02cf513910>, <Reaction NTP5 at 0x7f02cf053a10>, <Reaction PGPP180 at 0x7f02cf049e90>, <Reaction PPNDH at 0x7f02cef9ba50>, <Reaction FACOAE141 at 0x7f02cf3b1450>, <Reaction PDXPP at 0x7f02cf021f10>, <Reaction ADPRDP at 0x7f02cf5b3a90>, <Reaction MALTPTabcpp at 0x7f02cf16a250>, <Reaction POAACR at 0x7f02cf0089d0>, <Reaction NTPP10 at 0x7f02cf053b10>, <Reaction GLUDy at 0x7f02cf29bb50>, <Reaction GLUN at 0x7f02cf29bb90>, <Reaction PE120abcpp at 0x7f02cf021f50>, <Reaction APH180 at 0x7f02cf513c10>, <Reaction NTPP2 at 0x7f02cf053c50>, <Reaction FDMO at 0x7f02cf3c4a10>, <Reaction GHMT2r at 0x7f02cf2f3c90>, <Reaction APH181 at 0x7f02cf513cd0>, <Reaction TMAOR1 at 0x7f02cee99910>, <Reaction GLUPRT at 0x7f02cf29bd10>, <Reaction DHQTi at 0x7f02cf43bd50>, <Reaction LPLIPAL2G120 at 0x7f02cf1c1f90>, <Reaction ALLTN at 0x7f02cf56d9d0>, <Reaction FDMO2 at 0x7f02cf3c4a50>, <Reaction NTPP5 at 0x7f02cf053e10>, <Reaction NTPP6 at 0x7f02cf053e50>, <Reaction NADPPPS at 0x7f02cf0f3e90>, <Reaction URACPAH at 0x7f02cee79fd0>, <Reaction NO3R1pp at 0x7f02cf09bf10>, <Reaction G3PSabcpp at 0x7f02cf338a90>, <Reaction SPMDabcpp at 0x7f02cef4bf90>, <Reaction NI2uabcpp at 0x7f02cf09b550>, <Reaction ZNabcpp at 0x7f02cee34090>, <Reaction AMPTASEPG at 0x7f02cf580ad0>, <Reaction METAT at 0x7f02cf124110>, <Reaction NTD10 at 0x7f02cf0b1d10>, <Reaction NTPP9 at 0x7f02cf064150>, <Reaction HG2abcpp at 0x7f02cf224210>, <Reaction NTPTP1 at 0x7f02cf064250>, <Reaction HEMEOS at 0x7f02cf290b10>, <Reaction SULFACabcpp at 0x7f02ceef4290>, <Reaction NTPTP2 at 0x7f02cf0642d0>, <Reaction DDPA at 0x7f02cf424310>, <Reaction NTRIR2x at 0x7f02cf064350>, <Reaction HISTD at 0x7f02cf224390>, <Reaction FEENTERabcpp at 0x7f02cf36c3d0>, <Reaction FDMO4 at 0x7f02cf3c4b50>, <Reaction HISTP at 0x7f02cf224410>, <Reaction SULRi at 0x7f02ceef4450>, <Reaction METOX1s at 0x7f02cf124490>, <Reaction GMAND at 0x7f02cf2544d0>, <Reaction GPDDA5 at 0x7f02cf254510>, <Reaction OGMEACPD at 0x7f02cf078490>, <Reaction SULabcpp at 0x7f02ceef45d0>, <Reaction NTP1 at 0x7f02cf053650>, <Reaction PHEMEabcpp at 0x7f02cefdc690>, <Reaction NAMNPP at 0x7f02cf1046d0>, <Reaction ANHMK at 0x7f02cf580bd0>, <Reaction DAAD at 0x7f02cf47c710>, <Reaction GMHEPPA at 0x7f02cf254750>, <Reaction GDPMNH at 0x7f02cf2f3690>, <Reaction METSOX1abcpp at 0x7f02cf124790>, <Reaction HKNDDH at 0x7f02cf2247d0>, <Reaction METSOX2abcpp at 0x7f02cf124810>, <Reaction GMPS2 at 0x7f02cf254850>, <Reaction OXCOAHDH at 0x7f02cf08f6d0>, <Reaction GALCTD at 0x7f02cf34c890>, <Reaction NTP11 at 0x7f02cf0536d0>, <Reaction METSOXR1 at 0x7f02cf124910>, <Reaction LPLIPAL2E141 at 0x7f02cf1c1d10>, <Reaction METSOXR2 at 0x7f02cf124950>, <Reaction HMBS at 0x7f02cf224990>, <Reaction TARTD at 0x7f02ceef49d0>, <Reaction OP4ENH at 0x7f02cf078c50>, <Reaction TAURabcpp at 0x7f02ceef4a10>, <Reaction GP4GH at 0x7f02cf254a50>, <Reaction GALCTND at 0x7f02cf34ca90>, <Reaction FDMO3 at 0x7f02cf3c4ad0>, <Reaction LIPAabcpp at 0x7f02cf1aa1d0>, <Reaction METabcpp at 0x7f02cf124b10>, <Reaction RBFSa at 0x7f02cef6cb50>, <Reaction FEOXAMabcpp at 0x7f02cf36cb90>, <Reaction FDMO6 at 0x7f02cf3c4bd0>, <Reaction GALS3 at 0x7f02cf34cc10>, <Reaction CCGS at 0x7f02cf4f5a90>, <Reaction GPDDA1 at 0x7f02cf254c50>, <Reaction PAPA181 at 0x7f02cf021750>, <Reaction DHBSH at 0x7f02cf424c90>, <Reaction MG2uabcpp at 0x7f02cf124cd0>, <Reaction GPDDA2 at 0x7f02cf254d50>, <Reaction BETALDHx at 0x7f02cf54cd90>, <Reaction BETALDHy at 0x7f02cf54cdd0>, <Reaction LALGP at 0x7f02cf202250>, <Reaction FESD2s at 0x7f02cf36ce50>, <Reaction ACM6PH at 0x7f02cf5f8d10>, <Reaction 4PEPTabcpp at 0x7f02cf63ced0>, <Reaction NMNN at 0x7f02cf09b7d0>, <Reaction FE2abcpp at 0x7f02cf3c4f50>, <Reaction NTD2 at 0x7f02cf0c25d0>, <Reaction PIuabcpp at 0x7f02cefdcd50>, <Reaction CBIuabcpp at 0x7f02cf4f5090>, <Reaction GTPHs at 0x7f02cf27d0d0>, <Reaction AGDC at 0x7f02cf5c5110>, <Reaction 3HAD60 at 0x7f02cf625150>, <Reaction AGM3PA at 0x7f02cf5c5190>, <Reaction APH120 at 0x7f02cf513850>, <Reaction 3HAD80 at 0x7f02cf625210>, <Reaction CPMPS at 0x7f02cf4c5250>, <Reaction MALTTRabcpp at 0x7f02cf16a310>, <Reaction UACMAMO at 0x7f02cee65290>, <Reaction CPPPGO at 0x7f02cf4c52d0>, <Reaction FESD1s at 0x7f02cf36cdd0>, <Reaction PE181abcpp at 0x7f02cf035310>, <Reaction DMPPS at 0x7f02cf44d350>, <Reaction 3HPPPNH at 0x7f02cf625390>, <Reaction CPH4S at 0x7f02cf4c5090>, <Reaction TMAOR2 at 0x7f02ceead3d0>, <Reaction CBL1abcpp at 0x7f02cf4f5410>, <Reaction DMSOR1 at 0x7f02cf44d450>, <Reaction URIH at 0x7f02cee8d490>, <Reaction DMSOR2 at 0x7f02cf44d510>, <Reaction NTPP11 at 0x7f02cf053b50>, <Reaction CBPS at 0x7f02cf4f5550>, <Reaction XTSNH at 0x7f02cee22390>, <Reaction ALDD2x at 0x7f02cf56d590>, <Reaction MLTG5 at 0x7f02cf136b90>, <Reaction GPDDA3 at 0x7f02cf254e50>, <Reaction ALDD2y at 0x7f02cf56d610>, <Reaction AGM4PH at 0x7f02cf5c5650>, <Reaction DHPPDA2 at 0x7f02cf43b910>, <Reaction CLIPAabctex at 0x7f02cf49e3d0>, <Reaction ALDD3y at 0x7f02cf56d750>, <Reaction SFGTHi at 0x7f02cef38e90>, <Reaction CRNCDH at 0x7f02cf4c5790>, <Reaction NTD11 at 0x7f02cf0c21d0>, <Reaction AGMH at 0x7f02cf5c57d0>, <Reaction FTHFD at 0x7f02cf38f950>, <Reaction AMPMS2 at 0x7f02cf580950>, <Reaction UDCPDP at 0x7f02cee65810>, <Reaction FACOAE161 at 0x7f02cf3b1550>, <Reaction SADH at 0x7f02cef25890>, <Reaction USHD at 0x7f02cee8d8d0>, <Reaction CRNDabcpp at 0x7f02cf4c5910>, <Reaction GTPCII2 at 0x7f02cf269f10>, <Reaction NADN at 0x7f02cf0f3990>, <Reaction SADT2 at 0x7f02cef259d0>, <Reaction NTP3 at 0x7f02cf053910>, <Reaction PG140abcpp at 0x7f02cf035a10>, <Reaction DNMPPA at 0x7f02cf44da50>, <Reaction MALS at 0x7f02cf158f10>, <Reaction DNTPPA at 0x7f02cf44da90>, <Reaction LIPAabctex at 0x7f02cf1aa250>, <Reaction APH141 at 0x7f02cf5139d0>, <Reaction PG160abcpp at 0x7f02cf035b10>, <Reaction ICHORT at 0x7f02cf247d90>, <Reaction MICITDr at 0x7f02cf136490>, <Reaction PG161abcpp at 0x7f02cf035b90>, <Reaction WCOS at 0x7f02cee8dbd0>, <Reaction GPDDA4 at 0x7f02cf254f50>, <Reaction PG180abcpp at 0x7f02cf035c10>, <Reaction PA141abcpp at 0x7f02cf08fa10>, <Reaction PG181abcpp at 0x7f02cf035c90>, <Reaction GUAD at 0x7f02cf27d210>, <Reaction MALTTTRabcpp at 0x7f02cf16a4d0>, <Reaction R5PP at 0x7f02cef6c9d0>, <Reaction OMPHHX3 at 0x7f02cf078bd0>, <Reaction ADA at 0x7f02cf59dd50>, <Reaction CDAPPA120 at 0x7f02cf4f5d90>, <Reaction SDPDS at 0x7f02cef25e10>, <Reaction PSP_L at 0x7f02cefc2510>, <Reaction CDAPPA140 at 0x7f02cf4f5e90>, <Reaction UDPGD at 0x7f02cee65f50>, <Reaction MNNH at 0x7f02cf14ba90>, <Reaction AHCYSNS at 0x7f02cf5c5f90>, <Reaction XAND at 0x7f02cee8dfd0>, <Reaction PGP180abcpp at 0x7f02cf049750>, <Reaction FA141ACPHi at 0x7f02cf39af90>, <Reaction PPPGO at 0x7f02cef9bb10>, <Reaction FFSD at 0x7f02cf37e0d0>, <Reaction GLUabcpp at 0x7f02cf2ae190>, <Reaction LCADi at 0x7f02cf196210>, <Reaction THZPSN3 at 0x7f02cee99e90>, <Reaction RIBabcpp at 0x7f02cef7e250>, <Reaction GGPTRCO at 0x7f02cf2f3b10>, <Reaction TDP at 0x7f02cef06290>, <Reaction SSALx at 0x7f02ceee25d0>, <Reaction PRAMPC at 0x7f02cefae310>, <Reaction RZ5PP at 0x7f02cef7e350>, <Reaction LPLIPAL2G140 at 0x7f02cf1c1090>, <Reaction MI1PP at 0x7f02cf1363d0>, <Reaction NNAM at 0x7f02cf09bb50>, <Reaction PRATPP at 0x7f02cefae410>, <Reaction CGLYabcpp at 0x7f02cf50a610>, <Reaction PRFGS at 0x7f02cefae490>, <Reaction NTPP1 at 0x7f02cf053a90>, <Reaction AGM3PH at 0x7f02cf5c50d0>, <Reaction PE180abcpp at 0x7f02cf035290>, <Reaction GALabcpp at 0x7f02cf2de650>, <Reaction PAPA141 at 0x7f02cf021350>, <Reaction PROGLYabcpp at 0x7f02cefae650>, <Reaction PE141abcpp at 0x7f02cf035110>, <Reaction FOMETRi at 0x7f02cf37e690>, <Reaction APH160 at 0x7f02cf513a90>, <Reaction RNDR1 at 0x7f02cef7e750>, <Reaction PMEACPE at 0x7f02cf008790>, <Reaction PROabcpp at 0x7f02cefae790>, <Reaction TDPGDH at 0x7f02cef067d0>, <Reaction PGL at 0x7f02cf049150>, <Reaction FE3abcpp at 0x7f02cf357c10>, <Reaction MLTG1 at 0x7f02cf1368d0>, <Reaction SSALy at 0x7f02ceee26d0>, <Reaction GLYC2Pabcpp at 0x7f02cf2ae950>, <Reaction PE160abcpp at 0x7f02cf035190>, <Reaction MLTG2 at 0x7f02cf136a10>, <Reaction PDX5PS at 0x7f02cf021c90>, <Reaction LEUabcpp at 0x7f02cf196a50>, <Reaction MLTG3 at 0x7f02cf136a90>, <Reaction CDAPPA141 at 0x7f02cf4f5910>, <Reaction THDPS at 0x7f02cef06b10>, <Reaction IGPDH at 0x7f02cf1da210>, <Reaction RNDR1b at 0x7f02cef7eb90>, <Reaction THFAT at 0x7f02cef06bd0>, <Reaction GLYBabcpp at 0x7f02cf2ae750>, <Reaction RNDR2b at 0x7f02cef7ec10>, <Reaction PYDXPP at 0x7f02cef56cd0>, <Reaction RNDR3 at 0x7f02cef7ec50>, <Reaction LPLIPAL2A140 at 0x7f02cf1c1210>, <Reaction ATPHs at 0x7f02cf54cad0>, <Reaction RNDR4 at 0x7f02cef7ecd0>, <Reaction NTPP3 at 0x7f02cf053cd0>, <Reaction RNDR4b at 0x7f02cef7ed10>, <Reaction RNTR1c2 at 0x7f02cef7ed50>, <Reaction RNTR2c2 at 0x7f02cef7ed90>, <Reaction RNTR3c2 at 0x7f02cef7edd0>, <Reaction RNTR4c2 at 0x7f02cef7ee10>, <Reaction CMPN at 0x7f02cf49ee50>, <Reaction PGP181abcpp at 0x7f02cf0497d0>, <Reaction NTPP8 at 0x7f02cf053d10>, <Reaction PE161abcpp at 0x7f02cf035210>, <Reaction AGM4PCP at 0x7f02cf5c5290>, <Reaction THMabcpp at 0x7f02cef06fd0>, <Reaction PACCOAE at 0x7f02cf08fd50>, <Reaction GLCabcpp at 0x7f02cf307b10>, <Reaction ORNabcpp at 0x7f02cf08f050>, <Reaction 3HAD100 at 0x7f02cf612810>, <Reaction BPNT at 0x7f02cf4df0d0>, <Reaction 3HCINNMH at 0x7f02cf6252d0>, <Reaction MOBDabcpp at 0x7f02cf0df110>, <Reaction ARBTNabcpp at 0x7f02cf527150>, <Reaction MTHFC at 0x7f02cf0dfd90>, <Reaction CD2abcpp at 0x7f02cf4f5ad0>, <Reaction FRULYSDG at 0x7f02cf38f1d0>, <Reaction COLIPAPabctex at 0x7f02cf4b2850>, <Reaction ALLabcpp at 0x7f02cf56db90>, <Reaction BSORy at 0x7f02cf4df250>, <Reaction URIC at 0x7f02cee8d310>, <Reaction IGPS at 0x7f02cf1da250>, <Reaction FBP at 0x7f02cf3c44d0>, <Reaction MANPGH at 0x7f02cf17f310>, <Reaction CAT at 0x7f02cf4f50d0>, <Reaction SUCBZS at 0x7f02ceee2890>, <Reaction FE3DHBZSabcpp at 0x7f02cf3573d0>, <Reaction PGPP181 at 0x7f02cf049350>, <Reaction MOHMT at 0x7f02cf0df410>, <Reaction ARBabcpp at 0x7f02cf527450>, <Reaction ASNN at 0x7f02cf537490>, <Reaction MCITD at 0x7f02cf17f4d0>, <Reaction F6PP at 0x7f02cf39a8d0>, <Reaction ASNS1 at 0x7f02cf537510>, <Reaction AGM4PA at 0x7f02cf5c5390>, <Reaction HXAND at 0x7f02cf2375d0>, <Reaction ARGabcpp at 0x7f02cf527e50>, <Reaction PPA2 at 0x7f02cf008c50>, <Reaction FA80ACPHi at 0x7f02cf3b1210>, <Reaction PGP120abcpp at 0x7f02cf0493d0>, <Reaction BUTSO3abcpp at 0x7f02cf4df750>, <Reaction NTPP7 at 0x7f02cf053e90>, <Reaction CYSDDS at 0x7f02cf46a250>, <Reaction P5CD at 0x7f02cf08f7d0>, <Reaction PGP140abcpp at 0x7f02cf049410>, <Reaction FE3HOXabcpp at 0x7f02cf357890>, <Reaction RNDR3b at 0x7f02cef7ec90>, <Reaction PA120abcpp at 0x7f02cf08f910>, <Reaction MCITS at 0x7f02cf17f950>, <Reaction OMMBLHX3 at 0x7f02cf078a90>, <Reaction ASNabcpp at 0x7f02cf5379d0>, <Reaction PAPA160 at 0x7f02cf021450>, <Reaction ATPM at 0x7f02cf54cb50>, <Reaction HYPOE at 0x7f02cf237a50>, <Reaction H2Otpp at 0x7f02cf27d750>, <Reaction PA160abcpp at 0x7f02cf08fa90>, <Reaction NTD4 at 0x7f02cf0c29d0>, <Reaction ASO3t8pp at 0x7f02cf537b10>, <Reaction QULNS at 0x7f02cef6c690>, <Reaction PA180abcpp at 0x7f02cf08fb90>, <Reaction PA181abcpp at 0x7f02cf08fc10>, <Reaction MTAN at 0x7f02cf0dfd50>, <Reaction APH161 at 0x7f02cf513b50>, <Reaction PPS at 0x7f02cef9bd50>, <Reaction NMNt7pp at 0x7f02cf09b910>, <Reaction AP4AH at 0x7f02cf5132d0>, <Reaction LPLIPAL2G180 at 0x7f02cf158250>, <Reaction FUM at 0x7f02cf38fed0>, <Reaction PA161abcpp at 0x7f02cf08fb10>, <Reaction ABUTD at 0x7f02cf64ff10>, <Reaction MSO3abcpp at 0x7f02cf0dfa10>, <Reaction AB6PGH at 0x7f02cf64ff50>, <Reaction PAPA120 at 0x7f02cf08ffd0>, <Reaction GSPMDA at 0x7f02cf269550>])\n",
      "h2o_e H2O frozenset([<Reaction H2Otex at 0x7f02cf27d710>, <Reaction LIPAHT2ex at 0x7f02cf196d10>, <Reaction LIPAHTex at 0x7f02cf196c50>, <Reaction EX_h2o_e at 0x7f02cf695fd0>])\n",
      "h2o_p H2O frozenset([<Reaction MDDEP2pp at 0x7f02cf190050>, <Reaction ACGAL1PPpp at 0x7f02cf5f80d0>, <Reaction LPLIPAL1E140pp at 0x7f02cf1aaad0>, <Reaction PGPP181pp at 0x7f02cefdc110>, <Reaction PLIPA2E161pp at 0x7f02cf008150>, <Reaction MDDEP3pp at 0x7f02cf190190>, <Reaction PLIPA2E180pp at 0x7f02cf0081d0>, <Reaction LPLIPAL1G180pp at 0x7f02cf1aa050>, <Reaction NTD11pp at 0x7f02cf0c2250>, <Reaction GLUNpp at 0x7f02cf29bb10>, <Reaction ACGAM1PPpp at 0x7f02cf5f82d0>, <Reaction CLPNH160pp at 0x7f02cf49e5d0>, <Reaction PLIPA2G140pp at 0x7f02cf008350>, <Reaction PGPP161pp at 0x7f02cf049dd0>, <Reaction PLIPA2G141pp at 0x7f02cf0083d0>, <Reaction PLIPA2G180pp at 0x7f02cf008550>, <Reaction MDDEP4pp at 0x7f02cf190410>, <Reaction G1PPpp at 0x7f02cf322450>, <Reaction TREHpp at 0x7f02ceec0490>, <Reaction R5PPpp at 0x7f02cef6ca10>, <Reaction NTD1pp at 0x7f02cf0c24d0>, <Reaction PLIPA2E160pp at 0x7f02cf0080d0>, <Reaction PSP_Lpp at 0x7f02cefc2550>, <Reaction CLPNH141pp at 0x7f02cf49e590>, <Reaction LPLIPAL1A120pp at 0x7f02cf1aa5d0>, <Reaction LPLIPAL1A140pp at 0x7f02cf1aa650>, <Reaction MLDCP1App at 0x7f02cf136610>, <Reaction GAL1PPpp at 0x7f02cf34c650>, <Reaction GPDDA5pp at 0x7f02cf269110>, <Reaction MDDEP1pp at 0x7f02cf17f9d0>, <Reaction MLDCP2App at 0x7f02cf136690>, <Reaction NTD2pp at 0x7f02cf0c26d0>, <Reaction LPLIPAL1E160pp at 0x7f02cf1aabd0>, <Reaction CLPNH161pp at 0x7f02cf49e710>, <Reaction CLPNH180pp at 0x7f02cf49e750>, <Reaction MLDCP2Bpp at 0x7f02cf1367d0>, <Reaction MLDCP3App at 0x7f02cf136810>, <Reaction LPLIPAL1A160pp at 0x7f02cf1aa850>, <Reaction 42A12BOOXpp at 0x7f02cf63c890>, <Reaction NO3R2bpp at 0x7f02cf09bfd0>, <Reaction CLPNH181pp at 0x7f02cf49e8d0>, <Reaction 23PDE2pp at 0x7f02cf662950>, <Reaction LPLIPAL1A181pp at 0x7f02cf1aa9d0>, <Reaction LPLIPAL1E161pp at 0x7f02cf1aac50>, <Reaction G2PPpp at 0x7f02cf322a10>, <Reaction LPLIPAL1E120pp at 0x7f02cf1aaa50>, <Reaction H2Otex at 0x7f02cf27d710>, <Reaction 23PDE4pp at 0x7f02cf662a90>, <Reaction NO3R1bpp at 0x7f02cf09bed0>, <Reaction NTD4pp at 0x7f02cf0c2ad0>, <Reaction LPLIPAL1E141pp at 0x7f02cf1aab50>, <Reaction MDDCP2pp at 0x7f02cf17fc90>, <Reaction PHYTSpp at 0x7f02cefdcb90>, <Reaction PTHRpp at 0x7f02cefc2bd0>, <Reaction H2Otpp at 0x7f02cf27d750>, <Reaction FEROpp at 0x7f02cf36cc10>, <Reaction NTD5pp at 0x7f02cf0c2c50>, <Reaction NTRIR3pp at 0x7f02cf064410>, <Reaction AGM3PApp at 0x7f02cf5c5210>, <Reaction GPDDA1pp at 0x7f02cf254cd0>, <Reaction LPLIPAL1E180pp at 0x7f02cf1aacd0>, <Reaction 23PDE7pp at 0x7f02cf662d10>, <Reaction LPLIPAL1E181pp at 0x7f02cf1aad50>, <Reaction GPDDA2pp at 0x7f02cf254dd0>, <Reaction PLIPA2E181pp at 0x7f02cf008250>, <Reaction LPLIPAL1G140pp at 0x7f02cf1aae50>, <Reaction 23PDE9pp at 0x7f02cf662e90>, <Reaction GPDDA3pp at 0x7f02cf254ed0>, <Reaction LPLIPAL1A141pp at 0x7f02cf1aa7d0>, <Reaction NTD6pp at 0x7f02cf0c2f10>, <Reaction LPLIPAL1G160pp at 0x7f02cf1aaf50>, <Reaction PLIPA1A141pp at 0x7f02cefdcfd0>, <Reaction 4PCPpp at 0x7f02cf63cd50>, <Reaction LPLIPAL1G161pp at 0x7f02cf1aafd0>, <Reaction TMAOR1pp at 0x7f02ceead090>, <Reaction TMAOR2pp at 0x7f02ceead0d0>, <Reaction PLIPA1E140pp at 0x7f02ceff1510>, <Reaction PLIPA2G120pp at 0x7f02cf0082d0>, <Reaction LPLIPAL1G181pp at 0x7f02cf1c1110>, <Reaction NTD7pp at 0x7f02cf053150>, <Reaction PLIPA2A161pp at 0x7f02ceff1d90>, <Reaction UACGAMPpp at 0x7f02cee65190>, <Reaction MDDCP1pp at 0x7f02cf17fc50>, <Reaction MLDEP1pp at 0x7f02cf136850>, <Reaction UDPGPpp at 0x7f02cee79210>, <Reaction LPLIPAL1G141pp at 0x7f02cf1aaed0>, <Reaction NTD8pp at 0x7f02cf053310>, <Reaction PLIPA2E141pp at 0x7f02ceff1290>, <Reaction ASNNpp at 0x7f02cf5374d0>, <Reaction PAPA140pp at 0x7f02cf0212d0>, <Reaction PLIPA2G181pp at 0x7f02cf0085d0>, <Reaction LPLIPAL1G120pp at 0x7f02cf1aadd0>, <Reaction PLIPA1A161pp at 0x7f02ceff1310>, <Reaction MLDEP2pp at 0x7f02cf136890>, <Reaction PEAMNOpp at 0x7f02cf035390>, <Reaction PAPA141pp at 0x7f02cf0213d0>, <Reaction NTRIR4pp at 0x7f02cf064450>, <Reaction PLIPA1A181pp at 0x7f02ceff1410>, <Reaction PLIPA1E120pp at 0x7f02ceff1490>, <Reaction PAPA160pp at 0x7f02cf0214d0>, <Reaction PLIPA2G161pp at 0x7f02cf0084d0>, <Reaction NTD3pp at 0x7f02cf0c28d0>, <Reaction TYROXDApp at 0x7f02cee53510>, <Reaction MDDCP4pp at 0x7f02cf17fe90>, <Reaction PLIPA1A180pp at 0x7f02ceff1390>, <Reaction PLIPA1E141pp at 0x7f02ceff1590>, <Reaction AGM4PCPpp at 0x7f02cf5c55d0>, <Reaction MDDCP3pp at 0x7f02cf17fe50>, <Reaction UGLCURPpp at 0x7f02cee79310>, <Reaction PLIPA1E160pp at 0x7f02ceff1610>, <Reaction 3NTD2pp at 0x7f02cf625650>, <Reaction PLIPA1E161pp at 0x7f02ceff1690>, <Reaction PAPA180pp at 0x7f02cf0216d0>, <Reaction CU1Opp at 0x7f02cf4587d0>, <Reaction PLIPA1E180pp at 0x7f02ceff1710>, <Reaction TYRPpp at 0x7f02cee53750>, <Reaction DMSOR2pp at 0x7f02cf44d4d0>, <Reaction PLIPA1A120pp at 0x7f02cefdce90>, <Reaction PLIPA1E181pp at 0x7f02ceff1790>, <Reaction 3NTD4pp at 0x7f02cf6257d0>, <Reaction LPLIPAL1A180pp at 0x7f02cf1aa950>, <Reaction PLIPA1G120pp at 0x7f02ceff1810>, <Reaction 3NTD7pp at 0x7f02cf625850>, <Reaction CLPNH120pp at 0x7f02cf49e410>, <Reaction PLIPA1G140pp at 0x7f02ceff1890>, <Reaction PGPP120pp at 0x7f02cf0498d0>, <Reaction MLDCP1Bpp at 0x7f02cf136650>, <Reaction PLIPA1G141pp at 0x7f02ceff1910>, <Reaction UDCPDPpp at 0x7f02cee65950>, <Reaction NTP3pp at 0x7f02cf053990>, <Reaction PLIPA1G160pp at 0x7f02ceff1990>, <Reaction GTHRDHpp at 0x7f02cf2699d0>, <Reaction PLIPA2G160pp at 0x7f02cf008450>, <Reaction PLIPA1G161pp at 0x7f02ceff1a10>, <Reaction PLIPA1G180pp at 0x7f02ceff1a90>, <Reaction PGPP141pp at 0x7f02cf049ad0>, <Reaction PLIPA1A160pp at 0x7f02cefdc9d0>, <Reaction PLIPA1G181pp at 0x7f02ceff1b10>, <Reaction NTD12pp at 0x7f02cf0c2410>, <Reaction PAPA181pp at 0x7f02cf0217d0>, <Reaction 3NTD9pp at 0x7f02cf6258d0>, <Reaction PLIPA2A120pp at 0x7f02ceff1b90>, <Reaction PLIPA1A140pp at 0x7f02cefdcf50>, <Reaction PLIPA2A140pp at 0x7f02ceff1c10>, <Reaction PGPP160pp at 0x7f02cf049c50>, <Reaction GUR1PPpp at 0x7f02cf27d650>, <Reaction PGPP140pp at 0x7f02cf049950>, <Reaction PLIPA2A141pp at 0x7f02ceff1c90>, <Reaction MDDCP5pp at 0x7f02cf17fed0>, <Reaction AGM4PApp at 0x7f02cf5c54d0>, <Reaction PLIPA2A160pp at 0x7f02ceff1d10>, <Reaction PAPA120pp at 0x7f02cf08ff90>, <Reaction PPTHpp at 0x7f02cef9bd90>, <Reaction UACGALPpp at 0x7f02cee53dd0>, <Reaction LPLIPAL1A161pp at 0x7f02cf1aa8d0>, <Reaction PLIPA2A180pp at 0x7f02ceff1e10>, <Reaction UDPGALPpp at 0x7f02cee65e50>, <Reaction NTD9pp at 0x7f02cf053510>, <Reaction PLIPA2A181pp at 0x7f02ceff1e90>, <Reaction GLCDpp at 0x7f02cf2f3ed0>, <Reaction GPDDA4pp at 0x7f02cf254fd0>, <Reaction PLIPA2E120pp at 0x7f02ceff1f10>, <Reaction DMSOR1pp at 0x7f02cf44d0d0>, <Reaction PGPP180pp at 0x7f02cf049f50>, <Reaction PAPA161pp at 0x7f02cf0215d0>, <Reaction LACZpp at 0x7f02cf202a90>, <Reaction PLIPA2E140pp at 0x7f02ceff1f90>, <Reaction NTD10pp at 0x7f02cf0b1fd0>, <Reaction CLPNH140pp at 0x7f02cf49e550>])\n",
      "k_e\n",
      "k_c potassium frozenset([<Reaction Ec_biomass_iJO1366_core_53p95M at 0x7f02cf6e0290>, <Reaction Kabcpp at 0x7f02cf1f0bd0>, <Reaction Kt3pp at 0x7f02cf2020d0>, <Reaction Kt2pp at 0x7f02cf202050>, <Reaction Ec_biomass_iJO1366_WT_53p95M at 0x7f02cf6e0250>])\n",
      "k_e potassium frozenset([<Reaction EX_k_e at 0x7f02cf6a9710>, <Reaction Ktex at 0x7f02cf202190>])\n",
      "k_p potassium frozenset([<Reaction Ktex at 0x7f02cf202190>, <Reaction Kt2pp at 0x7f02cf202050>, <Reaction Kt3pp at 0x7f02cf2020d0>, <Reaction Kabcpp at 0x7f02cf1f0bd0>])\n",
      "meoh_e\n",
      "meoh_c Methanol frozenset([<Reaction MEOHtrpp at 0x7f02cf190910>, <Reaction PMEACPE at 0x7f02cf008790>])\n",
      "meoh_e Methanol frozenset([<Reaction EX_meoh_e at 0x7f02cf6a9e10>, <Reaction MEOHtex at 0x7f02cf190fd0>])\n",
      "meoh_p Methanol frozenset([<Reaction MEOHtrpp at 0x7f02cf190910>, <Reaction MEOHtex at 0x7f02cf190fd0>])\n",
      "mg2_e\n",
      "mg2_c magnesium frozenset([<Reaction Ec_biomass_iJO1366_core_53p95M at 0x7f02cf6e0290>, <Reaction Ec_biomass_iJO1366_WT_53p95M at 0x7f02cf6e0250>, <Reaction MG2t3_2pp at 0x7f02cf124d10>, <Reaction MG2uabcpp at 0x7f02cf124cd0>, <Reaction MG2tpp at 0x7f02cf124e50>])\n",
      "mg2_e magnesium frozenset([<Reaction MG2tex at 0x7f02cf124e10>, <Reaction EX_mg2_e at 0x7f02cf6a9fd0>])\n",
      "mg2_p magnesium frozenset([<Reaction MG2t3_2pp at 0x7f02cf124d10>, <Reaction MG2tex at 0x7f02cf124e10>, <Reaction MG2uabcpp at 0x7f02cf124cd0>, <Reaction MG2tpp at 0x7f02cf124e50>])\n",
      "mn2_e\n",
      "mn2_c Mn2+ frozenset([<Reaction MN2t3pp at 0x7f02cf14b6d0>, <Reaction MNt2pp at 0x7f02cf14bb10>, <Reaction Ec_biomass_iJO1366_WT_53p95M at 0x7f02cf6e0250>, <Reaction MN2tpp at 0x7f02cf14b750>, <Reaction Ec_biomass_iJO1366_core_53p95M at 0x7f02cf6e0290>])\n",
      "mn2_e Mn2+ frozenset([<Reaction EX_mn2_e at 0x7f02cf6bb150>, <Reaction MNtex at 0x7f02cf14bc50>])\n",
      "mn2_p Mn2+ frozenset([<Reaction MNt2pp at 0x7f02cf14bb10>, <Reaction MNtex at 0x7f02cf14bc50>, <Reaction MN2tpp at 0x7f02cf14b750>, <Reaction MN2t3pp at 0x7f02cf14b6d0>])\n",
      "mobd_e\n",
      "mobd_c Molybdate frozenset([<Reaction Ec_biomass_iJO1366_core_53p95M at 0x7f02cf6e0290>, <Reaction MOBDabcpp at 0x7f02cf0df110>, <Reaction Ec_biomass_iJO1366_WT_53p95M at 0x7f02cf6e0250>, <Reaction MOCOS at 0x7f02cf0df210>])\n",
      "mobd_e Molybdate frozenset([<Reaction MOBDtex at 0x7f02cf0df090>, <Reaction EX_mobd_e at 0x7f02cf6bb1d0>])\n",
      "mobd_p Molybdate frozenset([<Reaction MOBDabcpp at 0x7f02cf0df110>, <Reaction MOBDtex at 0x7f02cf0df090>])\n",
      "na1_e\n",
      "na1_c Sodium frozenset([<Reaction ALAt4pp at 0x7f02cf56d150>, <Reaction GLUt4pp at 0x7f02cf2ae250>, <Reaction GLYt4pp at 0x7f02cf254310>, <Reaction GLYCLTt4pp at 0x7f02cf2c1690>, <Reaction PROt4pp at 0x7f02cefaead0>, <Reaction NAt3pp at 0x7f02cf1048d0>, <Reaction PNTOt4pp at 0x7f02cf0088d0>, <Reaction ACt4pp at 0x7f02cf59db10>, <Reaction CAt6pp at 0x7f02cf4f5150>, <Reaction SERt4pp at 0x7f02cef38d50>, <Reaction PPAt4pp at 0x7f02cef9b090>, <Reaction INOSTt4pp at 0x7f02cf1dab90>, <Reaction NAt3_2pp at 0x7f02cf104790>, <Reaction NAt3_1p5pp at 0x7f02cf104710>, <Reaction THRt4pp at 0x7f02cee99b50>])\n",
      "na1_e Sodium frozenset([<Reaction EX_na1_e at 0x7f02cf6bb310>, <Reaction NAtex at 0x7f02cf104950>])\n",
      "na1_p Sodium frozenset([<Reaction NAt3_1p5pp at 0x7f02cf104710>, <Reaction PPAt4pp at 0x7f02cef9b090>, <Reaction NAt3pp at 0x7f02cf1048d0>, <Reaction PNTOt4pp at 0x7f02cf0088d0>, <Reaction NAtex at 0x7f02cf104950>, <Reaction INOSTt4pp at 0x7f02cf1dab90>, <Reaction ALAt4pp at 0x7f02cf56d150>, <Reaction GLUt4pp at 0x7f02cf2ae250>, <Reaction GLYt4pp at 0x7f02cf254310>, <Reaction GLYCLTt4pp at 0x7f02cf2c1690>, <Reaction PROt4pp at 0x7f02cefaead0>, <Reaction ACt4pp at 0x7f02cf59db10>, <Reaction CAt6pp at 0x7f02cf4f5150>, <Reaction THRt4pp at 0x7f02cee99b50>, <Reaction NAt3_2pp at 0x7f02cf104790>, <Reaction SERt4pp at 0x7f02cef38d50>])\n",
      "nh4_e\n",
      "nh4_c Ammonium frozenset([<Reaction DADA at 0x7f02cf47c810>, <Reaction ASNS2 at 0x7f02cf537850>, <Reaction CBMKr at 0x7f02cf4f5890>, <Reaction DAPAL at 0x7f02cf4900d0>, <Reaction CYSDS at 0x7f02cf46a2d0>, <Reaction ALLTAMH at 0x7f02cf56d910>, <Reaction DATPHs at 0x7f02cf490950>, <Reaction HMBS at 0x7f02cf224990>, <Reaction SERD_D at 0x7f02cef389d0>, <Reaction GUAD at 0x7f02cf27d210>, <Reaction GLUDy at 0x7f02cf29bb50>, <Reaction Ec_biomass_iJO1366_WT_53p95M at 0x7f02cf6e0250>, <Reaction CCGS at 0x7f02cf4f5a90>, <Reaction ATPHs at 0x7f02cf54cad0>, <Reaction CYSTL at 0x7f02cf46a610>, <Reaction TRPAS2 at 0x7f02ceec05d0>, <Reaction GGPTRCO at 0x7f02cf2f3b10>, <Reaction NNAM at 0x7f02cf09bb50>, <Reaction SADH at 0x7f02cef25890>, <Reaction ETHAAL at 0x7f02cf39a390>, <Reaction CBMD at 0x7f02cf4f5750>, <Reaction G6PDA at 0x7f02cf34c3d0>, <Reaction CDGS at 0x7f02cf50a350>, <Reaction AACTOOR at 0x7f02cf64fc10>, <Reaction DCTPD at 0x7f02cf490c50>, <Reaction NADS1 at 0x7f02cf0f3210>, <Reaction DCYTD at 0x7f02cf490c90>, <Reaction NH4tpp at 0x7f02cf104690>, <Reaction ASNN at 0x7f02cf537490>, <Reaction GTPHs at 0x7f02cf27d0d0>, <Reaction GLYCL at 0x7f02cf2c1510>, <Reaction GLUN at 0x7f02cf29bb90>, <Reaction CYTD at 0x7f02cf46ad50>, <Reaction CSND at 0x7f02cf4c5f90>, <Reaction NTRIR2x at 0x7f02cf064350>, <Reaction GLNS at 0x7f02cf29b250>, <Reaction DHPPDA2 at 0x7f02cf43b910>, <Reaction UGLYCH at 0x7f02cee79610>, <Reaction Ec_biomass_iJO1366_core_53p95M at 0x7f02cf6e0290>, <Reaction THRD_L at 0x7f02cee99650>, <Reaction 3AMACHYD at 0x7f02cf612510>, <Reaction NMNDA at 0x7f02cf09b690>, <Reaction ADD at 0x7f02cf59dfd0>, <Reaction DAAD at 0x7f02cf47c710>, <Reaction SERD_L at 0x7f02cef38a50>, <Reaction PYAM5PO at 0x7f02cef56750>, <Reaction ASPT at 0x7f02cf54c290>, <Reaction CYNTAH at 0x7f02cf458f90>, <Reaction CYSDDS at 0x7f02cf46a250>, <Reaction GMPR at 0x7f02cf2547d0>, <Reaction ADA at 0x7f02cf59dd50>])\n",
      "nh4_e Ammonium frozenset([<Reaction EX_nh4_e at 0x7f02cf6bb390>, <Reaction NH4tex at 0x7f02cf104f90>])\n",
      "nh4_p Ammonium frozenset([<Reaction NTRIR3pp at 0x7f02cf064410>, <Reaction NTRIR4pp at 0x7f02cf064450>, <Reaction GLUNpp at 0x7f02cf29bb10>, <Reaction 42A12BOOXpp at 0x7f02cf63c890>, <Reaction ASNNpp at 0x7f02cf5374d0>, <Reaction TYROXDApp at 0x7f02cee53510>, <Reaction NH4tpp at 0x7f02cf104690>, <Reaction NH4tex at 0x7f02cf104f90>, <Reaction PEAMNOpp at 0x7f02cf035390>])\n",
      "ni2_e\n",
      "ni2_c nickel frozenset([<Reaction NI2abcpp at 0x7f02cf09b210>, <Reaction NI2t3pp at 0x7f02cf09b250>, <Reaction NI2tpp at 0x7f02cf09b510>, <Reaction Ec_biomass_iJO1366_core_53p95M at 0x7f02cf6e0290>, <Reaction Ec_biomass_iJO1366_WT_53p95M at 0x7f02cf6e0250>, <Reaction NI2uabcpp at 0x7f02cf09b550>])\n",
      "ni2_e nickel frozenset([<Reaction EX_ni2_e at 0x7f02cf6bb3d0>, <Reaction NI2tex at 0x7f02cf09b4d0>])\n",
      "ni2_p nickel frozenset([<Reaction NI2abcpp at 0x7f02cf09b210>, <Reaction NI2tex at 0x7f02cf09b4d0>, <Reaction NI2uabcpp at 0x7f02cf09b550>, <Reaction NI2tpp at 0x7f02cf09b510>, <Reaction NI2t3pp at 0x7f02cf09b250>])\n",
      "o2_e\n",
      "o2_c O2 frozenset([<Reaction AACTOOR at 0x7f02cf64fc10>, <Reaction O2tpp at 0x7f02cf064e10>, <Reaction CAT at 0x7f02cf4f50d0>, <Reaction FDMO3 at 0x7f02cf3c4ad0>, <Reaction SPODM at 0x7f02ceee2110>, <Reaction CYTBD2pp at 0x7f02cf46ab10>, <Reaction MTRPOX at 0x7f02cf0f3190>, <Reaction MOX at 0x7f02cf0df450>, <Reaction FDMO at 0x7f02cf3c4a10>, <Reaction QMO2 at 0x7f02cef6c310>, <Reaction PPPGO at 0x7f02cef9bb10>, <Reaction OMMBLHX at 0x7f02cf078a10>, <Reaction 3HCINNMH at 0x7f02cf6252d0>, <Reaction HPPPNDO at 0x7f02cf224dd0>, <Reaction URIC at 0x7f02cee8d310>, <Reaction OMPHHX at 0x7f02cf078b50>, <Reaction SARCOX at 0x7f02cef25b90>, <Reaction H2SO at 0x7f02cf27d790>, <Reaction QMO3 at 0x7f02cef6c3d0>, <Reaction FDMO4 at 0x7f02cf3c4b50>, <Reaction PPPNDO at 0x7f02cef9bc10>, <Reaction PDX5POi at 0x7f02cf021c50>, <Reaction ASPO6 at 0x7f02cf54c210>, <Reaction OPHHX at 0x7f02cf078d10>, <Reaction PACCOAE at 0x7f02cf08fd50>, <Reaction CYTBO3_4pp at 0x7f02cf46ab90>, <Reaction 3HPPPNH at 0x7f02cf625390>, <Reaction FDMO2 at 0x7f02cf3c4a50>, <Reaction GGPTRCO at 0x7f02cf2f3b10>, <Reaction PYROX at 0x7f02cef56d10>, <Reaction TAUDO at 0x7f02ceef4e90>, <Reaction NODOx at 0x7f02cf0b1210>, <Reaction FDMO6 at 0x7f02cf3c4bd0>, <Reaction CYTBDpp at 0x7f02cf46ab50>, <Reaction NODOy at 0x7f02cf0b1710>, <Reaction PYAM5PO at 0x7f02cef56750>, <Reaction DHCINDO at 0x7f02cf424f90>, <Reaction CPPPGO at 0x7f02cf4c52d0>, <Reaction CINNDO at 0x7f02cf50afd0>])\n",
      "o2_e O2 frozenset([<Reaction EX_o2_e at 0x7f02cf6bb5d0>, <Reaction O2tex at 0x7f02cf064dd0>])\n",
      "o2_p O2 frozenset([<Reaction O2tpp at 0x7f02cf064e10>, <Reaction SPODMpp at 0x7f02ceee2250>, <Reaction FEROpp at 0x7f02cf36cc10>, <Reaction 42A12BOOXpp at 0x7f02cf63c890>, <Reaction O2tex at 0x7f02cf064dd0>, <Reaction TYROXDApp at 0x7f02cee53510>, <Reaction PEAMNOpp at 0x7f02cf035390>, <Reaction CU1Opp at 0x7f02cf4587d0>])\n",
      "so4_e\n",
      "so4_c Sulfate frozenset([<Reaction SO4t2pp at 0x7f02cef4b990>, <Reaction Ec_biomass_iJO1366_WT_53p95M at 0x7f02cf6e0250>, <Reaction H2SO at 0x7f02cf27d790>, <Reaction Ec_biomass_iJO1366_core_53p95M at 0x7f02cf6e0290>, <Reaction SULabcpp at 0x7f02ceef45d0>, <Reaction SADT2 at 0x7f02cef259d0>])\n",
      "so4_e Sulfate frozenset([<Reaction EX_so4_e at 0x7f02cf6ca310>, <Reaction SO4tex at 0x7f02cef4bad0>])\n",
      "so4_p Sulfate frozenset([<Reaction SO4t2pp at 0x7f02cef4b990>, <Reaction SO4tex at 0x7f02cef4bad0>, <Reaction SULabcpp at 0x7f02ceef45d0>])\n",
      "thm_e\n",
      "thm_c Thiamin frozenset([<Reaction THMabcpp at 0x7f02cef06fd0>, <Reaction TMK at 0x7f02ceeaddd0>])\n",
      "thm_e Thiamin frozenset([<Reaction EX_thm_e at 0x7f02cf6ca5d0>, <Reaction THMtex at 0x7f02cef06850>])\n",
      "thm_p Thiamin frozenset([<Reaction THMabcpp at 0x7f02cef06fd0>, <Reaction THMtex at 0x7f02cef06850>])\n",
      "zn2_e\n",
      "zn2_c Zinc frozenset([<Reaction ZN2tpp at 0x7f02cee22c10>, <Reaction ZNabcpp at 0x7f02cee34090>, <Reaction Ec_biomass_iJO1366_WT_53p95M at 0x7f02cf6e0250>, <Reaction ZN2abcpp at 0x7f02cee22e90>, <Reaction Ec_biomass_iJO1366_core_53p95M at 0x7f02cf6e0290>, <Reaction ZN2t3pp at 0x7f02cee22f90>])\n",
      "zn2_e Zinc frozenset([<Reaction EX_zn2_e at 0x7f02cf6cafd0>, <Reaction Zn2tex at 0x7f02cee34050>])\n",
      "zn2_p Zinc frozenset([<Reaction ZN2abcpp at 0x7f02cee22e90>, <Reaction ZN2t3pp at 0x7f02cee22f90>, <Reaction ZNabcpp at 0x7f02cee34090>, <Reaction Zn2tex at 0x7f02cee34050>, <Reaction ZN2tpp at 0x7f02cee22c10>])\n"
     ]
    }
   ],
   "source": []
  },
  {
   "cell_type": "code",
   "execution_count": null,
   "metadata": {},
   "outputs": [],
   "source": [
    "# Thiazole Biosynthesis I\n",
    "#iscS - b2530\n",
    "#ISC Cysteine desulfuration\n",
    "rxs1 = eco.reactions.ICYSDS\n",
    "#sufS - b1680\n",
    "#SUF Cysteine desulfuration\n",
    "rxs2 = eco.reactions.SCYSDS\n",
    "#thiF - b3992\n",
    "#Thiazole phosphate synthesis\n",
    "rxs3 = eco.reactions.THZPSN3\n",
    "#thiI - b0423\n",
    "#Thiazole phosphate synthesis\n",
    "#thiH - b3990\n",
    "#Thiazole phosphate synthesis\n",
    "#dxs - b0420\n",
    "#1-deoxy-D-xylulose 5-phosphate synthase\n",
    "rxs6 = eco.reactions.DXPS\n",
    "#thiG - b3991\n",
    "#Tyrosine lyase\n",
    "rxs5 = eco.reactions.TYRL\n"
   ]
  },
  {
   "cell_type": "code",
   "execution_count": 11,
   "metadata": {},
   "outputs": [
    {
     "data": {
      "text/html": [
       "\n",
       "        <table>\n",
       "            <tr>\n",
       "                <td><strong>Reaction identifier</strong></td><td>G5SD</td>\n",
       "            </tr><tr>\n",
       "                <td><strong>Name</strong></td><td>glutamate-5-semialdehyde dehydrogenase</td>\n",
       "            </tr><tr>\n",
       "                <td><strong>Memory address</strong></td>\n",
       "                <td>0x07fc3510929d0</td>\n",
       "            </tr><tr>\n",
       "                <td><strong>Stoichiometry</strong></td>\n",
       "                <td>\n",
       "                    <p style='text-align:right'>glu5p_c + h_c + nadph_c --> glu5sa_c + nadp_c + pi_c</p>\n",
       "                    <p style='text-align:right'>L-Glutamate 5-phosphate + H+ + Nicotinamide adenine dinucleotide phosphate - reduced --> L-Glutamate 5-semialdehyde + Nicotinamide adenine dinucleotide phosphate + Phosphate</p>\n",
       "                </td>\n",
       "            </tr><tr>\n",
       "                <td><strong>GPR</strong></td><td>b0243</td>\n",
       "            </tr><tr>\n",
       "                <td><strong>Lower bound</strong></td><td>0.0</td>\n",
       "            </tr><tr>\n",
       "                <td><strong>Upper bound</strong></td><td>1000.0</td>\n",
       "            </tr>\n",
       "        </table>\n",
       "        "
      ],
      "text/plain": [
       "<Reaction G5SD at 0x7fc3510929d0>"
      ]
     },
     "execution_count": 11,
     "metadata": {},
     "output_type": "execute_result"
    }
   ],
   "source": [
    "eco.reactions.G5SD"
   ]
  },
  {
   "cell_type": "code",
   "execution_count": 5,
   "metadata": {},
   "outputs": [],
   "source": [
    "#\n",
    "#                                    Genes\n",
    "#\n",
    "# ThiG (1-deoxy-D-xylulose 5-phosphate:thiol sulfurtransferase)\n",
    "thiG = eco.genes.get_by_id('b3991')\n",
    "# KGPDC (3-keto-L-gulonate-6-phosphate decarboxylase)\n",
    "ulaD = eco.genes.get_by_id('b4196')\n",
    "#FSA1 (fructose-6-phosphate aldolase 1)\n",
    "fsaA = eco.genes.get_by_id('b0825')\n",
    "#pdxA (4-hydroxythreonine-4-phosphate dehydrogenase)\n",
    "pdxA = eco.genes.get_by_id('b0052')\n",
    "#dxs (1-deoxyxylulose-5-phosphate synthase)\n",
    "dxs = eco.genes.get_by_id('b0420')\n",
    "#sucA ()\n",
    "sucA = eco.genes.get_by_id('b0726')\n",
    "#thrB (Homoserine Kinase)\n",
    "thrB = eco.genes.get_by_id('b0003')\n",
    "#argE (acetylornithine transferase)\n",
    "argE = eco.genes.get_by_id('b3957')\n",
    "#purF (Amidophosphoribosyltransferase)\n",
    "purF = eco.genes.get_by_id('b2312')\n",
    "#proA (Glutamate-5-semialdehyde dehydrogenase)\n",
    "proA = eco.genes.get_by_id('b0243')\n",
    "#ulaG (L-ascorbate-6-phosphate lactonase)\n",
    "ulaG = eco.genes.get_by_id('b4192')\n",
    "#ytjC (Putative phosphatase)\n",
    "ytjc = eco.genes.get_by_id('b4395')\n",
    "#hisB (Imidazoleglycerol-phosphate dehydratase / histidinol-phosphatase)\n",
    "hisB = eco.genes.get_by_id('b2022')\n",
    "#gph (Phosphoglycolate phosphatase)\n",
    "gph = eco.genes.get_by_id('b3385')\n",
    "#murF (D-alanyl-D-alanine-adding enzyme)\n",
    "murF = eco.genes.get_by_id('b0086')"
   ]
  },
  {
   "cell_type": "code",
   "execution_count": 17,
   "metadata": {},
   "outputs": [
    {
     "name": "stdout",
     "output_type": "stream",
     "text": [
      "72.04278\n"
     ]
    },
    {
     "data": {
      "text/html": [
       "\n",
       "        <table>\n",
       "            <tr>\n",
       "                <td><strong>Reaction identifier</strong></td><td>TYRL</td>\n",
       "            </tr><tr>\n",
       "                <td><strong>Name</strong></td><td>tyrosine lyase</td>\n",
       "            </tr><tr>\n",
       "                <td><strong>Memory address</strong></td>\n",
       "                <td>0x07f4d2956b650</td>\n",
       "            </tr><tr>\n",
       "                <td><strong>Stoichiometry</strong></td>\n",
       "                <td>\n",
       "                    <p style='text-align:right'>amet_c + nadph_c + tyr__L_c --> 4crsol_c + dad__5_c + dhgly_c + h_c + met__L_c + nadp_c</p>\n",
       "                    <p style='text-align:right'>S-Adenosyl-L-methionine + Nicotinamide adenine dinucleotide phosphate - reduced + L-Tyrosine --> p-Cresol + 5'-Deoxyadenosine + dehydroglycine + H+ + L-Methionine + Nicotinamide adenine dinucleotid...</p>\n",
       "                </td>\n",
       "            </tr><tr>\n",
       "                <td><strong>GPR</strong></td><td>b3991</td>\n",
       "            </tr><tr>\n",
       "                <td><strong>Lower bound</strong></td><td>0.0</td>\n",
       "            </tr><tr>\n",
       "                <td><strong>Upper bound</strong></td><td>1000.0</td>\n",
       "            </tr>\n",
       "        </table>\n",
       "        "
      ],
      "text/plain": [
       "<Reaction TYRL at 0x7f4d2956b650>"
      ]
     },
     "execution_count": 17,
     "metadata": {},
     "output_type": "execute_result"
    }
   ],
   "source": [
    "# ThiG (1-deoxy-D-xylulose 5-phosphate:thiol sulfurtransferase)\n",
    "# El medio es M9-Glucosa sin fuentes de nitrógeno.\n",
    "# Microwells inoculados en 1.2 mL\n",
    "# Tiempo = 96 horas.\n",
    "# Temperatura = 37 °C\n",
    "# NH4Cl 3.04%, IPTG inducer  250 - 3.9 uM gives OD600 0.48 - 0.64.\n",
    "# A las 72 horas (3 días), las colonias tenían 1 mm de diámetro.\n",
    "\n",
    "# Reacción en EcoCyc:\n",
    "# 1-deoxy-D-xylulose 5-phosphate + 2-iminoacetate + a thiocarboxy-[ThiS-Protein] → 2-[(2R,5Z)-2-carboxy-4-methylthiazol-5(2H)-ylidene]ethyl phosphate + a ThiS sulfur-carrier protein + 2 H2O\n",
    "# en EcoCyc, thiG está asignado a esta reacción, pero en iJO1366,\n",
    "# la reacción asignada es tyrosine lyase.\n",
    "# en iJO1366 el ID de la reacción asignada al gen b3991 es TYRL\n",
    "# según EcoCyc, b3991 es thiG\n",
    "#thiG.reactions\n",
    "\n",
    "#thiazole biosyntesis I\n",
    "\n",
    "TYRL = eco.reactions.get_by_id('TYRL')\n",
    "print eco.metabolites.get_by_id('dhgly_c').formula_weight\n",
    "TYRL\n"
   ]
  },
  {
   "cell_type": "code",
   "execution_count": 5,
   "metadata": {},
   "outputs": [
    {
     "name": "stdout",
     "output_type": "stream",
     "text": [
      "frozenset([<Reaction THZPSN3 at 0x7f25e1c69090>])\n"
     ]
    },
    {
     "data": {
      "text/html": [
       "\n",
       "        <table>\n",
       "            <tr>\n",
       "                <td><strong>Reaction identifier</strong></td><td>THZPSN3</td>\n",
       "            </tr><tr>\n",
       "                <td><strong>Name</strong></td><td>thiazole phosphate synthesis</td>\n",
       "            </tr><tr>\n",
       "                <td><strong>Memory address</strong></td>\n",
       "                <td>0x07f25e1c69090</td>\n",
       "            </tr><tr>\n",
       "                <td><strong>Stoichiometry</strong></td>\n",
       "                <td>\n",
       "                    <p style='text-align:right'>atp_c + dhgly_c + dxyl5p_c + h_c + iscssh_c + nadph_c --> 4mpetz_c + amp_c + co2_c + 2.0 h2o_c + iscs_c + nadp_c + ppi_c</p>\n",
       "                    <p style='text-align:right'>ATP + dehydroglycine + 1-deoxy-D-xylulose 5-phosphate + H+ + IscS with bound sulfur + Nicotinamide adenine dinucleotide phosphate - reduced --> 4-Methyl-5-(2-phosphoethyl)-thiazole + AMP + CO2 + 2....</p>\n",
       "                </td>\n",
       "            </tr><tr>\n",
       "                <td><strong>GPR</strong></td><td>b2530 and b3992 and b3990 and b0423 and b4407</td>\n",
       "            </tr><tr>\n",
       "                <td><strong>Lower bound</strong></td><td>0.0</td>\n",
       "            </tr><tr>\n",
       "                <td><strong>Upper bound</strong></td><td>1000.0</td>\n",
       "            </tr>\n",
       "        </table>\n",
       "        "
      ],
      "text/plain": [
       "<Reaction THZPSN3 at 0x7f25e1c69090>"
      ]
     },
     "execution_count": 5,
     "metadata": {},
     "output_type": "execute_result"
    }
   ],
   "source": [
    "#thiH (2-iminoacetate synthase)\n",
    "thiH = eco.genes.get_by_id('b3990')\n",
    "# y la reacción tyrosine lyase está asignada al gen thiH en EcoCyc,\n",
    "# pero en iJO1366 se le asigna thiazole phosphate synthesis\n",
    "print thiH.reactions\n",
    "THZPSN3 = eco.reactions.get_by_id('THZPSN3')\n",
    "THZPSN3\n"
   ]
  },
  {
   "cell_type": "code",
   "execution_count": 5,
   "metadata": {},
   "outputs": [
    {
     "data": {
      "text/html": [
       "\n",
       "        <table>\n",
       "            <tr>\n",
       "                <td><strong>Reaction identifier</strong></td><td>KG6PDC</td>\n",
       "            </tr><tr>\n",
       "                <td><strong>Name</strong></td><td>3-keto-L-gulonate 6-phosphate decarboxylase</td>\n",
       "            </tr><tr>\n",
       "                <td><strong>Memory address</strong></td>\n",
       "                <td>0x07ff4d1bafe90</td>\n",
       "            </tr><tr>\n",
       "                <td><strong>Stoichiometry</strong></td>\n",
       "                <td>\n",
       "                    <p style='text-align:right'>3dhgulnp_c + h_c --> co2_c + xu5p__L_c</p>\n",
       "                    <p style='text-align:right'>3-keto-L-gulonate-6-phosphate + H+ --> CO2 + L-Xylulose 5-phosphate</p>\n",
       "                </td>\n",
       "            </tr><tr>\n",
       "                <td><strong>GPR</strong></td><td>b4196 or b3581</td>\n",
       "            </tr><tr>\n",
       "                <td><strong>Lower bound</strong></td><td>0.0</td>\n",
       "            </tr><tr>\n",
       "                <td><strong>Upper bound</strong></td><td>1000.0</td>\n",
       "            </tr>\n",
       "        </table>\n",
       "        "
      ],
      "text/plain": [
       "<Reaction KG6PDC at 0x7ff4d1bafe90>"
      ]
     },
     "execution_count": 5,
     "metadata": {},
     "output_type": "execute_result"
    }
   ],
   "source": [
    "# KGPDC (3-keto-L-gulonate-6-phosphate decarboxylase)\n",
    "ulaD.reactions\n",
    "kgpdc = eco.reactions.get_by_id('KG6PDC')\n",
    "kgpdc\n",
    "\n",
    "#rib5pho = eco.metabolites.get_by_id('ru5p__D_c')\n",
    "\n",
    "# hexulose is not in E. coli\n",
    "#for i in [x for x in eco.metabolites if x.formula == 'C6H12O6']: print i.name, i.id, i.formula\n"
   ]
  },
  {
   "cell_type": "code",
   "execution_count": 19,
   "metadata": {},
   "outputs": [
    {
     "name": "stdout",
     "output_type": "stream",
     "text": [
      "atp_c + xylu__D_c --> adp_c + h_c + xu5p__D_c\n",
      "atp_c + dxyl_c --> adp_c + dxyl5p_c + h_c\n"
     ]
    }
   ],
   "source": [
    "print eco.reactions.XYLK.reaction\n",
    "print eco.reactions.DXYLK.reaction\n"
   ]
  },
  {
   "cell_type": "code",
   "execution_count": 15,
   "metadata": {},
   "outputs": [
    {
     "data": {
      "text/plain": [
       "'acetol_c + gcald_c --> dxyl_c'"
      ]
     },
     "execution_count": 15,
     "metadata": {},
     "output_type": "execute_result"
    }
   ],
   "source": [
    "#FSA1 (fructose-6-phosphate aldolase 1)\n",
    "Glycolaldehyde = eco.metabolites.get_by_id('gcald_c')\n",
    "Hydroxyacetone = eco.metabolites.get_by_id('acetol_c')\n",
    "Deoxyxylulose = eco.metabolites.get_by_id('dxyl_c')\n",
    "\n",
    "#promiscuous DXS reaction\n",
    "DXS = Reaction('DXS_prom')\n",
    "DXS.name = '1-deoxy-D-xylulose synthase'\n",
    "DXS.add_metabolites({\n",
    "    Glycolaldehyde: -1.0,\n",
    "    Hydroxyacetone: -1.0,\n",
    "    Deoxyxylulose: 1.0\n",
    "})\n",
    "DXS.gene_reaction_rule = 'b0825'\n",
    "DXS.reaction\n"
   ]
  },
  {
   "cell_type": "code",
   "execution_count": 21,
   "metadata": {},
   "outputs": [
    {
     "name": "stdout",
     "output_type": "stream",
     "text": [
      "<Solution 0.982 at 0x7f8151de3cd0>\n",
      "<Solution -0.000 at 0x7f8151de3d10>\n"
     ]
    }
   ],
   "source": [
    "with eco:\n",
    "    print eco.optimize()\n",
    "    eco.genes.b1415.knock_out()\n",
    "    print eco.optimize()"
   ]
  },
  {
   "cell_type": "code",
   "execution_count": null,
   "metadata": {},
   "outputs": [],
   "source": [
    "#pdxA (4-hydroxythreonine-4-phosphate dehydrogenase)\n",
    "\n",
    "    "
   ]
  },
  {
   "cell_type": "code",
   "execution_count": 17,
   "metadata": {},
   "outputs": [
    {
     "data": {
      "text/plain": [
       "{}"
      ]
     },
     "execution_count": 17,
     "metadata": {},
     "output_type": "execute_result"
    }
   ],
   "source": [
    "#dxs (1-deoxyxylulose-5-phosphate synthase)\n",
    "Phosphohydroxypyruvate = eco.metabolites.get_by_id('3php_c')\n",
    "Hydroxypyruvate = eco.metabolites.get_by_id('hpyr_c')\n",
    "Phosphate = eco.metabolites.get_by_id('pi_c')\n",
    "Water = eco.metabolites.get_by_id('h2o_c')\n",
    "\n",
    "#Promiscuous 3-phosphohydroxypyruvate decarboxylation\n",
    "PHDPC = Reaction('PHDPC_prom')\n",
    "PHDPC.name = '3-Phosphohydroxypyruvate decarboxylation'\n",
    "PHDPC.add_metabolites({\n",
    "    Phosphohydroxypyruvate: -1.0,\n",
    "    Water: -1.0,\n",
    "    Hydroxypyruvate: 1.0,\n",
    "    Phosphate: 1.0\n",
    "})\n",
    "PHDPC.gene_reaction_rule = ' ( b0420 or b0726 ) '"
   ]
  },
  {
   "cell_type": "code",
   "execution_count": null,
   "metadata": {},
   "outputs": [],
   "source": [
    "#sucA ()\n",
    "\n"
   ]
  },
  {
   "cell_type": "code",
   "execution_count": 23,
   "metadata": {},
   "outputs": [],
   "source": [
    "#thrB (Homoserine Kinase)\n",
    "Hydroxythreonine = eco.metabolites.get_by_id('4hthr_c')\n",
    "ATP = eco.metabolites.get_by_id('atp_c')\n",
    "ADP = eco.metabolites.get_by_id('adp_c')\n",
    "Phosphooxythreonine = eco.metabolites.get_by_id('phthr_c')\n",
    "Hydrogen = eco.metabolites.get_by_id('h_c')\n",
    "\n",
    "#promiscuous 4-hydroxy-L-threonine phosphorylation\n",
    "HTHRP = Reaction('HTHRP_prom')\n",
    "HTHRP.name = '4-hydroxy-L-threonine phosphorylation'\n",
    "HTHRP.add_metabolites({\n",
    "    Hydroxythreonine: -1.0,\n",
    "    ATP: -1.0,\n",
    "    Phosphooxythreonine: 1.0,\n",
    "    ADP: 1.0,\n",
    "    Hydrogen: 1.0\n",
    "})\n",
    "HTHRP.check_mass_balance()\n",
    "HTHRP.gene_reaction_rule = 'b0003'\n"
   ]
  },
  {
   "cell_type": "code",
   "execution_count": null,
   "metadata": {},
   "outputs": [],
   "source": [
    "#argE (acetylornithine transferase)\n",
    "\n",
    "N-acetylornithine = eco.metabolites.get_by_id('acg5sa_c')\n"
   ]
  },
  {
   "cell_type": "code",
   "execution_count": null,
   "metadata": {},
   "outputs": [],
   "source": [
    "#purF"
   ]
  },
  {
   "cell_type": "code",
   "execution_count": null,
   "metadata": {},
   "outputs": [],
   "source": [
    "#proA"
   ]
  },
  {
   "cell_type": "code",
   "execution_count": 26,
   "metadata": {},
   "outputs": [
    {
     "name": "stdout",
     "output_type": "stream",
     "text": [
      "bli bli bli\n"
     ]
    }
   ],
   "source": [
    "#ulaG\n",
    "# hay que representar CMP cíclico romper enlaace fosfodiester\n",
    "try:\n",
    "    eco.metabolites.get_by_id('cmp_c')\n",
    "except:\n",
    "    print \"bli bli bli\""
   ]
  },
  {
   "cell_type": "code",
   "execution_count": 28,
   "metadata": {},
   "outputs": [
    {
     "data": {
      "text/html": [
       "\n",
       "        <table>\n",
       "            <tr>\n",
       "                <td><strong>Reaction identifier</strong></td><td>PGM</td>\n",
       "            </tr><tr>\n",
       "                <td><strong>Name</strong></td><td>phosphoglycerate mutase</td>\n",
       "            </tr><tr>\n",
       "                <td><strong>Memory address</strong></td>\n",
       "                <td>0x07faa187f5c10</td>\n",
       "            </tr><tr>\n",
       "                <td><strong>Stoichiometry</strong></td>\n",
       "                <td>\n",
       "                    <p style='text-align:right'>2pg_c <=> 3pg_c</p>\n",
       "                    <p style='text-align:right'>D-Glycerate 2-phosphate <=> 3-Phospho-D-glycerate</p>\n",
       "                </td>\n",
       "            </tr><tr>\n",
       "                <td><strong>GPR</strong></td><td>b3612 or b4395 or b0755</td>\n",
       "            </tr><tr>\n",
       "                <td><strong>Lower bound</strong></td><td>-1000.0</td>\n",
       "            </tr><tr>\n",
       "                <td><strong>Upper bound</strong></td><td>1000.0</td>\n",
       "            </tr>\n",
       "        </table>\n",
       "        "
      ],
      "text/plain": [
       "<Reaction PGM at 0x7faa187f5c10>"
      ]
     },
     "execution_count": 28,
     "metadata": {},
     "output_type": "execute_result"
    }
   ],
   "source": [
    "eco.reactions.get_by_id('PGM')\n"
   ]
  },
  {
   "cell_type": "code",
   "execution_count": 29,
   "metadata": {},
   "outputs": [
    {
     "data": {
      "text/html": [
       "\n",
       "        <table>\n",
       "            <tr>\n",
       "                <td><strong>Gene identifier</strong></td><td>b4388</td>\n",
       "            </tr><tr>\n",
       "                <td><strong>Name</strong></td><td>b4388</td>\n",
       "            </tr><tr>\n",
       "                <td><strong>Memory address</strong></td>\n",
       "                <td>0x07faa18f3ad10</td>\n",
       "            </tr><tr>\n",
       "                <td><strong>Functional</strong></td><td>True</td>\n",
       "            </tr><tr>\n",
       "                <td><strong>In 1 reaction(s)</strong></td><td>\n",
       "                    PSP_L</td>\n",
       "            </tr>\n",
       "        </table>"
      ],
      "text/plain": [
       "<Gene b4388 at 0x7faa18f3ad10>"
      ]
     },
     "execution_count": 29,
     "metadata": {},
     "output_type": "execute_result"
    }
   ],
   "source": [
    "eco.genes.get_by_id('b4388')"
   ]
  },
  {
   "cell_type": "code",
   "execution_count": 35,
   "metadata": {},
   "outputs": [
    {
     "data": {
      "text/html": [
       "\n",
       "        <table>\n",
       "            <tr>\n",
       "                <td><strong>Reaction identifier</strong></td><td>PSP_L</td>\n",
       "            </tr><tr>\n",
       "                <td><strong>Name</strong></td><td>phosphoserine phosphatase (L-serine)</td>\n",
       "            </tr><tr>\n",
       "                <td><strong>Memory address</strong></td>\n",
       "                <td>0x07faa18771e90</td>\n",
       "            </tr><tr>\n",
       "                <td><strong>Stoichiometry</strong></td>\n",
       "                <td>\n",
       "                    <p style='text-align:right'>h2o_c + pser__L_c --> pi_c + ser__L_c</p>\n",
       "                    <p style='text-align:right'>H2O + O-Phospho-L-serine --> Phosphate + L-Serine</p>\n",
       "                </td>\n",
       "            </tr><tr>\n",
       "                <td><strong>GPR</strong></td><td>b4388</td>\n",
       "            </tr><tr>\n",
       "                <td><strong>Lower bound</strong></td><td>0.0</td>\n",
       "            </tr><tr>\n",
       "                <td><strong>Upper bound</strong></td><td>1000.0</td>\n",
       "            </tr>\n",
       "        </table>\n",
       "        "
      ],
      "text/plain": [
       "<Reaction PSP_L at 0x7faa18771e90>"
      ]
     },
     "execution_count": 35,
     "metadata": {},
     "output_type": "execute_result"
    }
   ],
   "source": [
    "eco.reactions.get_by_id('PSP_L')"
   ]
  },
  {
   "cell_type": "code",
   "execution_count": null,
   "metadata": {},
   "outputs": [],
   "source": []
  }
 ],
 "metadata": {
  "kernelspec": {
   "display_name": "Python 2",
   "language": "python",
   "name": "python2"
  },
  "language_info": {
   "codemirror_mode": {
    "name": "ipython",
    "version": 2
   },
   "file_extension": ".py",
   "mimetype": "text/x-python",
   "name": "python",
   "nbconvert_exporter": "python",
   "pygments_lexer": "ipython2",
   "version": "2.7.12"
  }
 },
 "nbformat": 4,
 "nbformat_minor": 2
}
