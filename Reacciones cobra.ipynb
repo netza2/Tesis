{
 "cells": [
  {
   "cell_type": "code",
   "execution_count": 1,
   "metadata": {},
   "outputs": [],
   "source": [
    "import cobra, cobra.test\n",
    "from cobra import Reaction, Metabolite, Model\n",
    "# Declare iJO1366\n",
    "eco = cobra.test.create_test_model('ecoli')"
   ]
  },
  {
   "cell_type": "code",
   "execution_count": 28,
   "metadata": {},
   "outputs": [],
   "source": [
    "eco = cobra.test.create_test_model('ecoli')"
   ]
  },
  {
   "cell_type": "code",
   "execution_count": 10,
   "metadata": {},
   "outputs": [
    {
     "name": "stdout",
     "output_type": "stream",
     "text": [
      "324 25\n"
     ]
    }
   ],
   "source": [
    "#for rxs in [x for x in eco.reactions if 'EX_' in x.id]: print rxs.id, '\\t',rxs.reaction, '\\t', rxs.name,'\\t', eco.metabolites.get_by_id(str(rxs.reactants[0])).id\n",
    "\n",
    "print len([x for x in eco.reactions if 'EX_' in x.id and float(x.upper_bound) > 0 ]), len(eco.medium)\n"
   ]
  },
  {
   "cell_type": "code",
   "execution_count": 8,
   "metadata": {},
   "outputs": [],
   "source": [
    "#M9 Minimum\n",
    "# Biotin btn_e\n",
    "# Thiamin thm_e\n",
    "#Salt solutions:\n",
    "# Na2HPO4 \n",
    "# KH2PO4\n",
    "# NaCl\n",
    "# NH4Cl\n",
    "# MgSO4\n",
    "# CaCl2\n",
    "# -------------------\n",
    "# Grows after adding:\n",
    "# -------------------\n",
    "# - Methanol 'meoh_e'\n",
    "# - Molybdate 'mobd_e'\n",
    "# - Nickel 'ni2_e'\n",
    "# -------------------\n",
    "# Found after growth:\n",
    "# -------------------\n",
    "# - Cadmium 'cd2_e'\n",
    "# - Mercury 'hg2_e'\n",
    "# - Tungstate 'tungs_e'\n",
    "# - Superoxide anion 'o2s_e'\n",
    "\n",
    "\n",
    "\n",
    "Miminum = ['pi_e', 'ni2_e', 'mobd_e', 'meoh_e', 'hg_e', 'ag_e', 'zn2_e', 'btn_e', 'thm_e', 'so4_e', 'ca2_e', 'cl_e',  \\\n",
    "           'mg2_e', 'k_e', 'na1_e', 'nh4_e', 'h2o_e', 'h2_e', 'h_e', 'cu_e', 'cu2_e', 'co2_e', 'cobalt2_e', 'fe3_e',  \\\n",
    "           'fe2_e', 'mn2_e', 'glc__D_e', 'o2_e', 'cd2_e', 'hg2_e', 'tungs_e', 'o2s_e']\n",
    "\n",
    "Minimum_after_checking = ['pi_e', 'ni2_e', 'mobd_e', 'meoh_e', 'hg_e', 'zn2_e', 'so4_e', 'ca2_e', 'cl_e',   \\\n",
    "           'mg2_e', 'k_e', 'nh4_e', 'h2o_e', 'cu2_e', 'co2_e', 'cobalt2_e', 'fe3_e',   \\\n",
    "           'mn2_e', 'glc__D_e', 'o2_e']\n",
    "\n",
    "rest_after_checking = ['ag_e', 'btn_e', 'thm_e', \\\n",
    "           'na1_e', 'h2_e', 'h_e', 'cu_e',       \\\n",
    "           'fe2_e',  'cd2_e', 'hg2_e', 'tungs_e', 'o2s_e']\n",
    "\n",
    "Minimum_after_checking2 = ['pi_e', 'ni2_e', 'mobd_e', 'meoh_e', 'hg_e', 'zn2_e', 'so4_e', 'ca2_e', 'cl_e',   \\\n",
    "           'mg2_e', 'k_e', 'nh4_e', 'h2o_e', 'cu2_e', 'co2_e', 'cobalt2_e', 'fe3_e',   \\\n",
    "           'mn2_e', 'glc__D_e', 'o2_e', 'h_e', 'fe2_e']"
   ]
  },
  {
   "cell_type": "code",
   "execution_count": 15,
   "metadata": {},
   "outputs": [
    {
     "name": "stdout",
     "output_type": "stream",
     "text": [
      "0.982371812727\n",
      "Resultado:  0.982371812727\n",
      "EX_ni2_e\n",
      "EX_h_e\n",
      "EX_mobd_e\n",
      "EX_o2_e\n",
      "EX_cobalt2_e\n",
      "EX_mg2_e\n",
      "EX_so4_e\n",
      "EX_glc_e\n",
      "EX_pi_e\n",
      "EX_co2_e\n",
      "EX_ca2_e\n",
      "EX_k_e\n",
      "EX_cu2_e\n",
      "EX_zn2_e\n",
      "EX_cl_e\n",
      "EX_fe3_e\n",
      "EX_h2o_e\n",
      "EX_nh4_e\n",
      "EX_fe2_e\n",
      "EX_mn2_e\n"
     ]
    }
   ],
   "source": [
    "#Exchange reactions:\n",
    "with eco:\n",
    "    print eco.optimize().objective_value\n",
    "    for rxs in [x for x in eco.reactions if 'EX_' in x.id]:\n",
    "        if str(rxs.reactants[0]) not in Minimum_after_checking2:\n",
    "            #print eco.metabolites.get_by_id(str(rxs.reactants[0])).id, eco.metabolites.get_by_id(str(rxs.reactants[0])).formula, rxs.name ,rxs.lower_bound, rxs.upper_bound\n",
    "            eco.reactions.get_by_id(str(rxs.id)).upper_bound = 0\n",
    "            eco.reactions.get_by_id(str(rxs.id)).lower_bound = 0\n",
    "            #sol = eco.optimize()\n",
    "            #print sol.objective_value, '\\t', eco.metabolites.get_by_id(str(rxs.reactants[0])).formula, '\\t', eco.metabolites.get_by_id(str(rxs.reactants[0])).name, '\\t', rxs.upper_bound, '\\t', rxs.lower_bound\n",
    "\n",
    "#        else: print eco.metabolites.get_by_id(str(rxs.reactants[0])).formula, '\\t', eco.metabolites.get_by_id(str(rxs.reactants[0])).name, '\\t', rxs.upper_bound, '\\t', rxs.lower_bound\n",
    "        \n",
    " #   for rxs1 in [x for x in eco.reactions if 'EX_' in x.id and str(x.reactants[0]) in rest_after_checking]: \n",
    "  #      with eco:\n",
    "      #      print \"with: \", rxs1.name\n",
    "     #       for rxs in [x for x in eco.reactions if 'EX_' in x.id and str(x.reactants[0]) in rest_after_checking]: \n",
    "    #            if rxs1.id != rxs.id:\n",
    "   #                 eco.reactions.get_by_id(str(rxs.id)).upper_bound = 0\n",
    "  #                  eco.reactions.get_by_id(str(rxs.id)).lower_bound = 0\n",
    "                #else: print \"do nothing\", rxs.name\n",
    " #           sol = eco.optimize()\n",
    "#            print sol.objective_value, '\\t', eco.metabolites.get_by_id(str(rxs1.reactants[0])).formula, '\\t', eco.metabolites.get_by_id(str(rxs1.reactants[0])).name, '\\t', rxs1.upper_bound, '\\t', rxs1.lower_bound\n",
    "                \n",
    "        \n",
    "    print \"Resultado: \", eco.optimize().objective_value\n",
    "    for k,v in eco.medium.iteritems(): print k"
   ]
  },
  {
   "cell_type": "code",
   "execution_count": 33,
   "metadata": {},
   "outputs": [
    {
     "name": "stdout",
     "output_type": "stream",
     "text": [
      "ca2_e \t9 \t0.982371812727 \t2.12852354367e-16 \tCalcium exchange\n",
      "cl_e \t7 \t0.982371812727 \t0.0 \tChloride exchange\n",
      "co2_e \t87 \t0.982371812727 \t0.698071107854 \tCO2 exchange\n",
      "cobalt2_e \t11 \t0.982371812727 \t0.0 \tCo2+ exchange\n",
      "cu2_e \t15 \t0.982371812727 \t0.0 \tCu2+ exchange\n",
      "fe3_e \t20 \t0.982371812727 \t0.982371812727 \tFe3+ exchange\n",
      "glc__D_e \t31 \t0.982371812727 \t-0.0239410614238 \tD-Glucose exchange\n",
      "h2o_e \t746 \t0.982371812727 \t0.496865390874 \tH2O exchange\n",
      "k_e \t11 \t0.982371812727 \t0.0 \tK+ exchange\n",
      "meoh_e \t6 \t0.982371812727 \t0.0 \tmethanol exchange\n",
      "mg2_e \t11 \t0.982371812727 \t0.0 \tMg exchange\n",
      "mn2_e \t11 \t0.982371812727 \t0.0 \tMn2+ exchange\n",
      "mobd_e \t8 \t0.982371812727 \t0.0 \tMolybdate exchange\n",
      "nh4_e \t62 \t0.982371812727 \t1.06885472227e-14 \tAmmonia exchange\n",
      "ni2_e \t13 \t0.982371812727 \t-3.26930419404e-16 \tNi2+ exchange\n",
      "o2_e \t49 \t0.982371812727 \t0.241501557097 \tO2 exchange\n",
      "pi_e \t362 \t0.982371812727 \t1.17970353455e-14 \tPhosphate exchange\n",
      "so4_e \t11 \t0.982371812727 \t-1.15093027761e-16 \tSulfate exchange\n",
      "zn2_e \t13 \t0.982371812727 \t0.0 \tZinc exchange\n"
     ]
    }
   ],
   "source": [
    "# delete exchange reactions and check in how many other reactions the metabolite is involved\n",
    "\n",
    "for rxs in [x for x in eco.reactions if 'EX_' in x.id and str(x.reactants[0]) in Minimum_after_checking]:\n",
    "    with eco:\n",
    "        sol_b = eco.optimize().objective_value\n",
    "        eco.reactions.get_by_id(rxs.id).upper_bound = 0\n",
    "        eco.reactions.get_by_id(rxs.id).lower_bound = 0\n",
    "        c = 0\n",
    "        for n in [x for x in eco.metabolites if str(rxs.reactants[0])[:-1] == str(x.id)[:-1]]:\n",
    "            #print n.reactions\n",
    "            c+=len(n.reactions)\n",
    "        print rxs.reactants[0], '\\t', c, '\\t', sol_b ,'\\t' ,eco.optimize().objective_value, '\\t', rxs.name"
   ]
  },
  {
   "cell_type": "code",
   "execution_count": null,
   "metadata": {},
   "outputs": [],
   "source": []
  },
  {
   "cell_type": "code",
   "execution_count": null,
   "metadata": {},
   "outputs": [],
   "source": [
    "# Thiazole Biosynthesis I\n",
    "#iscS - b2530\n",
    "#ISC Cysteine desulfuration\n",
    "rxs1 = eco.reactions.ICYSDS\n",
    "#sufS - b1680\n",
    "#SUF Cysteine desulfuration\n",
    "rxs2 = eco.reactions.SCYSDS\n",
    "#thiF - b3992\n",
    "#Thiazole phosphate synthesis\n",
    "rxs3 = eco.reactions.THZPSN3\n",
    "#thiI - b0423\n",
    "#Thiazole phosphate synthesis\n",
    "#thiH - b3990\n",
    "#Thiazole phosphate synthesis\n",
    "#dxs - b0420\n",
    "#1-deoxy-D-xylulose 5-phosphate synthase\n",
    "rxs6 = eco.reactions.DXPS\n",
    "#thiG - b3991\n",
    "#Tyrosine lyase\n",
    "rxs5 = eco.reactions.TYRL\n"
   ]
  },
  {
   "cell_type": "code",
   "execution_count": 11,
   "metadata": {},
   "outputs": [
    {
     "data": {
      "text/html": [
       "\n",
       "        <table>\n",
       "            <tr>\n",
       "                <td><strong>Reaction identifier</strong></td><td>G5SD</td>\n",
       "            </tr><tr>\n",
       "                <td><strong>Name</strong></td><td>glutamate-5-semialdehyde dehydrogenase</td>\n",
       "            </tr><tr>\n",
       "                <td><strong>Memory address</strong></td>\n",
       "                <td>0x07fc3510929d0</td>\n",
       "            </tr><tr>\n",
       "                <td><strong>Stoichiometry</strong></td>\n",
       "                <td>\n",
       "                    <p style='text-align:right'>glu5p_c + h_c + nadph_c --> glu5sa_c + nadp_c + pi_c</p>\n",
       "                    <p style='text-align:right'>L-Glutamate 5-phosphate + H+ + Nicotinamide adenine dinucleotide phosphate - reduced --> L-Glutamate 5-semialdehyde + Nicotinamide adenine dinucleotide phosphate + Phosphate</p>\n",
       "                </td>\n",
       "            </tr><tr>\n",
       "                <td><strong>GPR</strong></td><td>b0243</td>\n",
       "            </tr><tr>\n",
       "                <td><strong>Lower bound</strong></td><td>0.0</td>\n",
       "            </tr><tr>\n",
       "                <td><strong>Upper bound</strong></td><td>1000.0</td>\n",
       "            </tr>\n",
       "        </table>\n",
       "        "
      ],
      "text/plain": [
       "<Reaction G5SD at 0x7fc3510929d0>"
      ]
     },
     "execution_count": 11,
     "metadata": {},
     "output_type": "execute_result"
    }
   ],
   "source": [
    "eco.reactions.G5SD"
   ]
  },
  {
   "cell_type": "code",
   "execution_count": 5,
   "metadata": {},
   "outputs": [],
   "source": [
    "#\n",
    "#                                    Genes\n",
    "#\n",
    "# ThiG (1-deoxy-D-xylulose 5-phosphate:thiol sulfurtransferase)\n",
    "thiG = eco.genes.get_by_id('b3991')\n",
    "# KGPDC (3-keto-L-gulonate-6-phosphate decarboxylase)\n",
    "ulaD = eco.genes.get_by_id('b4196')\n",
    "#FSA1 (fructose-6-phosphate aldolase 1)\n",
    "fsaA = eco.genes.get_by_id('b0825')\n",
    "#pdxA (4-hydroxythreonine-4-phosphate dehydrogenase)\n",
    "pdxA = eco.genes.get_by_id('b0052')\n",
    "#dxs (1-deoxyxylulose-5-phosphate synthase)\n",
    "dxs = eco.genes.get_by_id('b0420')\n",
    "#sucA ()\n",
    "sucA = eco.genes.get_by_id('b0726')\n",
    "#thrB (Homoserine Kinase)\n",
    "thrB = eco.genes.get_by_id('b0003')\n",
    "#argE (acetylornithine transferase)\n",
    "argE = eco.genes.get_by_id('b3957')\n",
    "#purF (Amidophosphoribosyltransferase)\n",
    "purF = eco.genes.get_by_id('b2312')\n",
    "#proA (Glutamate-5-semialdehyde dehydrogenase)\n",
    "proA = eco.genes.get_by_id('b0243')\n",
    "#ulaG (L-ascorbate-6-phosphate lactonase)\n",
    "ulaG = eco.genes.get_by_id('b4192')\n",
    "#ytjC (Putative phosphatase)\n",
    "ytjc = eco.genes.get_by_id('b4395')\n",
    "#hisB (Imidazoleglycerol-phosphate dehydratase / histidinol-phosphatase)\n",
    "hisB = eco.genes.get_by_id('b2022')\n",
    "#gph (Phosphoglycolate phosphatase)\n",
    "gph = eco.genes.get_by_id('b3385')\n",
    "#murF (D-alanyl-D-alanine-adding enzyme)\n",
    "murF = eco.genes.get_by_id('b0086')"
   ]
  },
  {
   "cell_type": "code",
   "execution_count": 17,
   "metadata": {},
   "outputs": [
    {
     "name": "stdout",
     "output_type": "stream",
     "text": [
      "72.04278\n"
     ]
    },
    {
     "data": {
      "text/html": [
       "\n",
       "        <table>\n",
       "            <tr>\n",
       "                <td><strong>Reaction identifier</strong></td><td>TYRL</td>\n",
       "            </tr><tr>\n",
       "                <td><strong>Name</strong></td><td>tyrosine lyase</td>\n",
       "            </tr><tr>\n",
       "                <td><strong>Memory address</strong></td>\n",
       "                <td>0x07f4d2956b650</td>\n",
       "            </tr><tr>\n",
       "                <td><strong>Stoichiometry</strong></td>\n",
       "                <td>\n",
       "                    <p style='text-align:right'>amet_c + nadph_c + tyr__L_c --> 4crsol_c + dad__5_c + dhgly_c + h_c + met__L_c + nadp_c</p>\n",
       "                    <p style='text-align:right'>S-Adenosyl-L-methionine + Nicotinamide adenine dinucleotide phosphate - reduced + L-Tyrosine --> p-Cresol + 5'-Deoxyadenosine + dehydroglycine + H+ + L-Methionine + Nicotinamide adenine dinucleotid...</p>\n",
       "                </td>\n",
       "            </tr><tr>\n",
       "                <td><strong>GPR</strong></td><td>b3991</td>\n",
       "            </tr><tr>\n",
       "                <td><strong>Lower bound</strong></td><td>0.0</td>\n",
       "            </tr><tr>\n",
       "                <td><strong>Upper bound</strong></td><td>1000.0</td>\n",
       "            </tr>\n",
       "        </table>\n",
       "        "
      ],
      "text/plain": [
       "<Reaction TYRL at 0x7f4d2956b650>"
      ]
     },
     "execution_count": 17,
     "metadata": {},
     "output_type": "execute_result"
    }
   ],
   "source": [
    "# ThiG (1-deoxy-D-xylulose 5-phosphate:thiol sulfurtransferase)\n",
    "# El medio es M9-Glucosa sin fuentes de nitrógeno.\n",
    "# Microwells inoculados en 1.2 mL\n",
    "# Tiempo = 96 horas.\n",
    "# Temperatura = 37 °C\n",
    "# NH4Cl 3.04%, IPTG inducer  250 - 3.9 uM gives OD600 0.48 - 0.64.\n",
    "# A las 72 horas (3 días), las colonias tenían 1 mm de diámetro.\n",
    "\n",
    "# Reacción en EcoCyc:\n",
    "# 1-deoxy-D-xylulose 5-phosphate + 2-iminoacetate + a thiocarboxy-[ThiS-Protein] → 2-[(2R,5Z)-2-carboxy-4-methylthiazol-5(2H)-ylidene]ethyl phosphate + a ThiS sulfur-carrier protein + 2 H2O\n",
    "# en EcoCyc, thiG está asignado a esta reacción, pero en iJO1366,\n",
    "# la reacción asignada es tyrosine lyase.\n",
    "# en iJO1366 el ID de la reacción asignada al gen b3991 es TYRL\n",
    "# según EcoCyc, b3991 es thiG\n",
    "#thiG.reactions\n",
    "\n",
    "#thiazole biosyntesis I\n",
    "\n",
    "TYRL = eco.reactions.get_by_id('TYRL')\n",
    "print eco.metabolites.get_by_id('dhgly_c').formula_weight\n",
    "TYRL\n"
   ]
  },
  {
   "cell_type": "code",
   "execution_count": 5,
   "metadata": {},
   "outputs": [
    {
     "name": "stdout",
     "output_type": "stream",
     "text": [
      "frozenset([<Reaction THZPSN3 at 0x7f25e1c69090>])\n"
     ]
    },
    {
     "data": {
      "text/html": [
       "\n",
       "        <table>\n",
       "            <tr>\n",
       "                <td><strong>Reaction identifier</strong></td><td>THZPSN3</td>\n",
       "            </tr><tr>\n",
       "                <td><strong>Name</strong></td><td>thiazole phosphate synthesis</td>\n",
       "            </tr><tr>\n",
       "                <td><strong>Memory address</strong></td>\n",
       "                <td>0x07f25e1c69090</td>\n",
       "            </tr><tr>\n",
       "                <td><strong>Stoichiometry</strong></td>\n",
       "                <td>\n",
       "                    <p style='text-align:right'>atp_c + dhgly_c + dxyl5p_c + h_c + iscssh_c + nadph_c --> 4mpetz_c + amp_c + co2_c + 2.0 h2o_c + iscs_c + nadp_c + ppi_c</p>\n",
       "                    <p style='text-align:right'>ATP + dehydroglycine + 1-deoxy-D-xylulose 5-phosphate + H+ + IscS with bound sulfur + Nicotinamide adenine dinucleotide phosphate - reduced --> 4-Methyl-5-(2-phosphoethyl)-thiazole + AMP + CO2 + 2....</p>\n",
       "                </td>\n",
       "            </tr><tr>\n",
       "                <td><strong>GPR</strong></td><td>b2530 and b3992 and b3990 and b0423 and b4407</td>\n",
       "            </tr><tr>\n",
       "                <td><strong>Lower bound</strong></td><td>0.0</td>\n",
       "            </tr><tr>\n",
       "                <td><strong>Upper bound</strong></td><td>1000.0</td>\n",
       "            </tr>\n",
       "        </table>\n",
       "        "
      ],
      "text/plain": [
       "<Reaction THZPSN3 at 0x7f25e1c69090>"
      ]
     },
     "execution_count": 5,
     "metadata": {},
     "output_type": "execute_result"
    }
   ],
   "source": [
    "#thiH (2-iminoacetate synthase)\n",
    "thiH = eco.genes.get_by_id('b3990')\n",
    "# y la reacción tyrosine lyase está asignada al gen thiH en EcoCyc,\n",
    "# pero en iJO1366 se le asigna thiazole phosphate synthesis\n",
    "print thiH.reactions\n",
    "THZPSN3 = eco.reactions.get_by_id('THZPSN3')\n",
    "THZPSN3\n"
   ]
  },
  {
   "cell_type": "code",
   "execution_count": 5,
   "metadata": {},
   "outputs": [
    {
     "data": {
      "text/html": [
       "\n",
       "        <table>\n",
       "            <tr>\n",
       "                <td><strong>Reaction identifier</strong></td><td>KG6PDC</td>\n",
       "            </tr><tr>\n",
       "                <td><strong>Name</strong></td><td>3-keto-L-gulonate 6-phosphate decarboxylase</td>\n",
       "            </tr><tr>\n",
       "                <td><strong>Memory address</strong></td>\n",
       "                <td>0x07ff4d1bafe90</td>\n",
       "            </tr><tr>\n",
       "                <td><strong>Stoichiometry</strong></td>\n",
       "                <td>\n",
       "                    <p style='text-align:right'>3dhgulnp_c + h_c --> co2_c + xu5p__L_c</p>\n",
       "                    <p style='text-align:right'>3-keto-L-gulonate-6-phosphate + H+ --> CO2 + L-Xylulose 5-phosphate</p>\n",
       "                </td>\n",
       "            </tr><tr>\n",
       "                <td><strong>GPR</strong></td><td>b4196 or b3581</td>\n",
       "            </tr><tr>\n",
       "                <td><strong>Lower bound</strong></td><td>0.0</td>\n",
       "            </tr><tr>\n",
       "                <td><strong>Upper bound</strong></td><td>1000.0</td>\n",
       "            </tr>\n",
       "        </table>\n",
       "        "
      ],
      "text/plain": [
       "<Reaction KG6PDC at 0x7ff4d1bafe90>"
      ]
     },
     "execution_count": 5,
     "metadata": {},
     "output_type": "execute_result"
    }
   ],
   "source": [
    "# KGPDC (3-keto-L-gulonate-6-phosphate decarboxylase)\n",
    "ulaD.reactions\n",
    "kgpdc = eco.reactions.get_by_id('KG6PDC')\n",
    "kgpdc\n",
    "\n",
    "#rib5pho = eco.metabolites.get_by_id('ru5p__D_c')\n",
    "\n",
    "# hexulose is not in E. coli\n",
    "#for i in [x for x in eco.metabolites if x.formula == 'C6H12O6']: print i.name, i.id, i.formula\n"
   ]
  },
  {
   "cell_type": "code",
   "execution_count": 19,
   "metadata": {},
   "outputs": [
    {
     "name": "stdout",
     "output_type": "stream",
     "text": [
      "atp_c + xylu__D_c --> adp_c + h_c + xu5p__D_c\n",
      "atp_c + dxyl_c --> adp_c + dxyl5p_c + h_c\n"
     ]
    }
   ],
   "source": [
    "print eco.reactions.XYLK.reaction\n",
    "print eco.reactions.DXYLK.reaction\n"
   ]
  },
  {
   "cell_type": "code",
   "execution_count": 29,
   "metadata": {},
   "outputs": [
    {
     "name": "stdout",
     "output_type": "stream",
     "text": [
      "<Solution 0.982 at 0x7fed87e63710>\n",
      "<Solution -0.000 at 0x7fed87e635d0>\n",
      "<Solution 0.000 at 0x7fed87e63890>\n"
     ]
    }
   ],
   "source": [
    "#FSA1 (fructose-6-phosphate aldolase 1)\n",
    "\n",
    "Glycolaldehyde = eco.metabolites.get_by_id('gcald_c')\n",
    "Hydroxyacetone = eco.metabolites.get_by_id('acetol_c')\n",
    "Deoxyxylulose = eco.metabolites.get_by_id('dxyl_c')\n",
    "\n",
    "#promiscuous DXS reaction\n",
    "DXS = Reaction('DXS')\n",
    "DXS.name = '1-deoxy-D-xylulose synthase'\n",
    "DXS.add_metabolites({\n",
    "    Glycolaldehyde: -1.0,\n",
    "    Hydroxyacetone: -1.0,\n",
    "    Deoxyxylulose: 1.0\n",
    "})\n",
    "DXS.gene_reaction_rule = 'b0825'\n",
    "DXS.reaction\n",
    "#DXS.check_mass_balance\n",
    "\n",
    "\n",
    "with eco as a:\n",
    "    print a.optimize()\n",
    "    a.reactions.DXPS.upper_bound = 0\n",
    "    print a.optimize()\n",
    "    a.add_reaction(DXS)\n",
    "    print a.optimize()"
   ]
  },
  {
   "cell_type": "code",
   "execution_count": 19,
   "metadata": {},
   "outputs": [
    {
     "data": {
      "text/plain": [
       "1000.0"
      ]
     },
     "execution_count": 19,
     "metadata": {},
     "output_type": "execute_result"
    }
   ],
   "source": [
    "eco.reactions.DXPS.upper_bound"
   ]
  },
  {
   "cell_type": "code",
   "execution_count": 21,
   "metadata": {},
   "outputs": [
    {
     "name": "stdout",
     "output_type": "stream",
     "text": [
      "<Solution 0.982 at 0x7f8151de3cd0>\n",
      "<Solution -0.000 at 0x7f8151de3d10>\n"
     ]
    }
   ],
   "source": [
    "with eco:\n",
    "    print eco.optimize()\n",
    "    eco.genes.b1415.knock_out()\n",
    "    print eco.optimize()"
   ]
  },
  {
   "cell_type": "code",
   "execution_count": null,
   "metadata": {},
   "outputs": [],
   "source": [
    "#pdxA (4-hydroxythreonine-4-phosphate dehydrogenase)\n",
    "\n",
    "    "
   ]
  },
  {
   "cell_type": "code",
   "execution_count": 17,
   "metadata": {},
   "outputs": [
    {
     "data": {
      "text/plain": [
       "{}"
      ]
     },
     "execution_count": 17,
     "metadata": {},
     "output_type": "execute_result"
    }
   ],
   "source": [
    "#dxs (1-deoxyxylulose-5-phosphate synthase)\n",
    "Phosphohydroxypyruvate = eco.metabolites.get_by_id('3php_c')\n",
    "Hydroxypyruvate = eco.metabolites.get_by_id('hpyr_c')\n",
    "Phosphate = eco.metabolites.get_by_id('pi_c')\n",
    "Water = eco.metabolites.get_by_id('h2o_c')\n",
    "\n",
    "#Promiscuous 3-phosphohydroxypyruvate decarboxylation\n",
    "PHDPC = Reaction('PHDPC_prom')\n",
    "PHDPC.name = '3-Phosphohydroxypyruvate decarboxylation'\n",
    "PHDPC.add_metabolites({\n",
    "    Phosphohydroxypyruvate: -1.0,\n",
    "    Water: -1.0,\n",
    "    Hydroxypyruvate: 1.0,\n",
    "    Phosphate: 1.0\n",
    "})\n",
    "PHDPC.gene_reaction_rule = ' ( b0420 or b0726 ) '"
   ]
  },
  {
   "cell_type": "code",
   "execution_count": null,
   "metadata": {},
   "outputs": [],
   "source": [
    "#sucA ()\n",
    "\n"
   ]
  },
  {
   "cell_type": "code",
   "execution_count": 23,
   "metadata": {},
   "outputs": [],
   "source": [
    "#thrB (Homoserine Kinase)\n",
    "Hydroxythreonine = eco.metabolites.get_by_id('4hthr_c')\n",
    "ATP = eco.metabolites.get_by_id('atp_c')\n",
    "ADP = eco.metabolites.get_by_id('adp_c')\n",
    "Phosphooxythreonine = eco.metabolites.get_by_id('phthr_c')\n",
    "Hydrogen = eco.metabolites.get_by_id('h_c')\n",
    "\n",
    "#promiscuous 4-hydroxy-L-threonine phosphorylation\n",
    "HTHRP = Reaction('HTHRP_prom')\n",
    "HTHRP.name = '4-hydroxy-L-threonine phosphorylation'\n",
    "HTHRP.add_metabolites({\n",
    "    Hydroxythreonine: -1.0,\n",
    "    ATP: -1.0,\n",
    "    Phosphooxythreonine: 1.0,\n",
    "    ADP: 1.0,\n",
    "    Hydrogen: 1.0\n",
    "})\n",
    "HTHRP.check_mass_balance()\n",
    "HTHRP.gene_reaction_rule = 'b0003'\n"
   ]
  },
  {
   "cell_type": "code",
   "execution_count": null,
   "metadata": {},
   "outputs": [],
   "source": [
    "#argE (acetylornithine transferase)\n",
    "\n",
    "N-acetylornithine = eco.metabolites.get_by_id('acg5sa_c')\n"
   ]
  },
  {
   "cell_type": "code",
   "execution_count": null,
   "metadata": {},
   "outputs": [],
   "source": [
    "#purF"
   ]
  },
  {
   "cell_type": "code",
   "execution_count": null,
   "metadata": {},
   "outputs": [],
   "source": [
    "#proA"
   ]
  },
  {
   "cell_type": "code",
   "execution_count": 26,
   "metadata": {},
   "outputs": [
    {
     "name": "stdout",
     "output_type": "stream",
     "text": [
      "bli bli bli\n"
     ]
    }
   ],
   "source": [
    "#ulaG\n",
    "# hay que representar CMP cíclico romper enlaace fosfodiester\n",
    "try:\n",
    "    eco.metabolites.get_by_id('cmp_c')\n",
    "except:\n",
    "    print \"bli bli bli\""
   ]
  },
  {
   "cell_type": "code",
   "execution_count": 28,
   "metadata": {},
   "outputs": [
    {
     "data": {
      "text/html": [
       "\n",
       "        <table>\n",
       "            <tr>\n",
       "                <td><strong>Reaction identifier</strong></td><td>PGM</td>\n",
       "            </tr><tr>\n",
       "                <td><strong>Name</strong></td><td>phosphoglycerate mutase</td>\n",
       "            </tr><tr>\n",
       "                <td><strong>Memory address</strong></td>\n",
       "                <td>0x07faa187f5c10</td>\n",
       "            </tr><tr>\n",
       "                <td><strong>Stoichiometry</strong></td>\n",
       "                <td>\n",
       "                    <p style='text-align:right'>2pg_c <=> 3pg_c</p>\n",
       "                    <p style='text-align:right'>D-Glycerate 2-phosphate <=> 3-Phospho-D-glycerate</p>\n",
       "                </td>\n",
       "            </tr><tr>\n",
       "                <td><strong>GPR</strong></td><td>b3612 or b4395 or b0755</td>\n",
       "            </tr><tr>\n",
       "                <td><strong>Lower bound</strong></td><td>-1000.0</td>\n",
       "            </tr><tr>\n",
       "                <td><strong>Upper bound</strong></td><td>1000.0</td>\n",
       "            </tr>\n",
       "        </table>\n",
       "        "
      ],
      "text/plain": [
       "<Reaction PGM at 0x7faa187f5c10>"
      ]
     },
     "execution_count": 28,
     "metadata": {},
     "output_type": "execute_result"
    }
   ],
   "source": [
    "eco.reactions.get_by_id('PGM')\n"
   ]
  },
  {
   "cell_type": "code",
   "execution_count": 29,
   "metadata": {},
   "outputs": [
    {
     "data": {
      "text/html": [
       "\n",
       "        <table>\n",
       "            <tr>\n",
       "                <td><strong>Gene identifier</strong></td><td>b4388</td>\n",
       "            </tr><tr>\n",
       "                <td><strong>Name</strong></td><td>b4388</td>\n",
       "            </tr><tr>\n",
       "                <td><strong>Memory address</strong></td>\n",
       "                <td>0x07faa18f3ad10</td>\n",
       "            </tr><tr>\n",
       "                <td><strong>Functional</strong></td><td>True</td>\n",
       "            </tr><tr>\n",
       "                <td><strong>In 1 reaction(s)</strong></td><td>\n",
       "                    PSP_L</td>\n",
       "            </tr>\n",
       "        </table>"
      ],
      "text/plain": [
       "<Gene b4388 at 0x7faa18f3ad10>"
      ]
     },
     "execution_count": 29,
     "metadata": {},
     "output_type": "execute_result"
    }
   ],
   "source": [
    "eco.genes.get_by_id('b4388')"
   ]
  },
  {
   "cell_type": "code",
   "execution_count": 35,
   "metadata": {},
   "outputs": [
    {
     "data": {
      "text/html": [
       "\n",
       "        <table>\n",
       "            <tr>\n",
       "                <td><strong>Reaction identifier</strong></td><td>PSP_L</td>\n",
       "            </tr><tr>\n",
       "                <td><strong>Name</strong></td><td>phosphoserine phosphatase (L-serine)</td>\n",
       "            </tr><tr>\n",
       "                <td><strong>Memory address</strong></td>\n",
       "                <td>0x07faa18771e90</td>\n",
       "            </tr><tr>\n",
       "                <td><strong>Stoichiometry</strong></td>\n",
       "                <td>\n",
       "                    <p style='text-align:right'>h2o_c + pser__L_c --> pi_c + ser__L_c</p>\n",
       "                    <p style='text-align:right'>H2O + O-Phospho-L-serine --> Phosphate + L-Serine</p>\n",
       "                </td>\n",
       "            </tr><tr>\n",
       "                <td><strong>GPR</strong></td><td>b4388</td>\n",
       "            </tr><tr>\n",
       "                <td><strong>Lower bound</strong></td><td>0.0</td>\n",
       "            </tr><tr>\n",
       "                <td><strong>Upper bound</strong></td><td>1000.0</td>\n",
       "            </tr>\n",
       "        </table>\n",
       "        "
      ],
      "text/plain": [
       "<Reaction PSP_L at 0x7faa18771e90>"
      ]
     },
     "execution_count": 35,
     "metadata": {},
     "output_type": "execute_result"
    }
   ],
   "source": [
    "eco.reactions.get_by_id('PSP_L')"
   ]
  },
  {
   "cell_type": "code",
   "execution_count": null,
   "metadata": {},
   "outputs": [],
   "source": []
  }
 ],
 "metadata": {
  "kernelspec": {
   "display_name": "Python 2",
   "language": "python",
   "name": "python2"
  },
  "language_info": {
   "codemirror_mode": {
    "name": "ipython",
    "version": 2
   },
   "file_extension": ".py",
   "mimetype": "text/x-python",
   "name": "python",
   "nbconvert_exporter": "python",
   "pygments_lexer": "ipython2",
   "version": "2.7.12"
  }
 },
 "nbformat": 4,
 "nbformat_minor": 2
}
